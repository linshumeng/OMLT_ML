{
 "cells": [
  {
   "cell_type": "code",
   "execution_count": 24,
   "metadata": {},
   "outputs": [],
   "source": [
    "import lightgbm as lgb\n",
    "import numpy as np\n",
    "import matplotlib.pyplot as plt\n",
    "import pandas as pd\n",
    "from sklearn.model_selection import train_test_split\n",
    "from sklearn.metrics import mean_squared_error\n",
    "from sklearn.linear_model import LinearRegression"
   ]
  },
  {
   "cell_type": "code",
   "execution_count": 25,
   "metadata": {},
   "outputs": [
    {
     "data": {
      "text/html": [
       "<div>\n",
       "<style scoped>\n",
       "    .dataframe tbody tr th:only-of-type {\n",
       "        vertical-align: middle;\n",
       "    }\n",
       "\n",
       "    .dataframe tbody tr th {\n",
       "        vertical-align: top;\n",
       "    }\n",
       "\n",
       "    .dataframe thead th {\n",
       "        text-align: right;\n",
       "    }\n",
       "</style>\n",
       "<table border=\"1\" class=\"dataframe\">\n",
       "  <thead>\n",
       "    <tr style=\"text-align: right;\">\n",
       "      <th></th>\n",
       "      <th>theta</th>\n",
       "      <th>z</th>\n",
       "      <th>u</th>\n",
       "    </tr>\n",
       "  </thead>\n",
       "  <tbody>\n",
       "    <tr>\n",
       "      <th>0</th>\n",
       "      <td>-20.0</td>\n",
       "      <td>-6.08</td>\n",
       "      <td>-3.92</td>\n",
       "    </tr>\n",
       "    <tr>\n",
       "      <th>1</th>\n",
       "      <td>-19.5</td>\n",
       "      <td>-5.58</td>\n",
       "      <td>-4.42</td>\n",
       "    </tr>\n",
       "    <tr>\n",
       "      <th>2</th>\n",
       "      <td>-19.1</td>\n",
       "      <td>-5.13</td>\n",
       "      <td>-4.87</td>\n",
       "    </tr>\n",
       "    <tr>\n",
       "      <th>3</th>\n",
       "      <td>-18.6</td>\n",
       "      <td>-4.71</td>\n",
       "      <td>-5.29</td>\n",
       "    </tr>\n",
       "    <tr>\n",
       "      <th>4</th>\n",
       "      <td>-18.1</td>\n",
       "      <td>-4.32</td>\n",
       "      <td>-5.68</td>\n",
       "    </tr>\n",
       "  </tbody>\n",
       "</table>\n",
       "</div>"
      ],
      "text/plain": [
       "   theta     z     u\n",
       "0  -20.0 -6.08 -3.92\n",
       "1  -19.5 -5.58 -4.42\n",
       "2  -19.1 -5.13 -4.87\n",
       "3  -18.6 -4.71 -5.29\n",
       "4  -18.1 -4.32 -5.68"
      ]
     },
     "execution_count": 25,
     "metadata": {},
     "output_type": "execute_result"
    }
   ],
   "source": [
    "df = pd.read_csv(\"..\\OMLT_ML\\data\\polynomial3.csv\")\n",
    "df.head()"
   ]
  },
  {
   "cell_type": "code",
   "execution_count": 26,
   "metadata": {},
   "outputs": [
    {
     "data": {
      "text/plain": [
       "((180, 1), (180, 1))"
      ]
     },
     "execution_count": 26,
     "metadata": {},
     "output_type": "execute_result"
    }
   ],
   "source": [
    "X = df[\"theta\"]\n",
    "y = df[\"z\"]\n",
    "X = X.to_numpy().reshape(-1, 1)\n",
    "y = y.to_numpy().reshape(-1, 1)\n",
    "X.shape, y.shape"
   ]
  },
  {
   "cell_type": "code",
   "execution_count": 27,
   "metadata": {},
   "outputs": [],
   "source": [
    "X_train, X_test, y_train, y_test = train_test_split(X, y, test_size=0.2, random_state=42)\n",
    "\n",
    "train_data_linear = lgb.Dataset(X_train, label=y_train, params = {'linear_tree': True,})\n",
    "train_data_normal = lgb.Dataset(X_train, label=y_train, params = {'linear_tree': False,})"
   ]
  },
  {
   "cell_type": "code",
   "execution_count": 28,
   "metadata": {},
   "outputs": [
    {
     "name": "stderr",
     "output_type": "stream",
     "text": [
      "c:\\Users\\yufengq\\anaconda3\\envs\\py39\\lib\\site-packages\\lightgbm\\engine.py:177: UserWarning: Found `num_iterations` in params. Will use it instead of argument\n",
      "  _log_warning(f\"Found `{alias}` in params. Will use it instead of argument\")\n",
      "c:\\Users\\yufengq\\anaconda3\\envs\\py39\\lib\\site-packages\\lightgbm\\basic.py:179: UserWarning: Converting column-vector to 1d array\n",
      "  _log_warning('Converting column-vector to 1d array')\n"
     ]
    }
   ],
   "source": [
    "params = {\n",
    "    \"objective\": \"regression\",\n",
    "    \"metric\": \"rmse\",\n",
    "    \"learning_rate\": 0.2,\n",
    "    \"verbosity\": -1,\n",
    "    'num_iterations': 4,\n",
    "}\n",
    "\n",
    "model_linear = lgb.train(params, train_data_linear)\n",
    "model_normal = lgb.train(params, train_data_normal)"
   ]
  },
  {
   "cell_type": "code",
   "execution_count": 29,
   "metadata": {},
   "outputs": [
    {
     "name": "stdout",
     "output_type": "stream",
     "text": [
      "Linear trees error: 3.84\n",
      "Normal trees error: 4.056\n"
     ]
    }
   ],
   "source": [
    "y_pred_linear = model_linear.predict(X_test)\n",
    "print(\n",
    "    f\"Linear trees error: {round(mean_squared_error(y_test, y_pred_linear),3)}\")\n",
    "y_pred_normal = model_normal.predict(X_test)\n",
    "print(\n",
    "    f\"Normal trees error: {round(mean_squared_error(y_test, y_pred_normal),3)}\")\n",
    "y_linear = model_linear.predict(X)\n",
    "y_normal = model_normal.predict(X)"
   ]
  },
  {
   "cell_type": "code",
   "execution_count": 30,
   "metadata": {},
   "outputs": [
    {
     "data": {
      "image/png": "[encoded data removed]",
      "text/plain": [
       "<Figure size 432x288 with 1 Axes>"
      ]
     },
     "metadata": {
      "needs_background": "light"
     },
     "output_type": "display_data"
    }
   ],
   "source": [
    "# plotting results\n",
    "plt.scatter(X, y, label = 'z (original data)')\n",
    "plt.scatter(X, y_linear, label = 'z (linear)')\n",
    "plt.scatter(X, y_normal, label = 'z (normal)')\n",
    "plt.ylabel('z')\n",
    "plt.xlabel('theta')\n",
    "plt.legend()\n",
    "plt.show()"
   ]
  },
  {
   "attachments": {},
   "cell_type": "markdown",
   "metadata": {},
   "source": [
    "# Threshold"
   ]
  },
  {
   "cell_type": "code",
   "execution_count": 31,
   "metadata": {},
   "outputs": [
    {
     "name": "stdout",
     "output_type": "stream",
     "text": [
      "{'objective': 'regression', 'metric': 'rmse', 'learning_rate': 0.2, 'verbosity': -1, 'num_iterations': 4, 'early_stopping_round': None, 'linear_tree': True}\n"
     ]
    },
    {
     "data": {
      "text/plain": [
       "<lightgbm.basic.Booster at 0x1d7495c6940>"
      ]
     },
     "execution_count": 31,
     "metadata": {},
     "output_type": "execute_result"
    }
   ],
   "source": [
    "print(model_linear.params)\n",
    "model_linear.save_model('./output/model_observation_linear.txt')\n",
    "model_normal.save_model('./output/model_observation_normal.txt')"
   ]
  },
  {
   "attachments": {},
   "cell_type": "markdown",
   "metadata": {},
   "source": [
    "the linear tree and the normal tree have different threshold."
   ]
  },
  {
   "attachments": {},
   "cell_type": "markdown",
   "metadata": {},
   "source": [
    "# Split and then fit"
   ]
  },
  {
   "cell_type": "code",
   "execution_count": 32,
   "metadata": {},
   "outputs": [
    {
     "data": {
      "image/svg+xml": "<?xml version=\"1.0\" encoding=\"UTF-8\" standalone=\"no\"?>\n<!DOCTYPE svg PUBLIC \"-//W3C//DTD SVG 1.1//EN\"\n \"http://www.w3.org/Graphics/SVG/1.1/DTD/svg11.dtd\">\n<!-- Generated by graphviz version 2.50.0 (0)\n -->\n<!-- Pages: 1 -->\n<svg width=\"624pt\" height=\"184pt\"\n viewBox=\"0.00 0.00 623.79 184.00\" xmlns=\"http://www.w3.org/2000/svg\" xmlns:xlink=\"http://www.w3.org/1999/xlink\">\n<g id=\"graph0\" class=\"graph\" transform=\"scale(1 1) rotate(0) translate(4 180)\">\n<polygon fill=\"white\" stroke=\"transparent\" points=\"-4,4 -4,-180 619.79,-180 619.79,4 -4,4\"/>\n<!-- split0 -->\n<g id=\"node1\" class=\"node\">\n<title>split0</title>\n<polygon fill=\"none\" stroke=\"black\" points=\"127,-116 0,-116 0,-80 127,-80 127,-116\"/>\n<text text-anchor=\"start\" x=\"8\" y=\"-95.3\" font-family=\"Times New Roman,serif\" font-weight=\"bold\" font-size=\"14.00\">Column_0</text>\n<text text-anchor=\"start\" x=\"69\" y=\"-95.3\" font-family=\"Times New Roman,serif\" font-size=\"14.00\"> ≤</text>\n<text text-anchor=\"start\" x=\"81\" y=\"-95.3\" font-family=\"Times New Roman,serif\" font-weight=\"bold\" font-size=\"14.00\">17.050</text>\n</g>\n<!-- split2 -->\n<g id=\"node2\" class=\"node\">\n<title>split2</title>\n<polygon fill=\"none\" stroke=\"black\" points=\"294,-136 169,-136 169,-100 294,-100 294,-136\"/>\n<text text-anchor=\"start\" x=\"177\" y=\"-115.3\" font-family=\"Times New Roman,serif\" font-weight=\"bold\" font-size=\"14.00\">Column_0</text>\n<text text-anchor=\"start\" x=\"238\" y=\"-115.3\" font-family=\"Times New Roman,serif\" font-size=\"14.00\"> ≤</text>\n<text text-anchor=\"start\" x=\"250\" y=\"-115.3\" font-family=\"Times New Roman,serif\" font-weight=\"bold\" font-size=\"14.00\">&#45;7.415</text>\n</g>\n<!-- split0&#45;&gt;split2 -->\n<g id=\"edge3\" class=\"edge\">\n<title>split0&#45;&gt;split2</title>\n<path fill=\"none\" stroke=\"black\" d=\"M127.26,-105.56C137.55,-106.8 148.3,-108.1 158.79,-109.36\"/>\n<polygon fill=\"black\" stroke=\"black\" points=\"158.41,-112.84 168.75,-110.56 159.24,-105.89 158.41,-112.84\"/>\n<text text-anchor=\"middle\" x=\"147.5\" y=\"-111.8\" font-family=\"Times New Roman,serif\" font-size=\"14.00\">yes</text>\n</g>\n<!-- split1 -->\n<g id=\"node5\" class=\"node\">\n<title>split1</title>\n<polygon fill=\"none\" stroke=\"black\" points=\"295,-96 168,-96 168,-60 295,-60 295,-96\"/>\n<text text-anchor=\"start\" x=\"176\" y=\"-75.3\" font-family=\"Times New Roman,serif\" font-weight=\"bold\" font-size=\"14.00\">Column_0</text>\n<text text-anchor=\"start\" x=\"237\" y=\"-75.3\" font-family=\"Times New Roman,serif\" font-size=\"14.00\"> ≤</text>\n<text text-anchor=\"start\" x=\"249\" y=\"-75.3\" font-family=\"Times New Roman,serif\" font-weight=\"bold\" font-size=\"14.00\">39.600</text>\n</g>\n<!-- split0&#45;&gt;split1 -->\n<g id=\"edge8\" class=\"edge\">\n<title>split0&#45;&gt;split1</title>\n<path fill=\"none\" stroke=\"black\" d=\"M127.26,-90.44C137.24,-89.24 147.64,-87.98 157.83,-86.76\"/>\n<polygon fill=\"black\" stroke=\"black\" points=\"158.42,-90.21 167.93,-85.54 157.58,-83.26 158.42,-90.21\"/>\n<text text-anchor=\"middle\" x=\"147.5\" y=\"-91.8\" font-family=\"Times New Roman,serif\" font-size=\"14.00\">no</text>\n</g>\n<!-- leaf0 -->\n<g id=\"node3\" class=\"node\">\n<title>leaf0</title>\n<ellipse fill=\"none\" stroke=\"black\" cx=\"399.5\" cy=\"-158\" rx=\"55.79\" ry=\"18\"/>\n<text text-anchor=\"start\" x=\"364.5\" y=\"-155.3\" font-family=\"Times New Roman,serif\" font-size=\"14.00\">leaf 0: </text>\n<text text-anchor=\"start\" x=\"403.5\" y=\"-155.3\" font-family=\"Times New Roman,serif\" font-weight=\"bold\" font-size=\"14.00\">2.184</text>\n</g>\n<!-- split2&#45;&gt;leaf0 -->\n<g id=\"edge1\" class=\"edge\">\n<title>split2&#45;&gt;leaf0</title>\n<path fill=\"none\" stroke=\"black\" d=\"M294.31,-132.89C310.8,-136.87 328.49,-141.13 344.52,-144.99\"/>\n<polygon fill=\"black\" stroke=\"black\" points=\"343.72,-148.4 354.26,-147.34 345.36,-141.59 343.72,-148.4\"/>\n<text text-anchor=\"middle\" x=\"315.5\" y=\"-142.8\" font-family=\"Times New Roman,serif\" font-size=\"14.00\">yes</text>\n</g>\n<!-- leaf3 -->\n<g id=\"node4\" class=\"node\">\n<title>leaf3</title>\n<ellipse fill=\"none\" stroke=\"black\" cx=\"399.5\" cy=\"-118\" rx=\"55.79\" ry=\"18\"/>\n<text text-anchor=\"start\" x=\"364.5\" y=\"-115.3\" font-family=\"Times New Roman,serif\" font-size=\"14.00\">leaf 3: </text>\n<text text-anchor=\"start\" x=\"403.5\" y=\"-115.3\" font-family=\"Times New Roman,serif\" font-weight=\"bold\" font-size=\"14.00\">2.502</text>\n</g>\n<!-- split2&#45;&gt;leaf3 -->\n<g id=\"edge2\" class=\"edge\">\n<title>split2&#45;&gt;leaf3</title>\n<path fill=\"none\" stroke=\"black\" d=\"M294.31,-118C307.04,-118 320.48,-118 333.33,-118\"/>\n<polygon fill=\"black\" stroke=\"black\" points=\"333.47,-121.5 343.47,-118 333.47,-114.5 333.47,-121.5\"/>\n<text text-anchor=\"middle\" x=\"315.5\" y=\"-121.8\" font-family=\"Times New Roman,serif\" font-size=\"14.00\">no</text>\n</g>\n<!-- leaf1 -->\n<g id=\"node6\" class=\"node\">\n<title>leaf1</title>\n<ellipse fill=\"none\" stroke=\"black\" cx=\"399.5\" cy=\"-78\" rx=\"55.79\" ry=\"18\"/>\n<text text-anchor=\"start\" x=\"364.5\" y=\"-75.3\" font-family=\"Times New Roman,serif\" font-size=\"14.00\">leaf 1: </text>\n<text text-anchor=\"start\" x=\"403.5\" y=\"-75.3\" font-family=\"Times New Roman,serif\" font-weight=\"bold\" font-size=\"14.00\">3.762</text>\n</g>\n<!-- split1&#45;&gt;leaf1 -->\n<g id=\"edge4\" class=\"edge\">\n<title>split1&#45;&gt;leaf1</title>\n<path fill=\"none\" stroke=\"black\" d=\"M295.26,-78C307.67,-78 320.72,-78 333.21,-78\"/>\n<polygon fill=\"black\" stroke=\"black\" points=\"333.54,-81.5 343.54,-78 333.54,-74.5 333.54,-81.5\"/>\n<text text-anchor=\"middle\" x=\"315.5\" y=\"-81.8\" font-family=\"Times New Roman,serif\" font-size=\"14.00\">yes</text>\n</g>\n<!-- split3 -->\n<g id=\"node7\" class=\"node\">\n<title>split3</title>\n<polygon fill=\"none\" stroke=\"black\" points=\"463,-56 336,-56 336,-20 463,-20 463,-56\"/>\n<text text-anchor=\"start\" x=\"344\" y=\"-35.3\" font-family=\"Times New Roman,serif\" font-weight=\"bold\" font-size=\"14.00\">Column_0</text>\n<text text-anchor=\"start\" x=\"405\" y=\"-35.3\" font-family=\"Times New Roman,serif\" font-size=\"14.00\"> ≤</text>\n<text text-anchor=\"start\" x=\"417\" y=\"-35.3\" font-family=\"Times New Roman,serif\" font-weight=\"bold\" font-size=\"14.00\">52.650</text>\n</g>\n<!-- split1&#45;&gt;split3 -->\n<g id=\"edge7\" class=\"edge\">\n<title>split1&#45;&gt;split3</title>\n<path fill=\"none\" stroke=\"black\" d=\"M295.26,-62.88C305.35,-60.45 315.86,-57.91 326.15,-55.43\"/>\n<polygon fill=\"black\" stroke=\"black\" points=\"327.03,-58.82 335.93,-53.08 325.39,-52.02 327.03,-58.82\"/>\n<text text-anchor=\"middle\" x=\"315.5\" y=\"-62.8\" font-family=\"Times New Roman,serif\" font-size=\"14.00\">no</text>\n</g>\n<!-- leaf2 -->\n<g id=\"node8\" class=\"node\">\n<title>leaf2</title>\n<ellipse fill=\"none\" stroke=\"black\" cx=\"559.9\" cy=\"-58\" rx=\"55.79\" ry=\"18\"/>\n<text text-anchor=\"start\" x=\"524.9\" y=\"-55.3\" font-family=\"Times New Roman,serif\" font-size=\"14.00\">leaf 2: </text>\n<text text-anchor=\"start\" x=\"563.9\" y=\"-55.3\" font-family=\"Times New Roman,serif\" font-weight=\"bold\" font-size=\"14.00\">4.221</text>\n</g>\n<!-- split3&#45;&gt;leaf2 -->\n<g id=\"edge5\" class=\"edge\">\n<title>split3&#45;&gt;leaf2</title>\n<path fill=\"none\" stroke=\"black\" d=\"M463.1,-45.9C474.36,-47.33 486.08,-48.81 497.31,-50.22\"/>\n<polygon fill=\"black\" stroke=\"black\" points=\"497.09,-53.72 507.45,-51.5 497.97,-46.78 497.09,-53.72\"/>\n<text text-anchor=\"middle\" x=\"483.5\" y=\"-52.8\" font-family=\"Times New Roman,serif\" font-size=\"14.00\">yes</text>\n</g>\n<!-- leaf4 -->\n<g id=\"node9\" class=\"node\">\n<title>leaf4</title>\n<ellipse fill=\"none\" stroke=\"black\" cx=\"559.9\" cy=\"-18\" rx=\"55.79\" ry=\"18\"/>\n<text text-anchor=\"start\" x=\"524.9\" y=\"-15.3\" font-family=\"Times New Roman,serif\" font-size=\"14.00\">leaf 4: </text>\n<text text-anchor=\"start\" x=\"563.9\" y=\"-15.3\" font-family=\"Times New Roman,serif\" font-weight=\"bold\" font-size=\"14.00\">4.552</text>\n</g>\n<!-- split3&#45;&gt;leaf4 -->\n<g id=\"edge6\" class=\"edge\">\n<title>split3&#45;&gt;leaf4</title>\n<path fill=\"none\" stroke=\"black\" d=\"M463.1,-30.1C474.36,-28.67 486.08,-27.19 497.31,-25.78\"/>\n<polygon fill=\"black\" stroke=\"black\" points=\"497.97,-29.22 507.45,-24.5 497.09,-22.28 497.97,-29.22\"/>\n<text text-anchor=\"middle\" x=\"483.5\" y=\"-31.8\" font-family=\"Times New Roman,serif\" font-size=\"14.00\">no</text>\n</g>\n</g>\n</svg>\n",
      "text/plain": [
       "<graphviz.graphs.Digraph at 0x1d74b7367c0>"
      ]
     },
     "execution_count": 32,
     "metadata": {},
     "output_type": "execute_result"
    }
   ],
   "source": [
    "import os\n",
    "os.environ[\"PATH\"] += os.pathsep + 'C:\\Program Files\\Graphviz\\\\bin'\n",
    "# lgb.plot_tree(model_linear)\n",
    "# for i in range(params['num_iterations']):\n",
    "# p = lgb.create_tree_digraph(model_linear, params['num_iterations'] - 1)\n",
    "p = lgb.create_tree_digraph(model_linear, 0)\n",
    "p"
   ]
  },
  {
   "cell_type": "code",
   "execution_count": 33,
   "metadata": {},
   "outputs": [],
   "source": [
    "# I use a lazy way to compute the value of the first tree\n",
    "bin_1, bin_2, bin_3, bin_4, bin_5 = [], [], [], [], []\n",
    "for i in range(len(X_train)):\n",
    "    if X_train[i] <= -7.415:\n",
    "        bin_1.append(y_train[i])\n",
    "    elif -7.415 <= X_train[i] <= 17.050:\n",
    "        bin_2.append(y_train[i])\n",
    "    elif 17.050 <= X_train[i] <= 39.6:\n",
    "        bin_3.append(y_train[i])\n",
    "    elif 39.6 <= X_train[i] <= 52.65:\n",
    "        bin_4.append(y_train[i])\n",
    "    else:\n",
    "        bin_5.append(y_train[i])\n",
    "\n",
    "avg_1, avg_2, avg_3, avg_4, avg_5 = np.average(bin_1), np.average(bin_2), np.average(bin_3), np.average(bin_4), np.average(bin_5)\n",
    "for i in range(len(X_train)):\n",
    "    if X_train[i] <= -7.415:\n",
    "        y_train[i] -= avg_1\n",
    "    elif -7.415 <= X_train[i] <= 17.050:\n",
    "        y_train[i] -= avg_2\n",
    "    elif 17.050 <= X_train[i] <= 39.6:\n",
    "        y_train[i] -= avg_3\n",
    "    elif 39.6 <= X_train[i] <= 52.65:\n",
    "        y_train[i] -= avg_4\n",
    "    else:\n",
    "        y_train[i] -= avg_5"
   ]
  },
  {
   "cell_type": "code",
   "execution_count": 34,
   "metadata": {},
   "outputs": [
    {
     "data": {
      "image/svg+xml": "<?xml version=\"1.0\" encoding=\"UTF-8\" standalone=\"no\"?>\n<!DOCTYPE svg PUBLIC \"-//W3C//DTD SVG 1.1//EN\"\n \"http://www.w3.org/Graphics/SVG/1.1/DTD/svg11.dtd\">\n<!-- Generated by graphviz version 2.50.0 (0)\n -->\n<!-- Pages: 1 -->\n<svg width=\"624pt\" height=\"184pt\"\n viewBox=\"0.00 0.00 623.79 184.00\" xmlns=\"http://www.w3.org/2000/svg\" xmlns:xlink=\"http://www.w3.org/1999/xlink\">\n<g id=\"graph0\" class=\"graph\" transform=\"scale(1 1) rotate(0) translate(4 180)\">\n<polygon fill=\"white\" stroke=\"transparent\" points=\"-4,4 -4,-180 619.79,-180 619.79,4 -4,4\"/>\n<!-- split0 -->\n<g id=\"node1\" class=\"node\">\n<title>split0</title>\n<polygon fill=\"none\" stroke=\"black\" points=\"127,-116 0,-116 0,-80 127,-80 127,-116\"/>\n<text text-anchor=\"start\" x=\"8\" y=\"-95.3\" font-family=\"Times New Roman,serif\" font-weight=\"bold\" font-size=\"14.00\">Column_0</text>\n<text text-anchor=\"start\" x=\"69\" y=\"-95.3\" font-family=\"Times New Roman,serif\" font-size=\"14.00\"> ≤</text>\n<text text-anchor=\"start\" x=\"81\" y=\"-95.3\" font-family=\"Times New Roman,serif\" font-weight=\"bold\" font-size=\"14.00\">15.350</text>\n</g>\n<!-- split2 -->\n<g id=\"node2\" class=\"node\">\n<title>split2</title>\n<polygon fill=\"none\" stroke=\"black\" points=\"291.5,-136 171.5,-136 171.5,-100 291.5,-100 291.5,-136\"/>\n<text text-anchor=\"start\" x=\"179.5\" y=\"-115.3\" font-family=\"Times New Roman,serif\" font-weight=\"bold\" font-size=\"14.00\">Column_0</text>\n<text text-anchor=\"start\" x=\"240.5\" y=\"-115.3\" font-family=\"Times New Roman,serif\" font-size=\"14.00\"> ≤</text>\n<text text-anchor=\"start\" x=\"252.5\" y=\"-115.3\" font-family=\"Times New Roman,serif\" font-weight=\"bold\" font-size=\"14.00\">2.080</text>\n</g>\n<!-- split0&#45;&gt;split2 -->\n<g id=\"edge3\" class=\"edge\">\n<title>split0&#45;&gt;split2</title>\n<path fill=\"none\" stroke=\"black\" d=\"M127.26,-105.56C138.36,-106.9 149.99,-108.3 161.26,-109.66\"/>\n<polygon fill=\"black\" stroke=\"black\" points=\"161.14,-113.17 171.49,-110.89 161.98,-106.22 161.14,-113.17\"/>\n<text text-anchor=\"middle\" x=\"147.5\" y=\"-111.8\" font-family=\"Times New Roman,serif\" font-size=\"14.00\">yes</text>\n</g>\n<!-- split1 -->\n<g id=\"node5\" class=\"node\">\n<title>split1</title>\n<polygon fill=\"none\" stroke=\"black\" points=\"295,-96 168,-96 168,-60 295,-60 295,-96\"/>\n<text text-anchor=\"start\" x=\"176\" y=\"-75.3\" font-family=\"Times New Roman,serif\" font-weight=\"bold\" font-size=\"14.00\">Column_0</text>\n<text text-anchor=\"start\" x=\"237\" y=\"-75.3\" font-family=\"Times New Roman,serif\" font-size=\"14.00\"> ≤</text>\n<text text-anchor=\"start\" x=\"249\" y=\"-75.3\" font-family=\"Times New Roman,serif\" font-weight=\"bold\" font-size=\"14.00\">35.350</text>\n</g>\n<!-- split0&#45;&gt;split1 -->\n<g id=\"edge8\" class=\"edge\">\n<title>split0&#45;&gt;split1</title>\n<path fill=\"none\" stroke=\"black\" d=\"M127.26,-90.44C137.24,-89.24 147.64,-87.98 157.83,-86.76\"/>\n<polygon fill=\"black\" stroke=\"black\" points=\"158.42,-90.21 167.93,-85.54 157.58,-83.26 158.42,-90.21\"/>\n<text text-anchor=\"middle\" x=\"147.5\" y=\"-91.8\" font-family=\"Times New Roman,serif\" font-size=\"14.00\">no</text>\n</g>\n<!-- leaf0 -->\n<g id=\"node3\" class=\"node\">\n<title>leaf0</title>\n<ellipse fill=\"none\" stroke=\"black\" cx=\"399.5\" cy=\"-158\" rx=\"59.29\" ry=\"18\"/>\n<text text-anchor=\"start\" x=\"362\" y=\"-155.3\" font-family=\"Times New Roman,serif\" font-size=\"14.00\">leaf 0: </text>\n<text text-anchor=\"start\" x=\"401\" y=\"-155.3\" font-family=\"Times New Roman,serif\" font-weight=\"bold\" font-size=\"14.00\">&#45;0.456</text>\n</g>\n<!-- split2&#45;&gt;leaf0 -->\n<g id=\"edge1\" class=\"edge\">\n<title>split2&#45;&gt;leaf0</title>\n<path fill=\"none\" stroke=\"black\" d=\"M291.96,-132.33C308.52,-136.32 326.45,-140.64 342.79,-144.58\"/>\n<polygon fill=\"black\" stroke=\"black\" points=\"342.19,-148.03 352.73,-146.97 343.83,-141.23 342.19,-148.03\"/>\n<text text-anchor=\"middle\" x=\"315.5\" y=\"-142.8\" font-family=\"Times New Roman,serif\" font-size=\"14.00\">yes</text>\n</g>\n<!-- leaf3 -->\n<g id=\"node4\" class=\"node\">\n<title>leaf3</title>\n<ellipse fill=\"none\" stroke=\"black\" cx=\"399.5\" cy=\"-118\" rx=\"59.29\" ry=\"18\"/>\n<text text-anchor=\"start\" x=\"362\" y=\"-115.3\" font-family=\"Times New Roman,serif\" font-size=\"14.00\">leaf 3: </text>\n<text text-anchor=\"start\" x=\"401\" y=\"-115.3\" font-family=\"Times New Roman,serif\" font-weight=\"bold\" font-size=\"14.00\">&#45;0.655</text>\n</g>\n<!-- split2&#45;&gt;leaf3 -->\n<g id=\"edge2\" class=\"edge\">\n<title>split2&#45;&gt;leaf3</title>\n<path fill=\"none\" stroke=\"black\" d=\"M291.96,-118C304.37,-118 317.54,-118 330.23,-118\"/>\n<polygon fill=\"black\" stroke=\"black\" points=\"330.29,-121.5 340.29,-118 330.29,-114.5 330.29,-121.5\"/>\n<text text-anchor=\"middle\" x=\"315.5\" y=\"-121.8\" font-family=\"Times New Roman,serif\" font-size=\"14.00\">no</text>\n</g>\n<!-- leaf1 -->\n<g id=\"node6\" class=\"node\">\n<title>leaf1</title>\n<ellipse fill=\"none\" stroke=\"black\" cx=\"399.5\" cy=\"-78\" rx=\"55.79\" ry=\"18\"/>\n<text text-anchor=\"start\" x=\"364.5\" y=\"-75.3\" font-family=\"Times New Roman,serif\" font-size=\"14.00\">leaf 1: </text>\n<text text-anchor=\"start\" x=\"403.5\" y=\"-75.3\" font-family=\"Times New Roman,serif\" font-weight=\"bold\" font-size=\"14.00\">0.153</text>\n</g>\n<!-- split1&#45;&gt;leaf1 -->\n<g id=\"edge4\" class=\"edge\">\n<title>split1&#45;&gt;leaf1</title>\n<path fill=\"none\" stroke=\"black\" d=\"M295.26,-78C307.67,-78 320.72,-78 333.21,-78\"/>\n<polygon fill=\"black\" stroke=\"black\" points=\"333.54,-81.5 343.54,-78 333.54,-74.5 333.54,-81.5\"/>\n<text text-anchor=\"middle\" x=\"315.5\" y=\"-81.8\" font-family=\"Times New Roman,serif\" font-size=\"14.00\">yes</text>\n</g>\n<!-- split3 -->\n<g id=\"node7\" class=\"node\">\n<title>split3</title>\n<polygon fill=\"none\" stroke=\"black\" points=\"463,-56 336,-56 336,-20 463,-20 463,-56\"/>\n<text text-anchor=\"start\" x=\"344\" y=\"-35.3\" font-family=\"Times New Roman,serif\" font-weight=\"bold\" font-size=\"14.00\">Column_0</text>\n<text text-anchor=\"start\" x=\"405\" y=\"-35.3\" font-family=\"Times New Roman,serif\" font-size=\"14.00\"> ≤</text>\n<text text-anchor=\"start\" x=\"417\" y=\"-35.3\" font-family=\"Times New Roman,serif\" font-weight=\"bold\" font-size=\"14.00\">48.850</text>\n</g>\n<!-- split1&#45;&gt;split3 -->\n<g id=\"edge7\" class=\"edge\">\n<title>split1&#45;&gt;split3</title>\n<path fill=\"none\" stroke=\"black\" d=\"M295.26,-62.88C305.35,-60.45 315.86,-57.91 326.15,-55.43\"/>\n<polygon fill=\"black\" stroke=\"black\" points=\"327.03,-58.82 335.93,-53.08 325.39,-52.02 327.03,-58.82\"/>\n<text text-anchor=\"middle\" x=\"315.5\" y=\"-62.8\" font-family=\"Times New Roman,serif\" font-size=\"14.00\">no</text>\n</g>\n<!-- leaf2 -->\n<g id=\"node8\" class=\"node\">\n<title>leaf2</title>\n<ellipse fill=\"none\" stroke=\"black\" cx=\"559.9\" cy=\"-58\" rx=\"55.79\" ry=\"18\"/>\n<text text-anchor=\"start\" x=\"524.9\" y=\"-55.3\" font-family=\"Times New Roman,serif\" font-size=\"14.00\">leaf 2: </text>\n<text text-anchor=\"start\" x=\"563.9\" y=\"-55.3\" font-family=\"Times New Roman,serif\" font-weight=\"bold\" font-size=\"14.00\">0.388</text>\n</g>\n<!-- split3&#45;&gt;leaf2 -->\n<g id=\"edge5\" class=\"edge\">\n<title>split3&#45;&gt;leaf2</title>\n<path fill=\"none\" stroke=\"black\" d=\"M463.1,-45.9C474.36,-47.33 486.08,-48.81 497.31,-50.22\"/>\n<polygon fill=\"black\" stroke=\"black\" points=\"497.09,-53.72 507.45,-51.5 497.97,-46.78 497.09,-53.72\"/>\n<text text-anchor=\"middle\" x=\"483.5\" y=\"-52.8\" font-family=\"Times New Roman,serif\" font-size=\"14.00\">yes</text>\n</g>\n<!-- leaf4 -->\n<g id=\"node9\" class=\"node\">\n<title>leaf4</title>\n<ellipse fill=\"none\" stroke=\"black\" cx=\"559.9\" cy=\"-18\" rx=\"55.79\" ry=\"18\"/>\n<text text-anchor=\"start\" x=\"524.9\" y=\"-15.3\" font-family=\"Times New Roman,serif\" font-size=\"14.00\">leaf 4: </text>\n<text text-anchor=\"start\" x=\"563.9\" y=\"-15.3\" font-family=\"Times New Roman,serif\" font-weight=\"bold\" font-size=\"14.00\">0.584</text>\n</g>\n<!-- split3&#45;&gt;leaf4 -->\n<g id=\"edge6\" class=\"edge\">\n<title>split3&#45;&gt;leaf4</title>\n<path fill=\"none\" stroke=\"black\" d=\"M463.1,-30.1C474.36,-28.67 486.08,-27.19 497.31,-25.78\"/>\n<polygon fill=\"black\" stroke=\"black\" points=\"497.97,-29.22 507.45,-24.5 497.09,-22.28 497.97,-29.22\"/>\n<text text-anchor=\"middle\" x=\"483.5\" y=\"-31.8\" font-family=\"Times New Roman,serif\" font-size=\"14.00\">no</text>\n</g>\n</g>\n</svg>\n",
      "text/plain": [
       "<graphviz.graphs.Digraph at 0x1d74bf58dc0>"
      ]
     },
     "execution_count": 34,
     "metadata": {},
     "output_type": "execute_result"
    }
   ],
   "source": [
    "p = lgb.create_tree_digraph(model_linear, 3)\n",
    "p"
   ]
  },
  {
   "cell_type": "code",
   "execution_count": 35,
   "metadata": {},
   "outputs": [
    {
     "name": "stdout",
     "output_type": "stream",
     "text": [
      "0.5849796250000001 -1.025276506410256 0.5629487179487187 -0.08297101449275268 0.09956521739130393\n"
     ]
    },
    {
     "data": {
      "text/plain": [
       "(array([[0.13550557]]), array([1.72227107]))"
      ]
     },
     "execution_count": 35,
     "metadata": {},
     "output_type": "execute_result"
    }
   ],
   "source": [
    "# I use a lazy way to compute the value of the first tree\n",
    "bin_1x, bin_2x, bin_3x, bin_4x, bin_5x = [], [], [], [], []\n",
    "bin_1y, bin_2y, bin_3y, bin_4y, bin_5y = [], [], [], [], []\n",
    "for i in range(len(X_train)):\n",
    "    if X_train[i] <= 3.505:\n",
    "        bin_1x.append(X_train[i])\n",
    "        bin_1y.append(y_train[i])\n",
    "    elif 3.505 <= X_train[i] <= 24.850:\n",
    "        bin_2x.append(X_train[i])\n",
    "        bin_2y.append(y_train[i])\n",
    "    elif 24.850 <= X_train[i] <= 39.6:\n",
    "        bin_3x.append(X_train[i])\n",
    "        bin_3y.append(y_train[i])\n",
    "    elif 39.6 <= X_train[i] <= 54.35:\n",
    "        bin_4x.append(X_train[i])\n",
    "        bin_4y.append(y_train[i])\n",
    "    else:\n",
    "        bin_5x.append(X_train[i])\n",
    "        bin_5y.append(y_train[i])\n",
    "\n",
    "print(np.average(bin_1y), np.average(bin_2y), np.average(bin_3y), np.average(bin_4y), np.average(bin_5y))\n",
    "reg1 = LinearRegression().fit(bin_1x, bin_1y)\n",
    "reg1.coef_, reg1.intercept_"
   ]
  },
  {
   "attachments": {},
   "cell_type": "markdown",
   "metadata": {},
   "source": [
    "# How result is generated from each tree"
   ]
  },
  {
   "cell_type": "code",
   "execution_count": 36,
   "metadata": {},
   "outputs": [],
   "source": [
    "# final result\n",
    "result = model_linear.predict(X_test)"
   ]
  },
  {
   "cell_type": "code",
   "execution_count": 37,
   "metadata": {},
   "outputs": [],
   "source": [
    "# result from tree 0\n",
    "result0 = model_linear.predict(X_test, start_iteration=0, num_iteration=1)\n",
    "# result from tree 1\n",
    "result1 = model_linear.predict(X_test, start_iteration=1, num_iteration=1)\n",
    "# result from tree 2\n",
    "result2 = model_linear.predict(X_test, start_iteration=2, num_iteration=1)\n",
    "# result from tree 3\n",
    "result3 = model_linear.predict(X_test, start_iteration=3, num_iteration=1)"
   ]
  },
  {
   "cell_type": "code",
   "execution_count": 38,
   "metadata": {},
   "outputs": [
    {
     "data": {
      "text/plain": [
       "array([ True,  True,  True,  True,  True,  True,  True,  True,  True,\n",
       "        True,  True,  True,  True,  True,  True,  True,  True,  True,\n",
       "        True,  True,  True,  True,  True,  True,  True,  True,  True,\n",
       "        True,  True,  True,  True,  True,  True,  True,  True,  True])"
      ]
     },
     "execution_count": 38,
     "metadata": {},
     "output_type": "execute_result"
    }
   ],
   "source": [
    "# fianl result is just a combination of all the results from each tree\n",
    "result == result0 + result1 + result2 + result3"
   ]
  },
  {
   "cell_type": "code",
   "execution_count": 39,
   "metadata": {},
   "outputs": [
    {
     "data": {
      "text/plain": [
       "(0.38190000000000013, 0.38297190027799854)"
      ]
     },
     "execution_count": 39,
     "metadata": {},
     "output_type": "execute_result"
    }
   ],
   "source": [
    "# seleact a single input to test the result\n",
    "X_test[0]\n",
    "# observe manually from the txt file, the result from each tree is the following\n",
    "2.184, 0.0916*(-11)+0.362, 0.0425*(-11)-0.175, 0.034*(-11)-0.14\n",
    "# compare the result \n",
    "2.184+ 0.0916*(-11)+0.362+ 0.0425*(-11)-0.175+ 0.034*(-11)-0.14, result[0]"
   ]
  },
  {
   "attachments": {},
   "cell_type": "markdown",
   "metadata": {},
   "source": [
    "this shows that the learning rate (shrinkage) is added to the coefficient and constant of each leaf"
   ]
  },
  {
   "attachments": {},
   "cell_type": "markdown",
   "metadata": {},
   "source": [
    "# Parse"
   ]
  },
  {
   "cell_type": "code",
   "execution_count": 40,
   "metadata": {},
   "outputs": [
    {
     "data": {
      "text/plain": [
       "{'name': 'tree',\n",
       " 'version': 'v3',\n",
       " 'num_class': 1,\n",
       " 'num_tree_per_iteration': 1,\n",
       " 'label_index': 0,\n",
       " 'max_feature_idx': 0,\n",
       " 'objective': 'regression',\n",
       " 'average_output': False,\n",
       " 'feature_names': ['Column_0'],\n",
       " 'monotone_constraints': [],\n",
       " 'feature_infos': {'Column_0': {'min_value': -20,\n",
       "   'max_value': 65,\n",
       "   'values': []}},\n",
       " 'tree_info': [{'tree_index': 0,\n",
       "   'num_leaves': 5,\n",
       "   'num_cat': 0,\n",
       "   'shrinkage': 1,\n",
       "   'tree_structure': {'split_index': 0,\n",
       "    'split_feature': 0,\n",
       "    'split_gain': 2554.25,\n",
       "    'threshold': 17.050000000000004,\n",
       "    'decision_type': '<=',\n",
       "    'default_left': True,\n",
       "    'missing_type': 'None',\n",
       "    'internal_value': 3.37509,\n",
       "    'internal_weight': 0,\n",
       "    'internal_count': 144,\n",
       "    'left_child': {'split_index': 2,\n",
       "     'split_feature': 0,\n",
       "     'split_gain': 34.784400939941406,\n",
       "     'threshold': -7.414999999999999,\n",
       "     'decision_type': '<=',\n",
       "     'default_left': True,\n",
       "     'missing_type': 'None',\n",
       "     'internal_value': 2.39254,\n",
       "     'internal_weight': 61,\n",
       "     'internal_count': 61,\n",
       "     'left_child': {'leaf_index': 0,\n",
       "      'leaf_value': 2.1840974674563824,\n",
       "      'leaf_weight': 21,\n",
       "      'leaf_count': 21,\n",
       "      'leaf_const': 2.1840974674563824,\n",
       "      'leaf_features': [],\n",
       "      'leaf_coeff': []},\n",
       "     'right_child': {'leaf_index': 3,\n",
       "      'leaf_value': 2.5019658818214925,\n",
       "      'leaf_weight': 40,\n",
       "      'leaf_count': 40,\n",
       "      'leaf_const': 2.5019658818214925,\n",
       "      'leaf_features': [],\n",
       "      'leaf_coeff': []}},\n",
       "    'right_child': {'split_index': 1,\n",
       "     'split_feature': 0,\n",
       "     'split_gain': 206.06300354003906,\n",
       "     'threshold': 39.6,\n",
       "     'decision_type': '<=',\n",
       "     'default_left': True,\n",
       "     'missing_type': 'None',\n",
       "     'internal_value': 4.0972,\n",
       "     'internal_weight': 83,\n",
       "     'internal_count': 83,\n",
       "     'left_child': {'leaf_index': 1,\n",
       "      'leaf_value': 3.7624791497283048,\n",
       "      'leaf_weight': 39,\n",
       "      'leaf_count': 39,\n",
       "      'leaf_const': 3.7624791497283048,\n",
       "      'leaf_features': [],\n",
       "      'leaf_coeff': []},\n",
       "     'right_child': {'split_index': 3,\n",
       "      'split_feature': 0,\n",
       "      'split_gain': 30.1781005859375,\n",
       "      'threshold': 52.65000000000001,\n",
       "      'decision_type': '<=',\n",
       "      'default_left': True,\n",
       "      'missing_type': 'None',\n",
       "      'internal_value': 4.39389,\n",
       "      'internal_weight': 44,\n",
       "      'internal_count': 44,\n",
       "      'left_child': {'leaf_index': 2,\n",
       "       'leaf_value': 4.220545060600391,\n",
       "       'leaf_weight': 21,\n",
       "       'leaf_count': 21,\n",
       "       'leaf_const': 4.220545060600391,\n",
       "       'leaf_features': [],\n",
       "       'leaf_coeff': []},\n",
       "      'right_child': {'leaf_index': 4,\n",
       "       'leaf_value': 4.552155813874997,\n",
       "       'leaf_weight': 23,\n",
       "       'leaf_count': 23,\n",
       "       'leaf_const': 4.552155813874997,\n",
       "       'leaf_features': [],\n",
       "       'leaf_coeff': []}}}}},\n",
       "  {'tree_index': 1,\n",
       "   'num_leaves': 5,\n",
       "   'num_cat': 0,\n",
       "   'shrinkage': 0.2,\n",
       "   'tree_structure': {'split_index': 0,\n",
       "    'split_feature': 0,\n",
       "    'split_gain': 1634.719970703125,\n",
       "    'threshold': 17.050000000000004,\n",
       "    'decision_type': '<=',\n",
       "    'default_left': True,\n",
       "    'missing_type': 'None',\n",
       "    'internal_value': 0,\n",
       "    'internal_weight': 0,\n",
       "    'internal_count': 144,\n",
       "    'left_child': {'split_index': 3,\n",
       "     'split_feature': 0,\n",
       "     'split_gain': 22.261999130249023,\n",
       "     'threshold': -7.414999999999999,\n",
       "     'decision_type': '<=',\n",
       "     'default_left': True,\n",
       "     'missing_type': 'None',\n",
       "     'internal_value': -0.78604,\n",
       "     'internal_weight': 61,\n",
       "     'internal_count': 61,\n",
       "     'left_child': {'leaf_index': 0,\n",
       "      'leaf_value': -0.9527909142630441,\n",
       "      'leaf_weight': 21,\n",
       "      'leaf_count': 21,\n",
       "      'leaf_const': 0.3621738093647395,\n",
       "      'leaf_features': [0],\n",
       "      'leaf_coeff': [0.091616924269462]},\n",
       "     'right_child': {'leaf_index': 4,\n",
       "      'leaf_value': -0.6984961813688279,\n",
       "      'leaf_weight': 40,\n",
       "      'leaf_count': 40,\n",
       "      'leaf_const': -0.5632058334215772,\n",
       "      'leaf_features': [0],\n",
       "      'leaf_coeff': [-0.02875581016346176]}},\n",
       "    'right_child': {'split_index': 1,\n",
       "     'split_feature': 0,\n",
       "     'split_gain': 134.3040008544922,\n",
       "     'threshold': 35.35000000000001,\n",
       "     'decision_type': '<=',\n",
       "     'default_left': True,\n",
       "     'missing_type': 'None',\n",
       "     'internal_value': 0.577692,\n",
       "     'internal_weight': 83,\n",
       "     'internal_count': 83,\n",
       "     'left_child': {'leaf_index': 1,\n",
       "      'leaf_value': 0.26453447287732906,\n",
       "      'leaf_weight': 33,\n",
       "      'leaf_count': 33,\n",
       "      'leaf_const': -0.41729972634541357,\n",
       "      'leaf_features': [0],\n",
       "      'leaf_coeff': [0.026224391742884337]},\n",
       "     'right_child': {'split_index': 2,\n",
       "      'split_feature': 0,\n",
       "      'split_gain': 28.656700134277344,\n",
       "      'threshold': 48.85,\n",
       "      'decision_type': '<=',\n",
       "      'default_left': True,\n",
       "      'missing_type': 'None',\n",
       "      'internal_value': 0.784376,\n",
       "      'internal_weight': 50,\n",
       "      'internal_count': 50,\n",
       "      'left_child': {'leaf_index': 2,\n",
       "       'leaf_value': 0.6064471403757732,\n",
       "       'leaf_weight': 21,\n",
       "       'leaf_count': 21,\n",
       "       'leaf_const': -0.03758452198995883,\n",
       "       'leaf_features': [0],\n",
       "       'leaf_coeff': [0.015346265852326013]},\n",
       "      'right_child': {'leaf_index': 3,\n",
       "       'leaf_value': 0.9132216700192157,\n",
       "       'leaf_weight': 29,\n",
       "       'leaf_count': 29,\n",
       "       'leaf_const': -0.3329148341468681,\n",
       "       'leaf_features': [0],\n",
       "       'leaf_coeff': [0.02175020614336667]}}}}},\n",
       "  {'tree_index': 2,\n",
       "   'num_leaves': 5,\n",
       "   'num_cat': 0,\n",
       "   'shrinkage': 0.2,\n",
       "   'tree_structure': {'split_index': 0,\n",
       "    'split_feature': 0,\n",
       "    'split_gain': 1057,\n",
       "    'threshold': 15.350000000000001,\n",
       "    'decision_type': '<=',\n",
       "    'default_left': True,\n",
       "    'missing_type': 'None',\n",
       "    'internal_value': 0,\n",
       "    'internal_weight': 0,\n",
       "    'internal_count': 144,\n",
       "    'left_child': {'split_index': 2,\n",
       "     'split_feature': 0,\n",
       "     'split_gain': 20.718700408935547,\n",
       "     'threshold': 2.0800000000000005,\n",
       "     'decision_type': '<=',\n",
       "     'default_left': True,\n",
       "     'missing_type': 'None',\n",
       "     'internal_value': -0.659815,\n",
       "     'internal_weight': 58,\n",
       "     'internal_count': 58,\n",
       "     'left_child': {'leaf_index': 0,\n",
       "      'leaf_value': -0.5697606930861602,\n",
       "      'leaf_weight': 37,\n",
       "      'leaf_count': 37,\n",
       "      'leaf_const': -0.17484786474055555,\n",
       "      'leaf_features': [0],\n",
       "      'leaf_coeff': [0.04246399895619826]},\n",
       "     'right_child': {'leaf_index': 3,\n",
       "      'leaf_value': -0.8184831006186348,\n",
       "      'leaf_weight': 21,\n",
       "      'leaf_count': 21,\n",
       "      'leaf_const': -0.4233441222219583,\n",
       "      'leaf_features': [0],\n",
       "      'leaf_coeff': [-0.045448125736105995]}},\n",
       "    'right_child': {'split_index': 1,\n",
       "     'split_feature': 0,\n",
       "     'split_gain': 99.46630096435547,\n",
       "     'threshold': 35.35000000000001,\n",
       "     'decision_type': '<=',\n",
       "     'default_left': True,\n",
       "     'missing_type': 'None',\n",
       "     'internal_value': 0.444992,\n",
       "     'internal_weight': 86,\n",
       "     'internal_count': 86,\n",
       "     'left_child': {'leaf_index': 1,\n",
       "      'leaf_value': 0.19150653498040304,\n",
       "      'leaf_weight': 36,\n",
       "      'leaf_count': 36,\n",
       "      'leaf_const': -0.37111090131113755,\n",
       "      'leaf_features': [0],\n",
       "      'leaf_coeff': [0.02234826074416696]},\n",
       "     'right_child': {'split_index': 3,\n",
       "      'split_feature': 0,\n",
       "      'split_gain': 18.340299606323242,\n",
       "      'threshold': 48.85,\n",
       "      'decision_type': '<=',\n",
       "      'default_left': True,\n",
       "      'missing_type': 'None',\n",
       "      'internal_value': 0.627501,\n",
       "      'internal_weight': 50,\n",
       "      'internal_count': 50,\n",
       "      'left_child': {'leaf_index': 2,\n",
       "       'leaf_value': 0.48515771911257793,\n",
       "       'leaf_weight': 21,\n",
       "       'leaf_count': 21,\n",
       "       'leaf_const': -0.03006771024882937,\n",
       "       'leaf_features': [0],\n",
       "       'leaf_coeff': [0.012277016447984936]},\n",
       "      'right_child': {'leaf_index': 4,\n",
       "       'leaf_value': 0.7305773110225283,\n",
       "       'leaf_weight': 29,\n",
       "       'leaf_count': 29,\n",
       "       'leaf_const': -0.26638438252928154,\n",
       "       'leaf_features': [0],\n",
       "       'leaf_coeff': [0.017401080051593354]}}}}},\n",
       "  {'tree_index': 3,\n",
       "   'num_leaves': 5,\n",
       "   'num_cat': 0,\n",
       "   'shrinkage': 0.2,\n",
       "   'tree_structure': {'split_index': 0,\n",
       "    'split_feature': 0,\n",
       "    'split_gain': 676.4829711914062,\n",
       "    'threshold': 15.350000000000001,\n",
       "    'decision_type': '<=',\n",
       "    'default_left': True,\n",
       "    'missing_type': 'None',\n",
       "    'internal_value': 0,\n",
       "    'internal_weight': 0,\n",
       "    'internal_count': 144,\n",
       "    'left_child': {'split_index': 2,\n",
       "     'split_feature': 0,\n",
       "     'split_gain': 13.260000228881836,\n",
       "     'threshold': 2.0800000000000005,\n",
       "     'decision_type': '<=',\n",
       "     'default_left': True,\n",
       "     'missing_type': 'None',\n",
       "     'internal_value': -0.527852,\n",
       "     'internal_weight': 58,\n",
       "     'internal_count': 58,\n",
       "     'left_child': {'leaf_index': 0,\n",
       "      'leaf_value': -0.45580854222581196,\n",
       "      'leaf_weight': 37,\n",
       "      'leaf_count': 37,\n",
       "      'leaf_const': -0.13987876915812728,\n",
       "      'leaf_features': [0],\n",
       "      'leaf_coeff': [0.0339711442874707]},\n",
       "     'right_child': {'leaf_index': 3,\n",
       "      'leaf_value': -0.6547864811761039,\n",
       "      'leaf_weight': 21,\n",
       "      'leaf_count': 21,\n",
       "      'leaf_const': -0.3386754431179611,\n",
       "      'leaf_features': [0],\n",
       "      'leaf_coeff': [-0.03635848052918594]}},\n",
       "    'right_child': {'split_index': 1,\n",
       "     'split_feature': 0,\n",
       "     'split_gain': 63.65850067138672,\n",
       "     'threshold': 35.35000000000001,\n",
       "     'decision_type': '<=',\n",
       "     'default_left': True,\n",
       "     'missing_type': 'None',\n",
       "     'internal_value': 0.355993,\n",
       "     'internal_weight': 86,\n",
       "     'internal_count': 86,\n",
       "     'left_child': {'leaf_index': 1,\n",
       "      'leaf_value': 0.1532052229675982,\n",
       "      'leaf_weight': 36,\n",
       "      'leaf_count': 36,\n",
       "      'leaf_const': -0.29688917293010775,\n",
       "      'leaf_features': [0],\n",
       "      'leaf_coeff': [0.01787862452457181]},\n",
       "     'right_child': {'split_index': 3,\n",
       "      'split_feature': 0,\n",
       "      'split_gain': 11.737799644470215,\n",
       "      'threshold': 48.85,\n",
       "      'decision_type': '<=',\n",
       "      'default_left': True,\n",
       "      'missing_type': 'None',\n",
       "      'internal_value': 0.502001,\n",
       "      'internal_weight': 50,\n",
       "      'internal_count': 50,\n",
       "      'left_child': {'leaf_index': 2,\n",
       "       'leaf_value': 0.38812616552625384,\n",
       "       'leaf_weight': 21,\n",
       "       'leaf_count': 21,\n",
       "       'leaf_const': -0.024045337382574417,\n",
       "       'leaf_features': [0],\n",
       "       'leaf_coeff': [0.00982140273384573]},\n",
       "      'right_child': {'leaf_index': 4,\n",
       "       'leaf_value': 0.5844618073825179,\n",
       "       'leaf_weight': 29,\n",
       "       'leaf_count': 29,\n",
       "       'leaf_const': -0.2131010448293978,\n",
       "       'leaf_features': [0],\n",
       "       'leaf_coeff': [0.013920750164832008]}}}}}],\n",
       " 'feature_importances': {'Column_0': 16},\n",
       " 'pandas_categorical': None}"
      ]
     },
     "execution_count": 40,
     "metadata": {},
     "output_type": "execute_result"
    }
   ],
   "source": [
    "model_linear.dump_model()\n",
    "# model_linear.trees_to_dataframe()"
   ]
  },
  {
   "cell_type": "code",
   "execution_count": 41,
   "metadata": {},
   "outputs": [
    {
     "data": {
      "text/plain": [
       "dict_keys(['split_index', 'split_feature', 'split_gain', 'threshold', 'decision_type', 'default_left', 'missing_type', 'internal_value', 'internal_weight', 'internal_count', 'left_child', 'right_child'])"
      ]
     },
     "execution_count": 41,
     "metadata": {},
     "output_type": "execute_result"
    }
   ],
   "source": [
    "model_linear.dump_model()['tree_info'][0][\"tree_structure\"].keys()"
   ]
  },
  {
   "cell_type": "code",
   "execution_count": 42,
   "metadata": {},
   "outputs": [
    {
     "data": {
      "text/plain": [
       "{'split0': {'split_index': 0, 'threshold': 17.050000000000004},\n",
       " 'split2': {'split_index': 2, 'threshold': -7.414999999999999},\n",
       " 'split1': {'split_index': 1, 'threshold': 39.6},\n",
       " 'leaf0': {'leaf_index': 0, 'value': 2.1840974674563824},\n",
       " 'leaf3': {'leaf_index': 3, 'value': 2.5019658818214925},\n",
       " 'leaf1': {'leaf_index': 1, 'value': 3.7624791497283048},\n",
       " 'split3': {'split_index': 3, 'threshold': 52.65000000000001},\n",
       " 'leaf2': {'leaf_index': 2, 'value': 4.220545060600391},\n",
       " 'leaf4': {'leaf_index': 4, 'value': 4.552155813874997}}"
      ]
     },
     "execution_count": 42,
     "metadata": {},
     "output_type": "execute_result"
    }
   ],
   "source": [
    "node = model_linear.dump_model()['tree_info'][0][\"tree_structure\"]\n",
    "queue = [node]\n",
    "dict = {}\n",
    "dict[\"split\"+str(queue[0][\"split_index\"])] = {'split_index': queue[0][\"split_index\"],\n",
    "                                 'threshold': queue[0][\"threshold\"], }\n",
    "while queue:\n",
    "    if \"left_child\" in queue[0].keys():\n",
    "        queue.append(queue[0][\"left_child\"])\n",
    "        if \"split_index\" in queue[0][\"left_child\"].keys():\n",
    "            dict[\"split\"+str(queue[0][\"left_child\"][\"split_index\"])] = {'split_index': queue[0][\"left_child\"][\"split_index\"],\n",
    "                                                           'threshold': queue[0][\"left_child\"][\"threshold\"], }\n",
    "        else:\n",
    "            dict[\"leaf\"+str(queue[0][\"left_child\"][\"leaf_index\"])] = {'leaf_index': queue[0][\"left_child\"][\"leaf_index\"],\n",
    "                                                          'value': queue[0][\"left_child\"][\"leaf_value\"], }\n",
    "    if \"right_child\" in queue[0].keys():\n",
    "        queue.append(queue[0][\"right_child\"])      \n",
    "        if \"split_index\" in queue[0][\"right_child\"].keys():\n",
    "            dict[\"split\"+str(queue[0][\"right_child\"][\"split_index\"])] = {'split_index': queue[0][\"right_child\"][\"split_index\"],\n",
    "                                                           'threshold': queue[0][\"right_child\"][\"threshold\"], }\n",
    "        else:\n",
    "            dict[\"leaf\"+str(queue[0][\"right_child\"][\"leaf_index\"])] = {'leaf_index': queue[0][\"right_child\"][\"leaf_index\"],\n",
    "                                                          'value': queue[0][\"right_child\"][\"leaf_value\"], }\n",
    "    queue.pop(0)\n",
    "\n",
    "dict"
   ]
  }
 ],
 "metadata": {
  "kernelspec": {
   "display_name": "py39",
   "language": "python",
   "name": "python3"
  },
  "language_info": {
   "codemirror_mode": {
    "name": "ipython",
    "version": 3
   },
   "file_extension": ".py",
   "mimetype": "text/x-python",
   "name": "python",
   "nbconvert_exporter": "python",
   "pygments_lexer": "ipython3",
   "version": "3.9.7"
  },
  "orig_nbformat": 4,
  "vscode": {
   "interpreter": {
    "hash": "456704d50d3d572b793e0cd2b7d6582a4be81758880130904cd25ce1810ce8f0"
   }
  }
 },
 "nbformat": 4,
 "nbformat_minor": 2
}
