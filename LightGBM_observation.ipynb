{
 "cells": [
  {
   "cell_type": "code",
   "execution_count": 1,
   "metadata": {},
   "outputs": [
    {
     "name": "stderr",
     "output_type": "stream",
     "text": [
      "<frozen importlib._bootstrap>:228: RuntimeWarning: scipy._lib.messagestream.MessageStream size changed, may indicate binary incompatibility. Expected 56 from C header, got 64 from PyObject\n"
     ]
    }
   ],
   "source": [
    "import lightgbm as lgb\n",
    "import numpy as np\n",
    "import matplotlib.pyplot as plt\n",
    "import pandas as pd\n",
    "from sklearn.model_selection import train_test_split\n",
    "from sklearn.metrics import mean_squared_error\n",
    "from sklearn.linear_model import LinearRegression"
   ]
  },
  {
   "cell_type": "code",
   "execution_count": 2,
   "metadata": {},
   "outputs": [
    {
     "data": {
      "text/html": [
       "<div>\n",
       "<style scoped>\n",
       "    .dataframe tbody tr th:only-of-type {\n",
       "        vertical-align: middle;\n",
       "    }\n",
       "\n",
       "    .dataframe tbody tr th {\n",
       "        vertical-align: top;\n",
       "    }\n",
       "\n",
       "    .dataframe thead th {\n",
       "        text-align: right;\n",
       "    }\n",
       "</style>\n",
       "<table border=\"1\" class=\"dataframe\">\n",
       "  <thead>\n",
       "    <tr style=\"text-align: right;\">\n",
       "      <th></th>\n",
       "      <th>theta</th>\n",
       "      <th>z</th>\n",
       "      <th>u</th>\n",
       "    </tr>\n",
       "  </thead>\n",
       "  <tbody>\n",
       "    <tr>\n",
       "      <th>0</th>\n",
       "      <td>-20.0</td>\n",
       "      <td>-6.08</td>\n",
       "      <td>-3.92</td>\n",
       "    </tr>\n",
       "    <tr>\n",
       "      <th>1</th>\n",
       "      <td>-19.5</td>\n",
       "      <td>-5.58</td>\n",
       "      <td>-4.42</td>\n",
       "    </tr>\n",
       "    <tr>\n",
       "      <th>2</th>\n",
       "      <td>-19.1</td>\n",
       "      <td>-5.13</td>\n",
       "      <td>-4.87</td>\n",
       "    </tr>\n",
       "    <tr>\n",
       "      <th>3</th>\n",
       "      <td>-18.6</td>\n",
       "      <td>-4.71</td>\n",
       "      <td>-5.29</td>\n",
       "    </tr>\n",
       "    <tr>\n",
       "      <th>4</th>\n",
       "      <td>-18.1</td>\n",
       "      <td>-4.32</td>\n",
       "      <td>-5.68</td>\n",
       "    </tr>\n",
       "  </tbody>\n",
       "</table>\n",
       "</div>"
      ],
      "text/plain": [
       "   theta     z     u\n",
       "0  -20.0 -6.08 -3.92\n",
       "1  -19.5 -5.58 -4.42\n",
       "2  -19.1 -5.13 -4.87\n",
       "3  -18.6 -4.71 -5.29\n",
       "4  -18.1 -4.32 -5.68"
      ]
     },
     "execution_count": 2,
     "metadata": {},
     "output_type": "execute_result"
    }
   ],
   "source": [
    "df = pd.read_csv(\"..\\OMLT_ML\\data\\polynomial3.csv\")\n",
    "df.head()"
   ]
  },
  {
   "cell_type": "code",
   "execution_count": 3,
   "metadata": {},
   "outputs": [
    {
     "data": {
      "text/plain": [
       "((180, 1), (180, 1))"
      ]
     },
     "execution_count": 3,
     "metadata": {},
     "output_type": "execute_result"
    }
   ],
   "source": [
    "X = df[\"theta\"]\n",
    "y = df[\"z\"]\n",
    "X = X.to_numpy().reshape(-1, 1)\n",
    "y = y.to_numpy().reshape(-1, 1)\n",
    "X.shape, y.shape"
   ]
  },
  {
   "cell_type": "code",
   "execution_count": 5,
   "metadata": {},
   "outputs": [],
   "source": [
    "X_train, X_test, y_train, y_test = train_test_split(X, y, test_size=0.2, random_state=42)\n",
    "\n",
    "train_data_linear = lgb.Dataset(X_train, label=y_train, params = {'linear_tree': True,})\n",
    "train_data_normal = lgb.Dataset(X_train, label=y_train, params = {'linear_tree': False,})"
   ]
  },
  {
   "cell_type": "code",
   "execution_count": 6,
   "metadata": {},
   "outputs": [
    {
     "name": "stderr",
     "output_type": "stream",
     "text": [
      "c:\\Users\\shumengl\\.conda\\envs\\omlt\\lib\\site-packages\\lightgbm\\engine.py:177: UserWarning: Found `num_iterations` in params. Will use it instead of argument\n",
      "  _log_warning(f\"Found `{alias}` in params. Will use it instead of argument\")\n",
      "c:\\Users\\shumengl\\.conda\\envs\\omlt\\lib\\site-packages\\lightgbm\\basic.py:179: UserWarning: Converting column-vector to 1d array\n",
      "  _log_warning('Converting column-vector to 1d array')\n"
     ]
    }
   ],
   "source": [
    "params = {\n",
    "    \"objective\": \"regression\",\n",
    "    \"metric\": \"rmse\",\n",
    "    \"learning_rate\": 1,\n",
    "    \"verbosity\": -1,\n",
    "    'num_iterations': 4,\n",
    "}\n",
    "\n",
    "model_linear = lgb.train(params, train_data_linear)\n",
    "model_normal = lgb.train(params, train_data_normal)"
   ]
  },
  {
   "cell_type": "code",
   "execution_count": 7,
   "metadata": {},
   "outputs": [
    {
     "name": "stdout",
     "output_type": "stream",
     "text": [
      "Linear trees error: 0.862\n",
      "Normal trees error: 1.471\n"
     ]
    }
   ],
   "source": [
    "y_pred_linear = model_linear.predict(X_test)\n",
    "print(\n",
    "    f\"Linear trees error: {round(mean_squared_error(y_test, y_pred_linear),3)}\")\n",
    "y_pred_normal = model_normal.predict(X_test)\n",
    "print(\n",
    "    f\"Normal trees error: {round(mean_squared_error(y_test, y_pred_normal),3)}\")\n",
    "y_linear = model_linear.predict(X)\n",
    "y_normal = model_normal.predict(X)"
   ]
  },
  {
   "cell_type": "code",
   "execution_count": 8,
   "metadata": {},
   "outputs": [
    {
     "data": {
      "image/png": "[encoded data removed]",
      "text/plain": [
       "<Figure size 640x480 with 1 Axes>"
      ]
     },
     "metadata": {},
     "output_type": "display_data"
    }
   ],
   "source": [
    "# plotting results\n",
    "plt.scatter(X, y, label = 'z (original data)')\n",
    "plt.scatter(X, y_linear, label = 'z (linear)')\n",
    "plt.scatter(X, y_normal, label = 'z (normal)')\n",
    "plt.ylabel('z')\n",
    "plt.xlabel('theta')\n",
    "plt.legend()\n",
    "plt.show()"
   ]
  },
  {
   "attachments": {},
   "cell_type": "markdown",
   "metadata": {},
   "source": [
    "# Threshold"
   ]
  },
  {
   "cell_type": "code",
   "execution_count": 9,
   "metadata": {},
   "outputs": [
    {
     "name": "stdout",
     "output_type": "stream",
     "text": [
      "{'objective': 'regression', 'metric': 'rmse', 'learning_rate': 1, 'verbosity': -1, 'num_iterations': 4, 'early_stopping_round': None, 'linear_tree': True}\n"
     ]
    },
    {
     "data": {
      "text/plain": [
       "<lightgbm.basic.Booster at 0x20b5f5119d0>"
      ]
     },
     "execution_count": 9,
     "metadata": {},
     "output_type": "execute_result"
    }
   ],
   "source": [
    "print(model_linear.params)\n",
    "model_linear.save_model('./output/model_observation_linear.txt')\n",
    "model_normal.save_model('./output/model_observation_normal.txt')"
   ]
  },
  {
   "attachments": {},
   "cell_type": "markdown",
   "metadata": {},
   "source": [
    "the linear tree and the normal tree have different threshold."
   ]
  },
  {
   "attachments": {},
   "cell_type": "markdown",
   "metadata": {},
   "source": [
    "# Split and then fit"
   ]
  },
  {
   "cell_type": "code",
   "execution_count": 10,
   "metadata": {},
   "outputs": [
    {
     "data": {
      "image/svg+xml": "<?xml version=\"1.0\" encoding=\"UTF-8\" standalone=\"no\"?>\n<!DOCTYPE svg PUBLIC \"-//W3C//DTD SVG 1.1//EN\"\n \"http://www.w3.org/Graphics/SVG/1.1/DTD/svg11.dtd\">\n<!-- Generated by graphviz version 3.0.0 (20220226.1711)\n -->\n<!-- Pages: 1 -->\n<svg width=\"646pt\" height=\"184pt\"\n viewBox=\"0.00 0.00 646.09 184.00\" xmlns=\"http://www.w3.org/2000/svg\" xmlns:xlink=\"http://www.w3.org/1999/xlink\">\n<g id=\"graph0\" class=\"graph\" transform=\"scale(1 1) rotate(0) translate(4 180)\">\n<polygon fill=\"white\" stroke=\"transparent\" points=\"-4,4 -4,-180 642.09,-180 642.09,4 -4,4\"/>\n<!-- split0 -->\n<g id=\"node1\" class=\"node\">\n<title>split0</title>\n<polygon fill=\"none\" stroke=\"black\" points=\"134,-116 0,-116 0,-80 134,-80 134,-116\"/>\n<text text-anchor=\"start\" x=\"8\" y=\"-95.3\" font-family=\"Times New Roman,serif\" font-weight=\"bold\" font-size=\"14.00\">Column_0</text>\n<text text-anchor=\"start\" x=\"72\" y=\"-95.3\" font-family=\"Times New Roman,serif\" font-size=\"14.00\"> ≤</text>\n<text text-anchor=\"start\" x=\"84\" y=\"-95.3\" font-family=\"Times New Roman,serif\" font-weight=\"bold\" font-size=\"14.00\">17.050</text>\n</g>\n<!-- split2 -->\n<g id=\"node2\" class=\"node\">\n<title>split2</title>\n<polygon fill=\"none\" stroke=\"black\" points=\"307.5,-136 176.5,-136 176.5,-100 307.5,-100 307.5,-136\"/>\n<text text-anchor=\"start\" x=\"184.5\" y=\"-115.3\" font-family=\"Times New Roman,serif\" font-weight=\"bold\" font-size=\"14.00\">Column_0</text>\n<text text-anchor=\"start\" x=\"248.5\" y=\"-115.3\" font-family=\"Times New Roman,serif\" font-size=\"14.00\"> ≤</text>\n<text text-anchor=\"start\" x=\"260.5\" y=\"-115.3\" font-family=\"Times New Roman,serif\" font-weight=\"bold\" font-size=\"14.00\">&#45;7.415</text>\n</g>\n<!-- split0&#45;&gt;split2 -->\n<g id=\"edge3\" class=\"edge\">\n<title>split0&#45;&gt;split2</title>\n<path fill=\"none\" stroke=\"black\" d=\"M134.39,-105.68C144.86,-106.89 155.75,-108.14 166.39,-109.37\"/>\n<polygon fill=\"black\" stroke=\"black\" points=\"166.16,-112.87 176.5,-110.54 166.96,-105.92 166.16,-112.87\"/>\n<text text-anchor=\"middle\" x=\"154.5\" y=\"-111.8\" font-family=\"Times New Roman,serif\" font-size=\"14.00\">yes</text>\n</g>\n<!-- split1 -->\n<g id=\"node5\" class=\"node\">\n<title>split1</title>\n<polygon fill=\"none\" stroke=\"black\" points=\"309,-96 175,-96 175,-60 309,-60 309,-96\"/>\n<text text-anchor=\"start\" x=\"183\" y=\"-75.3\" font-family=\"Times New Roman,serif\" font-weight=\"bold\" font-size=\"14.00\">Column_0</text>\n<text text-anchor=\"start\" x=\"247\" y=\"-75.3\" font-family=\"Times New Roman,serif\" font-size=\"14.00\"> ≤</text>\n<text text-anchor=\"start\" x=\"259\" y=\"-75.3\" font-family=\"Times New Roman,serif\" font-weight=\"bold\" font-size=\"14.00\">39.600</text>\n</g>\n<!-- split0&#45;&gt;split1 -->\n<g id=\"edge8\" class=\"edge\">\n<title>split0&#45;&gt;split1</title>\n<path fill=\"none\" stroke=\"black\" d=\"M134.39,-90.32C144.33,-89.18 154.63,-87.98 164.75,-86.81\"/>\n<polygon fill=\"black\" stroke=\"black\" points=\"165.25,-90.28 174.79,-85.65 164.45,-83.33 165.25,-90.28\"/>\n<text text-anchor=\"middle\" x=\"154.5\" y=\"-91.8\" font-family=\"Times New Roman,serif\" font-size=\"14.00\">no</text>\n</g>\n<!-- leaf0 -->\n<g id=\"node3\" class=\"node\">\n<title>leaf0</title>\n<ellipse fill=\"none\" stroke=\"black\" cx=\"417\" cy=\"-158\" rx=\"59.59\" ry=\"18\"/>\n<text text-anchor=\"start\" x=\"379\" y=\"-155.3\" font-family=\"Times New Roman,serif\" font-size=\"14.00\">leaf 0: </text>\n<text text-anchor=\"start\" x=\"416\" y=\"-155.3\" font-family=\"Times New Roman,serif\" font-weight=\"bold\" font-size=\"14.00\">&#45;2.580</text>\n</g>\n<!-- split2&#45;&gt;leaf0 -->\n<g id=\"edge1\" class=\"edge\">\n<title>split2&#45;&gt;leaf0</title>\n<path fill=\"none\" stroke=\"black\" d=\"M307.91,-133.01C324.74,-136.9 342.74,-141.06 359.13,-144.85\"/>\n<polygon fill=\"black\" stroke=\"black\" points=\"358.56,-148.31 369.09,-147.15 360.14,-141.49 358.56,-148.31\"/>\n<text text-anchor=\"middle\" x=\"329.5\" y=\"-142.8\" font-family=\"Times New Roman,serif\" font-size=\"14.00\">yes</text>\n</g>\n<!-- leaf3 -->\n<g id=\"node4\" class=\"node\">\n<title>leaf3</title>\n<ellipse fill=\"none\" stroke=\"black\" cx=\"417\" cy=\"-118\" rx=\"59.59\" ry=\"18\"/>\n<text text-anchor=\"start\" x=\"379\" y=\"-115.3\" font-family=\"Times New Roman,serif\" font-size=\"14.00\">leaf 3: </text>\n<text text-anchor=\"start\" x=\"416\" y=\"-115.3\" font-family=\"Times New Roman,serif\" font-weight=\"bold\" font-size=\"14.00\">&#45;0.991</text>\n</g>\n<!-- split2&#45;&gt;leaf3 -->\n<g id=\"edge2\" class=\"edge\">\n<title>split2&#45;&gt;leaf3</title>\n<path fill=\"none\" stroke=\"black\" d=\"M307.91,-118C320.62,-118 333.99,-118 346.84,-118\"/>\n<polygon fill=\"black\" stroke=\"black\" points=\"347,-121.5 357,-118 347,-114.5 347,-121.5\"/>\n<text text-anchor=\"middle\" x=\"329.5\" y=\"-121.8\" font-family=\"Times New Roman,serif\" font-size=\"14.00\">no</text>\n</g>\n<!-- leaf1 -->\n<g id=\"node6\" class=\"node\">\n<title>leaf1</title>\n<ellipse fill=\"none\" stroke=\"black\" cx=\"417\" cy=\"-78\" rx=\"56.59\" ry=\"18\"/>\n<text text-anchor=\"start\" x=\"381.5\" y=\"-75.3\" font-family=\"Times New Roman,serif\" font-size=\"14.00\">leaf 1: </text>\n<text text-anchor=\"start\" x=\"418.5\" y=\"-75.3\" font-family=\"Times New Roman,serif\" font-weight=\"bold\" font-size=\"14.00\">5.312</text>\n</g>\n<!-- split1&#45;&gt;leaf1 -->\n<g id=\"edge4\" class=\"edge\">\n<title>split1&#45;&gt;leaf1</title>\n<path fill=\"none\" stroke=\"black\" d=\"M309.39,-78C322.76,-78 336.8,-78 350.14,-78\"/>\n<polygon fill=\"black\" stroke=\"black\" points=\"350.19,-81.5 360.19,-78 350.19,-74.5 350.19,-81.5\"/>\n<text text-anchor=\"middle\" x=\"329.5\" y=\"-81.8\" font-family=\"Times New Roman,serif\" font-size=\"14.00\">yes</text>\n</g>\n<!-- split3 -->\n<g id=\"node7\" class=\"node\">\n<title>split3</title>\n<polygon fill=\"none\" stroke=\"black\" points=\"484,-56 350,-56 350,-20 484,-20 484,-56\"/>\n<text text-anchor=\"start\" x=\"358\" y=\"-35.3\" font-family=\"Times New Roman,serif\" font-weight=\"bold\" font-size=\"14.00\">Column_0</text>\n<text text-anchor=\"start\" x=\"422\" y=\"-35.3\" font-family=\"Times New Roman,serif\" font-size=\"14.00\"> ≤</text>\n<text text-anchor=\"start\" x=\"434\" y=\"-35.3\" font-family=\"Times New Roman,serif\" font-weight=\"bold\" font-size=\"14.00\">52.650</text>\n</g>\n<!-- split1&#45;&gt;split3 -->\n<g id=\"edge7\" class=\"edge\">\n<title>split1&#45;&gt;split3</title>\n<path fill=\"none\" stroke=\"black\" d=\"M309.39,-62.65C319.33,-60.35 329.63,-57.97 339.75,-55.63\"/>\n<polygon fill=\"black\" stroke=\"black\" points=\"340.83,-58.97 349.79,-53.31 339.25,-52.15 340.83,-58.97\"/>\n<text text-anchor=\"middle\" x=\"329.5\" y=\"-62.8\" font-family=\"Times New Roman,serif\" font-size=\"14.00\">no</text>\n</g>\n<!-- leaf2 -->\n<g id=\"node8\" class=\"node\">\n<title>leaf2</title>\n<ellipse fill=\"none\" stroke=\"black\" cx=\"581.54\" cy=\"-58\" rx=\"56.59\" ry=\"18\"/>\n<text text-anchor=\"start\" x=\"546.04\" y=\"-55.3\" font-family=\"Times New Roman,serif\" font-size=\"14.00\">leaf 2: </text>\n<text text-anchor=\"start\" x=\"583.04\" y=\"-55.3\" font-family=\"Times New Roman,serif\" font-weight=\"bold\" font-size=\"14.00\">7.602</text>\n</g>\n<!-- split3&#45;&gt;leaf2 -->\n<g id=\"edge5\" class=\"edge\">\n<title>split3&#45;&gt;leaf2</title>\n<path fill=\"none\" stroke=\"black\" d=\"M484.11,-46.13C495.42,-47.53 507.13,-48.97 518.33,-50.34\"/>\n<polygon fill=\"black\" stroke=\"black\" points=\"518.09,-53.84 528.44,-51.59 518.95,-46.89 518.09,-53.84\"/>\n<text text-anchor=\"middle\" x=\"504.5\" y=\"-52.8\" font-family=\"Times New Roman,serif\" font-size=\"14.00\">yes</text>\n</g>\n<!-- leaf4 -->\n<g id=\"node9\" class=\"node\">\n<title>leaf4</title>\n<ellipse fill=\"none\" stroke=\"black\" cx=\"581.54\" cy=\"-18\" rx=\"56.59\" ry=\"18\"/>\n<text text-anchor=\"start\" x=\"546.04\" y=\"-15.3\" font-family=\"Times New Roman,serif\" font-size=\"14.00\">leaf 4: </text>\n<text text-anchor=\"start\" x=\"583.04\" y=\"-15.3\" font-family=\"Times New Roman,serif\" font-weight=\"bold\" font-size=\"14.00\">9.260</text>\n</g>\n<!-- split3&#45;&gt;leaf4 -->\n<g id=\"edge6\" class=\"edge\">\n<title>split3&#45;&gt;leaf4</title>\n<path fill=\"none\" stroke=\"black\" d=\"M484.11,-29.87C495.42,-28.47 507.13,-27.03 518.33,-25.66\"/>\n<polygon fill=\"black\" stroke=\"black\" points=\"518.95,-29.11 528.44,-24.41 518.09,-22.16 518.95,-29.11\"/>\n<text text-anchor=\"middle\" x=\"504.5\" y=\"-31.8\" font-family=\"Times New Roman,serif\" font-size=\"14.00\">no</text>\n</g>\n</g>\n</svg>\n",
      "text/plain": [
       "<graphviz.graphs.Digraph at 0x20b5f59cfa0>"
      ]
     },
     "execution_count": 10,
     "metadata": {},
     "output_type": "execute_result"
    }
   ],
   "source": [
    "import os\n",
    "os.environ[\"PATH\"] += os.pathsep + 'C:\\Program Files\\Graphviz\\\\bin'\n",
    "# lgb.plot_tree(model_linear)\n",
    "# for i in range(params['num_iterations']):\n",
    "# p = lgb.create_tree_digraph(model_linear, params['num_iterations'] - 1)\n",
    "p = lgb.create_tree_digraph(model_linear, 0)\n",
    "p"
   ]
  },
  {
   "cell_type": "code",
   "execution_count": 11,
   "metadata": {},
   "outputs": [],
   "source": [
    "# I use a lazy way to compute the value of the first tree\n",
    "bin_1, bin_2, bin_3, bin_4, bin_5 = [], [], [], [], []\n",
    "for i in range(len(X_train)):\n",
    "    if X_train[i] <= -7.415:\n",
    "        bin_1.append(y_train[i])\n",
    "    elif -7.415 <= X_train[i] <= 17.050:\n",
    "        bin_2.append(y_train[i])\n",
    "    elif 17.050 <= X_train[i] <= 39.6:\n",
    "        bin_3.append(y_train[i])\n",
    "    elif 39.6 <= X_train[i] <= 52.65:\n",
    "        bin_4.append(y_train[i])\n",
    "    else:\n",
    "        bin_5.append(y_train[i])\n",
    "\n",
    "avg_1, avg_2, avg_3, avg_4, avg_5 = np.average(bin_1), np.average(bin_2), np.average(bin_3), np.average(bin_4), np.average(bin_5)\n",
    "for i in range(len(X_train)):\n",
    "    if X_train[i] <= -7.415:\n",
    "        y_train[i] -= avg_1\n",
    "    elif -7.415 <= X_train[i] <= 17.050:\n",
    "        y_train[i] -= avg_2\n",
    "    elif 17.050 <= X_train[i] <= 39.6:\n",
    "        y_train[i] -= avg_3\n",
    "    elif 39.6 <= X_train[i] <= 52.65:\n",
    "        y_train[i] -= avg_4\n",
    "    else:\n",
    "        y_train[i] -= avg_5"
   ]
  },
  {
   "cell_type": "code",
   "execution_count": 12,
   "metadata": {},
   "outputs": [
    {
     "data": {
      "image/svg+xml": "<?xml version=\"1.0\" encoding=\"UTF-8\" standalone=\"no\"?>\n<!DOCTYPE svg PUBLIC \"-//W3C//DTD SVG 1.1//EN\"\n \"http://www.w3.org/Graphics/SVG/1.1/DTD/svg11.dtd\">\n<!-- Generated by graphviz version 3.0.0 (20220226.1711)\n -->\n<!-- Pages: 1 -->\n<svg width=\"820pt\" height=\"144pt\"\n viewBox=\"0.00 0.00 819.59 144.00\" xmlns=\"http://www.w3.org/2000/svg\" xmlns:xlink=\"http://www.w3.org/1999/xlink\">\n<g id=\"graph0\" class=\"graph\" transform=\"scale(1 1) rotate(0) translate(4 140)\">\n<polygon fill=\"white\" stroke=\"transparent\" points=\"-4,4 -4,-140 815.59,-140 815.59,4 -4,4\"/>\n<!-- split0 -->\n<g id=\"node1\" class=\"node\">\n<title>split0</title>\n<polygon fill=\"none\" stroke=\"black\" points=\"126,-116 0,-116 0,-80 126,-80 126,-116\"/>\n<text text-anchor=\"start\" x=\"8\" y=\"-95.3\" font-family=\"Times New Roman,serif\" font-weight=\"bold\" font-size=\"14.00\">Column_0</text>\n<text text-anchor=\"start\" x=\"72\" y=\"-95.3\" font-family=\"Times New Roman,serif\" font-size=\"14.00\"> ≤</text>\n<text text-anchor=\"start\" x=\"84\" y=\"-95.3\" font-family=\"Times New Roman,serif\" font-weight=\"bold\" font-size=\"14.00\">3.505</text>\n</g>\n<!-- leaf0 -->\n<g id=\"node2\" class=\"node\">\n<title>leaf0</title>\n<ellipse fill=\"none\" stroke=\"black\" cx=\"234\" cy=\"-118\" rx=\"56.59\" ry=\"18\"/>\n<text text-anchor=\"start\" x=\"198.5\" y=\"-115.3\" font-family=\"Times New Roman,serif\" font-size=\"14.00\">leaf 0: </text>\n<text text-anchor=\"start\" x=\"235.5\" y=\"-115.3\" font-family=\"Times New Roman,serif\" font-weight=\"bold\" font-size=\"14.00\">0.585</text>\n</g>\n<!-- split0&#45;&gt;leaf0 -->\n<g id=\"edge1\" class=\"edge\">\n<title>split0&#45;&gt;leaf0</title>\n<path fill=\"none\" stroke=\"black\" d=\"M126.45,-105.39C140.83,-107.09 156.12,-108.9 170.49,-110.6\"/>\n<polygon fill=\"black\" stroke=\"black\" points=\"170.43,-114.12 180.78,-111.82 171.26,-107.17 170.43,-114.12\"/>\n<text text-anchor=\"middle\" x=\"146.5\" y=\"-111.8\" font-family=\"Times New Roman,serif\" font-size=\"14.00\">yes</text>\n</g>\n<!-- split1 -->\n<g id=\"node3\" class=\"node\">\n<title>split1</title>\n<polygon fill=\"none\" stroke=\"black\" points=\"301,-96 167,-96 167,-60 301,-60 301,-96\"/>\n<text text-anchor=\"start\" x=\"175\" y=\"-75.3\" font-family=\"Times New Roman,serif\" font-weight=\"bold\" font-size=\"14.00\">Column_0</text>\n<text text-anchor=\"start\" x=\"239\" y=\"-75.3\" font-family=\"Times New Roman,serif\" font-size=\"14.00\"> ≤</text>\n<text text-anchor=\"start\" x=\"251\" y=\"-75.3\" font-family=\"Times New Roman,serif\" font-weight=\"bold\" font-size=\"14.00\">24.850</text>\n</g>\n<!-- split0&#45;&gt;split1 -->\n<g id=\"edge8\" class=\"edge\">\n<title>split0&#45;&gt;split1</title>\n<path fill=\"none\" stroke=\"black\" d=\"M126.45,-90.61C136.32,-89.44 146.63,-88.22 156.77,-87.02\"/>\n<polygon fill=\"black\" stroke=\"black\" points=\"157.32,-90.48 166.84,-85.83 156.5,-83.53 157.32,-90.48\"/>\n<text text-anchor=\"middle\" x=\"146.5\" y=\"-92.8\" font-family=\"Times New Roman,serif\" font-size=\"14.00\">no</text>\n</g>\n<!-- leaf1 -->\n<g id=\"node4\" class=\"node\">\n<title>leaf1</title>\n<ellipse fill=\"none\" stroke=\"black\" cx=\"409\" cy=\"-98\" rx=\"59.59\" ry=\"18\"/>\n<text text-anchor=\"start\" x=\"371\" y=\"-95.3\" font-family=\"Times New Roman,serif\" font-size=\"14.00\">leaf 1: </text>\n<text text-anchor=\"start\" x=\"408\" y=\"-95.3\" font-family=\"Times New Roman,serif\" font-weight=\"bold\" font-size=\"14.00\">&#45;1.025</text>\n</g>\n<!-- split1&#45;&gt;leaf1 -->\n<g id=\"edge2\" class=\"edge\">\n<title>split1&#45;&gt;leaf1</title>\n<path fill=\"none\" stroke=\"black\" d=\"M301.39,-85.68C314.98,-87.25 329.28,-88.9 342.82,-90.47\"/>\n<polygon fill=\"black\" stroke=\"black\" points=\"342.68,-93.97 353.02,-91.64 343.48,-87.02 342.68,-93.97\"/>\n<text text-anchor=\"middle\" x=\"321.5\" y=\"-91.8\" font-family=\"Times New Roman,serif\" font-size=\"14.00\">yes</text>\n</g>\n<!-- split2 -->\n<g id=\"node5\" class=\"node\">\n<title>split2</title>\n<polygon fill=\"none\" stroke=\"black\" points=\"476,-76 342,-76 342,-40 476,-40 476,-76\"/>\n<text text-anchor=\"start\" x=\"350\" y=\"-55.3\" font-family=\"Times New Roman,serif\" font-weight=\"bold\" font-size=\"14.00\">Column_0</text>\n<text text-anchor=\"start\" x=\"414\" y=\"-55.3\" font-family=\"Times New Roman,serif\" font-size=\"14.00\"> ≤</text>\n<text text-anchor=\"start\" x=\"426\" y=\"-55.3\" font-family=\"Times New Roman,serif\" font-weight=\"bold\" font-size=\"14.00\">39.600</text>\n</g>\n<!-- split1&#45;&gt;split2 -->\n<g id=\"edge7\" class=\"edge\">\n<title>split1&#45;&gt;split2</title>\n<path fill=\"none\" stroke=\"black\" d=\"M301.39,-70.32C311.33,-69.18 321.63,-67.98 331.75,-66.81\"/>\n<polygon fill=\"black\" stroke=\"black\" points=\"332.25,-70.28 341.79,-65.65 331.45,-63.33 332.25,-70.28\"/>\n<text text-anchor=\"middle\" x=\"321.5\" y=\"-71.8\" font-family=\"Times New Roman,serif\" font-size=\"14.00\">no</text>\n</g>\n<!-- leaf2 -->\n<g id=\"node6\" class=\"node\">\n<title>leaf2</title>\n<ellipse fill=\"none\" stroke=\"black\" cx=\"584\" cy=\"-78\" rx=\"56.59\" ry=\"18\"/>\n<text text-anchor=\"start\" x=\"548.5\" y=\"-75.3\" font-family=\"Times New Roman,serif\" font-size=\"14.00\">leaf 2: </text>\n<text text-anchor=\"start\" x=\"585.5\" y=\"-75.3\" font-family=\"Times New Roman,serif\" font-weight=\"bold\" font-size=\"14.00\">0.563</text>\n</g>\n<!-- split2&#45;&gt;leaf2 -->\n<g id=\"edge3\" class=\"edge\">\n<title>split2&#45;&gt;leaf2</title>\n<path fill=\"none\" stroke=\"black\" d=\"M476.39,-65.68C490.81,-67.34 506.01,-69.1 520.28,-70.75\"/>\n<polygon fill=\"black\" stroke=\"black\" points=\"520.14,-74.26 530.48,-71.93 520.95,-67.3 520.14,-74.26\"/>\n<text text-anchor=\"middle\" x=\"496.5\" y=\"-71.8\" font-family=\"Times New Roman,serif\" font-size=\"14.00\">yes</text>\n</g>\n<!-- split3 -->\n<g id=\"node7\" class=\"node\">\n<title>split3</title>\n<polygon fill=\"none\" stroke=\"black\" points=\"651,-56 517,-56 517,-20 651,-20 651,-56\"/>\n<text text-anchor=\"start\" x=\"525\" y=\"-35.3\" font-family=\"Times New Roman,serif\" font-weight=\"bold\" font-size=\"14.00\">Column_0</text>\n<text text-anchor=\"start\" x=\"589\" y=\"-35.3\" font-family=\"Times New Roman,serif\" font-size=\"14.00\"> ≤</text>\n<text text-anchor=\"start\" x=\"601\" y=\"-35.3\" font-family=\"Times New Roman,serif\" font-weight=\"bold\" font-size=\"14.00\">54.350</text>\n</g>\n<!-- split2&#45;&gt;split3 -->\n<g id=\"edge6\" class=\"edge\">\n<title>split2&#45;&gt;split3</title>\n<path fill=\"none\" stroke=\"black\" d=\"M476.39,-50.32C486.33,-49.18 496.63,-47.98 506.75,-46.81\"/>\n<polygon fill=\"black\" stroke=\"black\" points=\"507.25,-50.28 516.79,-45.65 506.45,-43.33 507.25,-50.28\"/>\n<text text-anchor=\"middle\" x=\"496.5\" y=\"-51.8\" font-family=\"Times New Roman,serif\" font-size=\"14.00\">no</text>\n</g>\n<!-- leaf3 -->\n<g id=\"node8\" class=\"node\">\n<title>leaf3</title>\n<ellipse fill=\"none\" stroke=\"black\" cx=\"751.79\" cy=\"-58\" rx=\"59.59\" ry=\"18\"/>\n<text text-anchor=\"start\" x=\"713.79\" y=\"-55.3\" font-family=\"Times New Roman,serif\" font-size=\"14.00\">leaf 3: </text>\n<text text-anchor=\"start\" x=\"750.79\" y=\"-55.3\" font-family=\"Times New Roman,serif\" font-weight=\"bold\" font-size=\"14.00\">&#45;0.083</text>\n</g>\n<!-- split3&#45;&gt;leaf3 -->\n<g id=\"edge4\" class=\"edge\">\n<title>split3&#45;&gt;leaf3</title>\n<path fill=\"none\" stroke=\"black\" d=\"M651,-45.96C662.53,-47.35 674.51,-48.8 686,-50.18\"/>\n<polygon fill=\"black\" stroke=\"black\" points=\"685.6,-53.66 695.95,-51.38 686.44,-46.71 685.6,-53.66\"/>\n<text text-anchor=\"middle\" x=\"671.5\" y=\"-52.8\" font-family=\"Times New Roman,serif\" font-size=\"14.00\">yes</text>\n</g>\n<!-- leaf4 -->\n<g id=\"node9\" class=\"node\">\n<title>leaf4</title>\n<ellipse fill=\"none\" stroke=\"black\" cx=\"751.79\" cy=\"-18\" rx=\"56.59\" ry=\"18\"/>\n<text text-anchor=\"start\" x=\"716.29\" y=\"-15.3\" font-family=\"Times New Roman,serif\" font-size=\"14.00\">leaf 4: </text>\n<text text-anchor=\"start\" x=\"753.29\" y=\"-15.3\" font-family=\"Times New Roman,serif\" font-weight=\"bold\" font-size=\"14.00\">0.100</text>\n</g>\n<!-- split3&#45;&gt;leaf4 -->\n<g id=\"edge5\" class=\"edge\">\n<title>split3&#45;&gt;leaf4</title>\n<path fill=\"none\" stroke=\"black\" d=\"M651,-30.04C663.35,-28.55 676.22,-27 688.45,-25.52\"/>\n<polygon fill=\"black\" stroke=\"black\" points=\"689.04,-28.98 698.55,-24.3 688.2,-22.03 689.04,-28.98\"/>\n<text text-anchor=\"middle\" x=\"671.5\" y=\"-31.8\" font-family=\"Times New Roman,serif\" font-size=\"14.00\">no</text>\n</g>\n</g>\n</svg>\n",
      "text/plain": [
       "<graphviz.graphs.Digraph at 0x20b5ff04f40>"
      ]
     },
     "execution_count": 12,
     "metadata": {},
     "output_type": "execute_result"
    }
   ],
   "source": [
    "p = lgb.create_tree_digraph(model_linear, 1)\n",
    "p"
   ]
  },
  {
   "cell_type": "code",
   "execution_count": 13,
   "metadata": {},
   "outputs": [
    {
     "name": "stdout",
     "output_type": "stream",
     "text": [
      "0.5849796250000001 -1.025276506410256 0.5629487179487187 -0.08297101449275268 0.09956521739130393\n"
     ]
    },
    {
     "data": {
      "text/plain": [
       "(array([[0.13550557]]), array([1.72227107]))"
      ]
     },
     "execution_count": 13,
     "metadata": {},
     "output_type": "execute_result"
    }
   ],
   "source": [
    "# I use a lazy way to compute the value of the first tree\n",
    "bin_1x, bin_2x, bin_3x, bin_4x, bin_5x = [], [], [], [], []\n",
    "bin_1y, bin_2y, bin_3y, bin_4y, bin_5y = [], [], [], [], []\n",
    "for i in range(len(X_train)):\n",
    "    if X_train[i] <= 3.505:\n",
    "        bin_1x.append(X_train[i])\n",
    "        bin_1y.append(y_train[i])\n",
    "    elif 3.505 <= X_train[i] <= 24.850:\n",
    "        bin_2x.append(X_train[i])\n",
    "        bin_2y.append(y_train[i])\n",
    "    elif 24.850 <= X_train[i] <= 39.6:\n",
    "        bin_3x.append(X_train[i])\n",
    "        bin_3y.append(y_train[i])\n",
    "    elif 39.6 <= X_train[i] <= 54.35:\n",
    "        bin_4x.append(X_train[i])\n",
    "        bin_4y.append(y_train[i])\n",
    "    else:\n",
    "        bin_5x.append(X_train[i])\n",
    "        bin_5y.append(y_train[i])\n",
    "\n",
    "print(np.average(bin_1y), np.average(bin_2y), np.average(bin_3y), np.average(bin_4y), np.average(bin_5y))\n",
    "reg1 = LinearRegression().fit(bin_1x, bin_1y)\n",
    "reg1.coef_, reg1.intercept_"
   ]
  },
  {
   "attachments": {},
   "cell_type": "markdown",
   "metadata": {},
   "source": [
    "# Parse"
   ]
  },
  {
   "cell_type": "code",
   "execution_count": 19,
   "metadata": {},
   "outputs": [
    {
     "data": {
      "text/plain": [
       "{'tree_index': 0,\n",
       " 'num_leaves': 5,\n",
       " 'num_cat': 0,\n",
       " 'shrinkage': 1,\n",
       " 'tree_structure': {'split_index': 0,\n",
       "  'split_feature': 0,\n",
       "  'split_gain': 2554.25,\n",
       "  'threshold': 17.050000000000004,\n",
       "  'decision_type': '<=',\n",
       "  'default_left': True,\n",
       "  'missing_type': 'None',\n",
       "  'internal_value': 3.37509,\n",
       "  'internal_weight': 0,\n",
       "  'internal_count': 144,\n",
       "  'left_child': {'split_index': 2,\n",
       "   'split_feature': 0,\n",
       "   'split_gain': 34.784400939941406,\n",
       "   'threshold': -7.414999999999999,\n",
       "   'decision_type': '<=',\n",
       "   'default_left': True,\n",
       "   'missing_type': 'None',\n",
       "   'internal_value': -1.5376699999999999,\n",
       "   'internal_weight': 61,\n",
       "   'internal_count': 61,\n",
       "   'left_child': {'leaf_index': 0,\n",
       "    'leaf_value': -2.5798571129414505,\n",
       "    'leaf_weight': 21,\n",
       "    'leaf_count': 21,\n",
       "    'leaf_const': -2.5798571129414505,\n",
       "    'leaf_features': [],\n",
       "    'leaf_coeff': []},\n",
       "   'right_child': {'leaf_index': 3,\n",
       "    'leaf_value': -0.9905150411159012,\n",
       "    'leaf_weight': 40,\n",
       "    'leaf_count': 40,\n",
       "    'leaf_const': -0.9905150411159012,\n",
       "    'leaf_features': [],\n",
       "    'leaf_coeff': []}},\n",
       "  'right_child': {'split_index': 1,\n",
       "   'split_feature': 0,\n",
       "   'split_gain': 206.06300354003906,\n",
       "   'threshold': 39.6,\n",
       "   'decision_type': '<=',\n",
       "   'default_left': True,\n",
       "   'missing_type': 'None',\n",
       "   'internal_value': 6.98566,\n",
       "   'internal_weight': 83,\n",
       "   'internal_count': 83,\n",
       "   'left_child': {'leaf_index': 1,\n",
       "    'leaf_value': 5.312051298418162,\n",
       "    'leaf_weight': 39,\n",
       "    'leaf_count': 39,\n",
       "    'leaf_const': 5.312051298418162,\n",
       "    'leaf_features': [],\n",
       "    'leaf_coeff': []},\n",
       "   'right_child': {'split_index': 3,\n",
       "    'split_feature': 0,\n",
       "    'split_gain': 30.1781005859375,\n",
       "    'threshold': 52.65000000000001,\n",
       "    'decision_type': '<=',\n",
       "    'default_left': True,\n",
       "    'missing_type': 'None',\n",
       "    'internal_value': 8.46909,\n",
       "    'internal_weight': 44,\n",
       "    'internal_count': 44,\n",
       "    'left_child': {'leaf_index': 2,\n",
       "     'leaf_value': 7.60238085277859,\n",
       "     'leaf_weight': 21,\n",
       "     'leaf_count': 21,\n",
       "     'leaf_const': 7.60238085277859,\n",
       "     'leaf_features': [],\n",
       "     'leaf_coeff': []},\n",
       "    'right_child': {'leaf_index': 4,\n",
       "     'leaf_value': 9.260434619151617,\n",
       "     'leaf_weight': 23,\n",
       "     'leaf_count': 23,\n",
       "     'leaf_const': 9.260434619151617,\n",
       "     'leaf_features': [],\n",
       "     'leaf_coeff': []}}}}}"
      ]
     },
     "execution_count": 19,
     "metadata": {},
     "output_type": "execute_result"
    }
   ],
   "source": [
    "model_linear.dump_model()['tree_info'][0]\n",
    "# model_linear.trees_to_dataframe()"
   ]
  },
  {
   "cell_type": "code",
   "execution_count": 20,
   "metadata": {},
   "outputs": [
    {
     "data": {
      "text/plain": [
       "dict_keys(['split_index', 'split_feature', 'split_gain', 'threshold', 'decision_type', 'default_left', 'missing_type', 'internal_value', 'internal_weight', 'internal_count', 'left_child', 'right_child'])"
      ]
     },
     "execution_count": 20,
     "metadata": {},
     "output_type": "execute_result"
    }
   ],
   "source": [
    "model_linear.dump_model()['tree_info'][0][\"tree_structure\"].keys()"
   ]
  },
  {
   "cell_type": "code",
   "execution_count": 21,
   "metadata": {},
   "outputs": [
    {
     "data": {
      "text/plain": [
       "{'split0': {'split_index': 0, 'threshold': 17.050000000000004},\n",
       " 'split2': {'split_index': 2, 'threshold': -7.414999999999999},\n",
       " 'split1': {'split_index': 1, 'threshold': 39.6},\n",
       " 'leaf0': {'leaf_index': 0, 'value': -2.5798571129414505},\n",
       " 'leaf3': {'leaf_index': 3, 'value': -0.9905150411159012},\n",
       " 'leaf1': {'leaf_index': 1, 'value': 5.312051298418162},\n",
       " 'split3': {'split_index': 3, 'threshold': 52.65000000000001},\n",
       " 'leaf2': {'leaf_index': 2, 'value': 7.60238085277859},\n",
       " 'leaf4': {'leaf_index': 4, 'value': 9.260434619151617}}"
      ]
     },
     "execution_count": 21,
     "metadata": {},
     "output_type": "execute_result"
    }
   ],
   "source": [
    "node = model_linear.dump_model()['tree_info'][0][\"tree_structure\"]\n",
    "queue = [node]\n",
    "dict = {}\n",
    "dict[\"split\"+str(queue[0][\"split_index\"])] = {'split_index': queue[0][\"split_index\"],\n",
    "                                 'threshold': queue[0][\"threshold\"], }\n",
    "while queue:\n",
    "    if \"left_child\" in queue[0].keys():\n",
    "        queue.append(queue[0][\"left_child\"])\n",
    "        if \"split_index\" in queue[0][\"left_child\"].keys():\n",
    "            dict[\"split\"+str(queue[0][\"left_child\"][\"split_index\"])] = {'split_index': queue[0][\"left_child\"][\"split_index\"],\n",
    "                                                           'threshold': queue[0][\"left_child\"][\"threshold\"], }\n",
    "        else:\n",
    "            dict[\"leaf\"+str(queue[0][\"left_child\"][\"leaf_index\"])] = {'leaf_index': queue[0][\"left_child\"][\"leaf_index\"],\n",
    "                                                          'value': queue[0][\"left_child\"][\"leaf_value\"], }\n",
    "    if \"right_child\" in queue[0].keys():\n",
    "        queue.append(queue[0][\"right_child\"])      \n",
    "        if \"split_index\" in queue[0][\"right_child\"].keys():\n",
    "            dict[\"split\"+str(queue[0][\"right_child\"][\"split_index\"])] = {'split_index': queue[0][\"right_child\"][\"split_index\"],\n",
    "                                                           'threshold': queue[0][\"right_child\"][\"threshold\"], }\n",
    "        else:\n",
    "            dict[\"leaf\"+str(queue[0][\"right_child\"][\"leaf_index\"])] = {'leaf_index': queue[0][\"right_child\"][\"leaf_index\"],\n",
    "                                                          'value': queue[0][\"right_child\"][\"leaf_value\"], }\n",
    "    queue.pop(0)\n",
    "\n",
    "dict"
   ]
  }
 ],
 "metadata": {
  "kernelspec": {
   "display_name": "omlt",
   "language": "python",
   "name": "python3"
  },
  "language_info": {
   "codemirror_mode": {
    "name": "ipython",
    "version": 3
   },
   "file_extension": ".py",
   "mimetype": "text/x-python",
   "name": "python",
   "nbconvert_exporter": "python",
   "pygments_lexer": "ipython3",
   "version": "3.9.7"
  },
  "orig_nbformat": 4,
  "vscode": {
   "interpreter": {
    "hash": "1350035cc40cae99d9ac3d7616956bcbe564bb24e49d70c7419fe84e0969da51"
   }
  }
 },
 "nbformat": 4,
 "nbformat_minor": 2
}
