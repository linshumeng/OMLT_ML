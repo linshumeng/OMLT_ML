{
 "cells": [
  {
   "cell_type": "code",
   "execution_count": 102,
   "metadata": {},
   "outputs": [],
   "source": [
    "import lightgbm as lgb\n",
    "import numpy as np\n",
    "import matplotlib.pyplot as plt\n",
    "import pandas as pd\n",
    "from sklearn.model_selection import train_test_split\n",
    "from sklearn.metrics import mean_squared_error\n",
    "from sklearn.linear_model import LinearRegression"
   ]
  },
  {
   "cell_type": "code",
   "execution_count": 103,
   "metadata": {},
   "outputs": [
    {
     "data": {
      "text/html": [
       "<div>\n",
       "<style scoped>\n",
       "    .dataframe tbody tr th:only-of-type {\n",
       "        vertical-align: middle;\n",
       "    }\n",
       "\n",
       "    .dataframe tbody tr th {\n",
       "        vertical-align: top;\n",
       "    }\n",
       "\n",
       "    .dataframe thead th {\n",
       "        text-align: right;\n",
       "    }\n",
       "</style>\n",
       "<table border=\"1\" class=\"dataframe\">\n",
       "  <thead>\n",
       "    <tr style=\"text-align: right;\">\n",
       "      <th></th>\n",
       "      <th>theta</th>\n",
       "      <th>z</th>\n",
       "      <th>u</th>\n",
       "    </tr>\n",
       "  </thead>\n",
       "  <tbody>\n",
       "    <tr>\n",
       "      <th>0</th>\n",
       "      <td>-20.0</td>\n",
       "      <td>-6.08</td>\n",
       "      <td>-3.92</td>\n",
       "    </tr>\n",
       "    <tr>\n",
       "      <th>1</th>\n",
       "      <td>-19.5</td>\n",
       "      <td>-5.58</td>\n",
       "      <td>-4.42</td>\n",
       "    </tr>\n",
       "    <tr>\n",
       "      <th>2</th>\n",
       "      <td>-19.1</td>\n",
       "      <td>-5.13</td>\n",
       "      <td>-4.87</td>\n",
       "    </tr>\n",
       "    <tr>\n",
       "      <th>3</th>\n",
       "      <td>-18.6</td>\n",
       "      <td>-4.71</td>\n",
       "      <td>-5.29</td>\n",
       "    </tr>\n",
       "    <tr>\n",
       "      <th>4</th>\n",
       "      <td>-18.1</td>\n",
       "      <td>-4.32</td>\n",
       "      <td>-5.68</td>\n",
       "    </tr>\n",
       "  </tbody>\n",
       "</table>\n",
       "</div>"
      ],
      "text/plain": [
       "   theta     z     u\n",
       "0  -20.0 -6.08 -3.92\n",
       "1  -19.5 -5.58 -4.42\n",
       "2  -19.1 -5.13 -4.87\n",
       "3  -18.6 -4.71 -5.29\n",
       "4  -18.1 -4.32 -5.68"
      ]
     },
     "execution_count": 103,
     "metadata": {},
     "output_type": "execute_result"
    }
   ],
   "source": [
    "df = pd.read_csv(\"..\\OMLT_ML\\data\\polynomial3.csv\")\n",
    "df.head()"
   ]
  },
  {
   "cell_type": "code",
   "execution_count": 104,
   "metadata": {},
   "outputs": [
    {
     "data": {
      "text/plain": [
       "((180, 1), (180, 1))"
      ]
     },
     "execution_count": 104,
     "metadata": {},
     "output_type": "execute_result"
    }
   ],
   "source": [
    "X = df[\"theta\"]\n",
    "y = df[\"z\"]\n",
    "X = X.to_numpy().reshape(-1, 1)\n",
    "y = y.to_numpy().reshape(-1, 1)\n",
    "X.shape, y.shape"
   ]
  },
  {
   "cell_type": "code",
   "execution_count": 105,
   "metadata": {},
   "outputs": [],
   "source": [
    "X_train, X_test, y_train, y_test = train_test_split(X, y, test_size=0.2, random_state=42)\n",
    "\n",
    "train_data_linear = lgb.Dataset(X_train, label=y_train, params = {'linear_tree': True,})\n",
    "train_data_normal = lgb.Dataset(X_train, label=y_train, params = {'linear_tree': False,})"
   ]
  },
  {
   "cell_type": "code",
   "execution_count": 106,
   "metadata": {},
   "outputs": [
    {
     "name": "stderr",
     "output_type": "stream",
     "text": [
      "c:\\Users\\yufengq\\anaconda3\\envs\\py39\\lib\\site-packages\\lightgbm\\engine.py:177: UserWarning: Found `num_iterations` in params. Will use it instead of argument\n",
      "  _log_warning(f\"Found `{alias}` in params. Will use it instead of argument\")\n",
      "c:\\Users\\yufengq\\anaconda3\\envs\\py39\\lib\\site-packages\\lightgbm\\basic.py:179: UserWarning: Converting column-vector to 1d array\n",
      "  _log_warning('Converting column-vector to 1d array')\n"
     ]
    }
   ],
   "source": [
    "params = {\n",
    "    \"objective\": \"regression\",\n",
    "    \"metric\": \"rmse\",\n",
    "    \"learning_rate\": 1,\n",
    "    \"verbosity\": -1,\n",
    "    'num_iterations': 4,\n",
    "}\n",
    "\n",
    "model_linear = lgb.train(params, train_data_linear)\n",
    "model_normal = lgb.train(params, train_data_normal)"
   ]
  },
  {
   "cell_type": "code",
   "execution_count": 107,
   "metadata": {},
   "outputs": [
    {
     "name": "stdout",
     "output_type": "stream",
     "text": [
      "Linear trees error: 0.862\n",
      "Normal trees error: 1.471\n"
     ]
    }
   ],
   "source": [
    "y_pred_linear = model_linear.predict(X_test)\n",
    "print(\n",
    "    f\"Linear trees error: {round(mean_squared_error(y_test, y_pred_linear),3)}\")\n",
    "y_pred_normal = model_normal.predict(X_test)\n",
    "print(\n",
    "    f\"Normal trees error: {round(mean_squared_error(y_test, y_pred_normal),3)}\")\n",
    "y_linear = model_linear.predict(X)\n",
    "y_normal = model_normal.predict(X)"
   ]
  },
  {
   "cell_type": "code",
   "execution_count": 108,
   "metadata": {},
   "outputs": [
    {
     "data": {
      "image/png": "[encoded data removed]",
      "text/plain": [
       "<Figure size 432x288 with 1 Axes>"
      ]
     },
     "metadata": {
      "needs_background": "light"
     },
     "output_type": "display_data"
    }
   ],
   "source": [
    "# plotting results\n",
    "plt.scatter(X, y, label = 'z (original data)')\n",
    "plt.scatter(X, y_linear, label = 'z (linear)')\n",
    "plt.scatter(X, y_normal, label = 'z (normal)')\n",
    "plt.ylabel('z')\n",
    "plt.xlabel('theta')\n",
    "plt.legend()\n",
    "plt.show()"
   ]
  },
  {
   "attachments": {},
   "cell_type": "markdown",
   "metadata": {},
   "source": [
    "# Threshold"
   ]
  },
  {
   "cell_type": "code",
   "execution_count": 109,
   "metadata": {},
   "outputs": [
    {
     "name": "stdout",
     "output_type": "stream",
     "text": [
      "{'objective': 'regression', 'metric': 'rmse', 'learning_rate': 1, 'verbosity': -1, 'num_iterations': 4, 'early_stopping_round': None, 'linear_tree': True}\n"
     ]
    },
    {
     "data": {
      "text/plain": [
       "<lightgbm.basic.Booster at 0x1df025fb430>"
      ]
     },
     "execution_count": 109,
     "metadata": {},
     "output_type": "execute_result"
    }
   ],
   "source": [
    "print(model_linear.params)\n",
    "model_linear.save_model('./output/model_observation_linear.txt')\n",
    "model_normal.save_model('./output/model_observation_normal.txt')"
   ]
  },
  {
   "attachments": {},
   "cell_type": "markdown",
   "metadata": {},
   "source": [
    "the linear tree and the normal tree have different threshold."
   ]
  },
  {
   "attachments": {},
   "cell_type": "markdown",
   "metadata": {},
   "source": [
    "# Split and then fit"
   ]
  },
  {
   "cell_type": "code",
   "execution_count": 110,
   "metadata": {},
   "outputs": [
    {
     "data": {
      "image/svg+xml": "<?xml version=\"1.0\" encoding=\"UTF-8\" standalone=\"no\"?>\n<!DOCTYPE svg PUBLIC \"-//W3C//DTD SVG 1.1//EN\"\n \"http://www.w3.org/Graphics/SVG/1.1/DTD/svg11.dtd\">\n<!-- Generated by graphviz version 2.50.0 (0)\n -->\n<!-- Pages: 1 -->\n<svg width=\"624pt\" height=\"184pt\"\n viewBox=\"0.00 0.00 623.79 184.00\" xmlns=\"http://www.w3.org/2000/svg\" xmlns:xlink=\"http://www.w3.org/1999/xlink\">\n<g id=\"graph0\" class=\"graph\" transform=\"scale(1 1) rotate(0) translate(4 180)\">\n<polygon fill=\"white\" stroke=\"transparent\" points=\"-4,4 -4,-180 619.79,-180 619.79,4 -4,4\"/>\n<!-- split0 -->\n<g id=\"node1\" class=\"node\">\n<title>split0</title>\n<polygon fill=\"none\" stroke=\"black\" points=\"127,-116 0,-116 0,-80 127,-80 127,-116\"/>\n<text text-anchor=\"start\" x=\"8\" y=\"-95.3\" font-family=\"Times New Roman,serif\" font-weight=\"bold\" font-size=\"14.00\">Column_0</text>\n<text text-anchor=\"start\" x=\"69\" y=\"-95.3\" font-family=\"Times New Roman,serif\" font-size=\"14.00\"> ≤</text>\n<text text-anchor=\"start\" x=\"81\" y=\"-95.3\" font-family=\"Times New Roman,serif\" font-weight=\"bold\" font-size=\"14.00\">17.050</text>\n</g>\n<!-- split2 -->\n<g id=\"node2\" class=\"node\">\n<title>split2</title>\n<polygon fill=\"none\" stroke=\"black\" points=\"294,-136 169,-136 169,-100 294,-100 294,-136\"/>\n<text text-anchor=\"start\" x=\"177\" y=\"-115.3\" font-family=\"Times New Roman,serif\" font-weight=\"bold\" font-size=\"14.00\">Column_0</text>\n<text text-anchor=\"start\" x=\"238\" y=\"-115.3\" font-family=\"Times New Roman,serif\" font-size=\"14.00\"> ≤</text>\n<text text-anchor=\"start\" x=\"250\" y=\"-115.3\" font-family=\"Times New Roman,serif\" font-weight=\"bold\" font-size=\"14.00\">&#45;7.415</text>\n</g>\n<!-- split0&#45;&gt;split2 -->\n<g id=\"edge3\" class=\"edge\">\n<title>split0&#45;&gt;split2</title>\n<path fill=\"none\" stroke=\"black\" d=\"M127.26,-105.56C137.55,-106.8 148.3,-108.1 158.79,-109.36\"/>\n<polygon fill=\"black\" stroke=\"black\" points=\"158.41,-112.84 168.75,-110.56 159.24,-105.89 158.41,-112.84\"/>\n<text text-anchor=\"middle\" x=\"147.5\" y=\"-111.8\" font-family=\"Times New Roman,serif\" font-size=\"14.00\">yes</text>\n</g>\n<!-- split1 -->\n<g id=\"node5\" class=\"node\">\n<title>split1</title>\n<polygon fill=\"none\" stroke=\"black\" points=\"295,-96 168,-96 168,-60 295,-60 295,-96\"/>\n<text text-anchor=\"start\" x=\"176\" y=\"-75.3\" font-family=\"Times New Roman,serif\" font-weight=\"bold\" font-size=\"14.00\">Column_0</text>\n<text text-anchor=\"start\" x=\"237\" y=\"-75.3\" font-family=\"Times New Roman,serif\" font-size=\"14.00\"> ≤</text>\n<text text-anchor=\"start\" x=\"249\" y=\"-75.3\" font-family=\"Times New Roman,serif\" font-weight=\"bold\" font-size=\"14.00\">39.600</text>\n</g>\n<!-- split0&#45;&gt;split1 -->\n<g id=\"edge8\" class=\"edge\">\n<title>split0&#45;&gt;split1</title>\n<path fill=\"none\" stroke=\"black\" d=\"M127.26,-90.44C137.24,-89.24 147.64,-87.98 157.83,-86.76\"/>\n<polygon fill=\"black\" stroke=\"black\" points=\"158.42,-90.21 167.93,-85.54 157.58,-83.26 158.42,-90.21\"/>\n<text text-anchor=\"middle\" x=\"147.5\" y=\"-91.8\" font-family=\"Times New Roman,serif\" font-size=\"14.00\">no</text>\n</g>\n<!-- leaf0 -->\n<g id=\"node3\" class=\"node\">\n<title>leaf0</title>\n<ellipse fill=\"none\" stroke=\"black\" cx=\"399.5\" cy=\"-158\" rx=\"59.29\" ry=\"18\"/>\n<text text-anchor=\"start\" x=\"362\" y=\"-155.3\" font-family=\"Times New Roman,serif\" font-size=\"14.00\">leaf 0: </text>\n<text text-anchor=\"start\" x=\"401\" y=\"-155.3\" font-family=\"Times New Roman,serif\" font-weight=\"bold\" font-size=\"14.00\">&#45;2.580</text>\n</g>\n<!-- split2&#45;&gt;leaf0 -->\n<g id=\"edge1\" class=\"edge\">\n<title>split2&#45;&gt;leaf0</title>\n<path fill=\"none\" stroke=\"black\" d=\"M294.31,-132.89C310.19,-136.72 327.18,-140.81 342.73,-144.56\"/>\n<polygon fill=\"black\" stroke=\"black\" points=\"342.18,-148.03 352.72,-146.97 343.82,-141.22 342.18,-148.03\"/>\n<text text-anchor=\"middle\" x=\"315.5\" y=\"-142.8\" font-family=\"Times New Roman,serif\" font-size=\"14.00\">yes</text>\n</g>\n<!-- leaf3 -->\n<g id=\"node4\" class=\"node\">\n<title>leaf3</title>\n<ellipse fill=\"none\" stroke=\"black\" cx=\"399.5\" cy=\"-118\" rx=\"59.29\" ry=\"18\"/>\n<text text-anchor=\"start\" x=\"362\" y=\"-115.3\" font-family=\"Times New Roman,serif\" font-size=\"14.00\">leaf 3: </text>\n<text text-anchor=\"start\" x=\"401\" y=\"-115.3\" font-family=\"Times New Roman,serif\" font-weight=\"bold\" font-size=\"14.00\">&#45;0.991</text>\n</g>\n<!-- split2&#45;&gt;leaf3 -->\n<g id=\"edge2\" class=\"edge\">\n<title>split2&#45;&gt;leaf3</title>\n<path fill=\"none\" stroke=\"black\" d=\"M294.31,-118C305.93,-118 318.15,-118 329.96,-118\"/>\n<polygon fill=\"black\" stroke=\"black\" points=\"330.21,-121.5 340.21,-118 330.21,-114.5 330.21,-121.5\"/>\n<text text-anchor=\"middle\" x=\"315.5\" y=\"-121.8\" font-family=\"Times New Roman,serif\" font-size=\"14.00\">no</text>\n</g>\n<!-- leaf1 -->\n<g id=\"node6\" class=\"node\">\n<title>leaf1</title>\n<ellipse fill=\"none\" stroke=\"black\" cx=\"399.5\" cy=\"-78\" rx=\"55.79\" ry=\"18\"/>\n<text text-anchor=\"start\" x=\"364.5\" y=\"-75.3\" font-family=\"Times New Roman,serif\" font-size=\"14.00\">leaf 1: </text>\n<text text-anchor=\"start\" x=\"403.5\" y=\"-75.3\" font-family=\"Times New Roman,serif\" font-weight=\"bold\" font-size=\"14.00\">5.312</text>\n</g>\n<!-- split1&#45;&gt;leaf1 -->\n<g id=\"edge4\" class=\"edge\">\n<title>split1&#45;&gt;leaf1</title>\n<path fill=\"none\" stroke=\"black\" d=\"M295.26,-78C307.67,-78 320.72,-78 333.21,-78\"/>\n<polygon fill=\"black\" stroke=\"black\" points=\"333.54,-81.5 343.54,-78 333.54,-74.5 333.54,-81.5\"/>\n<text text-anchor=\"middle\" x=\"315.5\" y=\"-81.8\" font-family=\"Times New Roman,serif\" font-size=\"14.00\">yes</text>\n</g>\n<!-- split3 -->\n<g id=\"node7\" class=\"node\">\n<title>split3</title>\n<polygon fill=\"none\" stroke=\"black\" points=\"463,-56 336,-56 336,-20 463,-20 463,-56\"/>\n<text text-anchor=\"start\" x=\"344\" y=\"-35.3\" font-family=\"Times New Roman,serif\" font-weight=\"bold\" font-size=\"14.00\">Column_0</text>\n<text text-anchor=\"start\" x=\"405\" y=\"-35.3\" font-family=\"Times New Roman,serif\" font-size=\"14.00\"> ≤</text>\n<text text-anchor=\"start\" x=\"417\" y=\"-35.3\" font-family=\"Times New Roman,serif\" font-weight=\"bold\" font-size=\"14.00\">52.650</text>\n</g>\n<!-- split1&#45;&gt;split3 -->\n<g id=\"edge7\" class=\"edge\">\n<title>split1&#45;&gt;split3</title>\n<path fill=\"none\" stroke=\"black\" d=\"M295.26,-62.88C305.35,-60.45 315.86,-57.91 326.15,-55.43\"/>\n<polygon fill=\"black\" stroke=\"black\" points=\"327.03,-58.82 335.93,-53.08 325.39,-52.02 327.03,-58.82\"/>\n<text text-anchor=\"middle\" x=\"315.5\" y=\"-62.8\" font-family=\"Times New Roman,serif\" font-size=\"14.00\">no</text>\n</g>\n<!-- leaf2 -->\n<g id=\"node8\" class=\"node\">\n<title>leaf2</title>\n<ellipse fill=\"none\" stroke=\"black\" cx=\"559.9\" cy=\"-58\" rx=\"55.79\" ry=\"18\"/>\n<text text-anchor=\"start\" x=\"524.9\" y=\"-55.3\" font-family=\"Times New Roman,serif\" font-size=\"14.00\">leaf 2: </text>\n<text text-anchor=\"start\" x=\"563.9\" y=\"-55.3\" font-family=\"Times New Roman,serif\" font-weight=\"bold\" font-size=\"14.00\">7.602</text>\n</g>\n<!-- split3&#45;&gt;leaf2 -->\n<g id=\"edge5\" class=\"edge\">\n<title>split3&#45;&gt;leaf2</title>\n<path fill=\"none\" stroke=\"black\" d=\"M463.1,-45.9C474.36,-47.33 486.08,-48.81 497.31,-50.22\"/>\n<polygon fill=\"black\" stroke=\"black\" points=\"497.09,-53.72 507.45,-51.5 497.97,-46.78 497.09,-53.72\"/>\n<text text-anchor=\"middle\" x=\"483.5\" y=\"-52.8\" font-family=\"Times New Roman,serif\" font-size=\"14.00\">yes</text>\n</g>\n<!-- leaf4 -->\n<g id=\"node9\" class=\"node\">\n<title>leaf4</title>\n<ellipse fill=\"none\" stroke=\"black\" cx=\"559.9\" cy=\"-18\" rx=\"55.79\" ry=\"18\"/>\n<text text-anchor=\"start\" x=\"524.9\" y=\"-15.3\" font-family=\"Times New Roman,serif\" font-size=\"14.00\">leaf 4: </text>\n<text text-anchor=\"start\" x=\"563.9\" y=\"-15.3\" font-family=\"Times New Roman,serif\" font-weight=\"bold\" font-size=\"14.00\">9.260</text>\n</g>\n<!-- split3&#45;&gt;leaf4 -->\n<g id=\"edge6\" class=\"edge\">\n<title>split3&#45;&gt;leaf4</title>\n<path fill=\"none\" stroke=\"black\" d=\"M463.1,-30.1C474.36,-28.67 486.08,-27.19 497.31,-25.78\"/>\n<polygon fill=\"black\" stroke=\"black\" points=\"497.97,-29.22 507.45,-24.5 497.09,-22.28 497.97,-29.22\"/>\n<text text-anchor=\"middle\" x=\"483.5\" y=\"-31.8\" font-family=\"Times New Roman,serif\" font-size=\"14.00\">no</text>\n</g>\n</g>\n</svg>\n",
      "text/plain": [
       "<graphviz.graphs.Digraph at 0x1df02576b20>"
      ]
     },
     "execution_count": 110,
     "metadata": {},
     "output_type": "execute_result"
    }
   ],
   "source": [
    "import os\n",
    "os.environ[\"PATH\"] += os.pathsep + 'C:\\Program Files\\Graphviz\\\\bin'\n",
    "# lgb.plot_tree(model_linear)\n",
    "# for i in range(params['num_iterations']):\n",
    "# p = lgb.create_tree_digraph(model_linear, params['num_iterations'] - 1)\n",
    "p = lgb.create_tree_digraph(model_linear, 0)\n",
    "p"
   ]
  },
  {
   "cell_type": "code",
   "execution_count": 111,
   "metadata": {},
   "outputs": [],
   "source": [
    "# I use a lazy way to compute the value of the first tree\n",
    "bin_1, bin_2, bin_3, bin_4, bin_5 = [], [], [], [], []\n",
    "for i in range(len(X_train)):\n",
    "    if X_train[i] <= -7.415:\n",
    "        bin_1.append(y_train[i])\n",
    "    elif -7.415 <= X_train[i] <= 17.050:\n",
    "        bin_2.append(y_train[i])\n",
    "    elif 17.050 <= X_train[i] <= 39.6:\n",
    "        bin_3.append(y_train[i])\n",
    "    elif 39.6 <= X_train[i] <= 52.65:\n",
    "        bin_4.append(y_train[i])\n",
    "    else:\n",
    "        bin_5.append(y_train[i])\n",
    "\n",
    "avg_1, avg_2, avg_3, avg_4, avg_5 = np.average(bin_1), np.average(bin_2), np.average(bin_3), np.average(bin_4), np.average(bin_5)\n",
    "for i in range(len(X_train)):\n",
    "    if X_train[i] <= -7.415:\n",
    "        y_train[i] -= avg_1\n",
    "    elif -7.415 <= X_train[i] <= 17.050:\n",
    "        y_train[i] -= avg_2\n",
    "    elif 17.050 <= X_train[i] <= 39.6:\n",
    "        y_train[i] -= avg_3\n",
    "    elif 39.6 <= X_train[i] <= 52.65:\n",
    "        y_train[i] -= avg_4\n",
    "    else:\n",
    "        y_train[i] -= avg_5"
   ]
  },
  {
   "cell_type": "code",
   "execution_count": 112,
   "metadata": {},
   "outputs": [
    {
     "data": {
      "image/svg+xml": "<?xml version=\"1.0\" encoding=\"UTF-8\" standalone=\"no\"?>\n<!DOCTYPE svg PUBLIC \"-//W3C//DTD SVG 1.1//EN\"\n \"http://www.w3.org/Graphics/SVG/1.1/DTD/svg11.dtd\">\n<!-- Generated by graphviz version 2.50.0 (0)\n -->\n<!-- Pages: 1 -->\n<svg width=\"791pt\" height=\"144pt\"\n viewBox=\"0.00 0.00 791.29 144.00\" xmlns=\"http://www.w3.org/2000/svg\" xmlns:xlink=\"http://www.w3.org/1999/xlink\">\n<g id=\"graph0\" class=\"graph\" transform=\"scale(1 1) rotate(0) translate(4 140)\">\n<polygon fill=\"white\" stroke=\"transparent\" points=\"-4,4 -4,-140 787.29,-140 787.29,4 -4,4\"/>\n<!-- split0 -->\n<g id=\"node1\" class=\"node\">\n<title>split0</title>\n<polygon fill=\"none\" stroke=\"black\" points=\"120,-116 0,-116 0,-80 120,-80 120,-116\"/>\n<text text-anchor=\"start\" x=\"8\" y=\"-95.3\" font-family=\"Times New Roman,serif\" font-weight=\"bold\" font-size=\"14.00\">Column_0</text>\n<text text-anchor=\"start\" x=\"69\" y=\"-95.3\" font-family=\"Times New Roman,serif\" font-size=\"14.00\"> ≤</text>\n<text text-anchor=\"start\" x=\"81\" y=\"-95.3\" font-family=\"Times New Roman,serif\" font-weight=\"bold\" font-size=\"14.00\">3.505</text>\n</g>\n<!-- leaf0 -->\n<g id=\"node2\" class=\"node\">\n<title>leaf0</title>\n<ellipse fill=\"none\" stroke=\"black\" cx=\"224.5\" cy=\"-118\" rx=\"55.79\" ry=\"18\"/>\n<text text-anchor=\"start\" x=\"189.5\" y=\"-115.3\" font-family=\"Times New Roman,serif\" font-size=\"14.00\">leaf 0: </text>\n<text text-anchor=\"start\" x=\"228.5\" y=\"-115.3\" font-family=\"Times New Roman,serif\" font-weight=\"bold\" font-size=\"14.00\">0.585</text>\n</g>\n<!-- split0&#45;&gt;leaf0 -->\n<g id=\"edge1\" class=\"edge\">\n<title>split0&#45;&gt;leaf0</title>\n<path fill=\"none\" stroke=\"black\" d=\"M120.13,-105.28C133.65,-106.94 148.06,-108.71 161.69,-110.39\"/>\n<polygon fill=\"black\" stroke=\"black\" points=\"161.58,-113.91 171.93,-111.65 162.44,-106.96 161.58,-113.91\"/>\n<text text-anchor=\"middle\" x=\"140.5\" y=\"-111.8\" font-family=\"Times New Roman,serif\" font-size=\"14.00\">yes</text>\n</g>\n<!-- split1 -->\n<g id=\"node3\" class=\"node\">\n<title>split1</title>\n<polygon fill=\"none\" stroke=\"black\" points=\"288,-96 161,-96 161,-60 288,-60 288,-96\"/>\n<text text-anchor=\"start\" x=\"169\" y=\"-75.3\" font-family=\"Times New Roman,serif\" font-weight=\"bold\" font-size=\"14.00\">Column_0</text>\n<text text-anchor=\"start\" x=\"230\" y=\"-75.3\" font-family=\"Times New Roman,serif\" font-size=\"14.00\"> ≤</text>\n<text text-anchor=\"start\" x=\"242\" y=\"-75.3\" font-family=\"Times New Roman,serif\" font-weight=\"bold\" font-size=\"14.00\">24.850</text>\n</g>\n<!-- split0&#45;&gt;split1 -->\n<g id=\"edge8\" class=\"edge\">\n<title>split0&#45;&gt;split1</title>\n<path fill=\"none\" stroke=\"black\" d=\"M120.13,-90.72C130.06,-89.5 140.48,-88.22 150.71,-86.96\"/>\n<polygon fill=\"black\" stroke=\"black\" points=\"151.36,-90.4 160.86,-85.71 150.51,-83.46 151.36,-90.4\"/>\n<text text-anchor=\"middle\" x=\"140.5\" y=\"-92.8\" font-family=\"Times New Roman,serif\" font-size=\"14.00\">no</text>\n</g>\n<!-- leaf1 -->\n<g id=\"node4\" class=\"node\">\n<title>leaf1</title>\n<ellipse fill=\"none\" stroke=\"black\" cx=\"392.5\" cy=\"-98\" rx=\"59.29\" ry=\"18\"/>\n<text text-anchor=\"start\" x=\"355\" y=\"-95.3\" font-family=\"Times New Roman,serif\" font-size=\"14.00\">leaf 1: </text>\n<text text-anchor=\"start\" x=\"394\" y=\"-95.3\" font-family=\"Times New Roman,serif\" font-weight=\"bold\" font-size=\"14.00\">&#45;1.025</text>\n</g>\n<!-- split1&#45;&gt;leaf1 -->\n<g id=\"edge2\" class=\"edge\">\n<title>split1&#45;&gt;leaf1</title>\n<path fill=\"none\" stroke=\"black\" d=\"M288.26,-85.56C301.01,-87.1 314.44,-88.72 327.24,-90.26\"/>\n<polygon fill=\"black\" stroke=\"black\" points=\"327,-93.75 337.35,-91.48 327.84,-86.8 327,-93.75\"/>\n<text text-anchor=\"middle\" x=\"308.5\" y=\"-91.8\" font-family=\"Times New Roman,serif\" font-size=\"14.00\">yes</text>\n</g>\n<!-- split2 -->\n<g id=\"node5\" class=\"node\">\n<title>split2</title>\n<polygon fill=\"none\" stroke=\"black\" points=\"456,-76 329,-76 329,-40 456,-40 456,-76\"/>\n<text text-anchor=\"start\" x=\"337\" y=\"-55.3\" font-family=\"Times New Roman,serif\" font-weight=\"bold\" font-size=\"14.00\">Column_0</text>\n<text text-anchor=\"start\" x=\"398\" y=\"-55.3\" font-family=\"Times New Roman,serif\" font-size=\"14.00\"> ≤</text>\n<text text-anchor=\"start\" x=\"410\" y=\"-55.3\" font-family=\"Times New Roman,serif\" font-weight=\"bold\" font-size=\"14.00\">39.600</text>\n</g>\n<!-- split1&#45;&gt;split2 -->\n<g id=\"edge7\" class=\"edge\">\n<title>split1&#45;&gt;split2</title>\n<path fill=\"none\" stroke=\"black\" d=\"M288.26,-70.44C298.24,-69.24 308.64,-67.98 318.83,-66.76\"/>\n<polygon fill=\"black\" stroke=\"black\" points=\"319.42,-70.21 328.93,-65.54 318.58,-63.26 319.42,-70.21\"/>\n<text text-anchor=\"middle\" x=\"308.5\" y=\"-71.8\" font-family=\"Times New Roman,serif\" font-size=\"14.00\">no</text>\n</g>\n<!-- leaf2 -->\n<g id=\"node6\" class=\"node\">\n<title>leaf2</title>\n<ellipse fill=\"none\" stroke=\"black\" cx=\"560.5\" cy=\"-78\" rx=\"55.79\" ry=\"18\"/>\n<text text-anchor=\"start\" x=\"525.5\" y=\"-75.3\" font-family=\"Times New Roman,serif\" font-size=\"14.00\">leaf 2: </text>\n<text text-anchor=\"start\" x=\"564.5\" y=\"-75.3\" font-family=\"Times New Roman,serif\" font-weight=\"bold\" font-size=\"14.00\">0.563</text>\n</g>\n<!-- split2&#45;&gt;leaf2 -->\n<g id=\"edge3\" class=\"edge\">\n<title>split2&#45;&gt;leaf2</title>\n<path fill=\"none\" stroke=\"black\" d=\"M456.26,-65.56C469.87,-67.2 484.25,-68.93 497.81,-70.57\"/>\n<polygon fill=\"black\" stroke=\"black\" points=\"497.66,-74.07 508,-71.8 498.49,-67.12 497.66,-74.07\"/>\n<text text-anchor=\"middle\" x=\"476.5\" y=\"-71.8\" font-family=\"Times New Roman,serif\" font-size=\"14.00\">yes</text>\n</g>\n<!-- split3 -->\n<g id=\"node7\" class=\"node\">\n<title>split3</title>\n<polygon fill=\"none\" stroke=\"black\" points=\"624,-56 497,-56 497,-20 624,-20 624,-56\"/>\n<text text-anchor=\"start\" x=\"505\" y=\"-35.3\" font-family=\"Times New Roman,serif\" font-weight=\"bold\" font-size=\"14.00\">Column_0</text>\n<text text-anchor=\"start\" x=\"566\" y=\"-35.3\" font-family=\"Times New Roman,serif\" font-size=\"14.00\"> ≤</text>\n<text text-anchor=\"start\" x=\"578\" y=\"-35.3\" font-family=\"Times New Roman,serif\" font-weight=\"bold\" font-size=\"14.00\">54.350</text>\n</g>\n<!-- split2&#45;&gt;split3 -->\n<g id=\"edge6\" class=\"edge\">\n<title>split2&#45;&gt;split3</title>\n<path fill=\"none\" stroke=\"black\" d=\"M456.26,-50.44C466.24,-49.24 476.64,-47.98 486.83,-46.76\"/>\n<polygon fill=\"black\" stroke=\"black\" points=\"487.42,-50.21 496.93,-45.54 486.58,-43.26 487.42,-50.21\"/>\n<text text-anchor=\"middle\" x=\"476.5\" y=\"-51.8\" font-family=\"Times New Roman,serif\" font-size=\"14.00\">no</text>\n</g>\n<!-- leaf3 -->\n<g id=\"node8\" class=\"node\">\n<title>leaf3</title>\n<ellipse fill=\"none\" stroke=\"black\" cx=\"724.14\" cy=\"-58\" rx=\"59.29\" ry=\"18\"/>\n<text text-anchor=\"start\" x=\"686.64\" y=\"-55.3\" font-family=\"Times New Roman,serif\" font-size=\"14.00\">leaf 3: </text>\n<text text-anchor=\"start\" x=\"725.64\" y=\"-55.3\" font-family=\"Times New Roman,serif\" font-weight=\"bold\" font-size=\"14.00\">&#45;0.083</text>\n</g>\n<!-- split3&#45;&gt;leaf3 -->\n<g id=\"edge4\" class=\"edge\">\n<title>split3&#45;&gt;leaf3</title>\n<path fill=\"none\" stroke=\"black\" d=\"M624.46,-45.79C635.73,-47.18 647.48,-48.64 658.78,-50.04\"/>\n<polygon fill=\"black\" stroke=\"black\" points=\"658.66,-53.55 669.01,-51.3 659.52,-46.6 658.66,-53.55\"/>\n<text text-anchor=\"middle\" x=\"644.5\" y=\"-52.8\" font-family=\"Times New Roman,serif\" font-size=\"14.00\">yes</text>\n</g>\n<!-- leaf4 -->\n<g id=\"node9\" class=\"node\">\n<title>leaf4</title>\n<ellipse fill=\"none\" stroke=\"black\" cx=\"724.14\" cy=\"-18\" rx=\"55.79\" ry=\"18\"/>\n<text text-anchor=\"start\" x=\"689.14\" y=\"-15.3\" font-family=\"Times New Roman,serif\" font-size=\"14.00\">leaf 4: </text>\n<text text-anchor=\"start\" x=\"728.14\" y=\"-15.3\" font-family=\"Times New Roman,serif\" font-weight=\"bold\" font-size=\"14.00\">0.100</text>\n</g>\n<!-- split3&#45;&gt;leaf4 -->\n<g id=\"edge5\" class=\"edge\">\n<title>split3&#45;&gt;leaf4</title>\n<path fill=\"none\" stroke=\"black\" d=\"M624.46,-30.21C636.72,-28.69 649.55,-27.11 661.76,-25.6\"/>\n<polygon fill=\"black\" stroke=\"black\" points=\"662.34,-29.05 671.84,-24.35 661.48,-22.1 662.34,-29.05\"/>\n<text text-anchor=\"middle\" x=\"644.5\" y=\"-31.8\" font-family=\"Times New Roman,serif\" font-size=\"14.00\">no</text>\n</g>\n</g>\n</svg>\n",
      "text/plain": [
       "<graphviz.graphs.Digraph at 0x1df03a14970>"
      ]
     },
     "execution_count": 112,
     "metadata": {},
     "output_type": "execute_result"
    }
   ],
   "source": [
    "p = lgb.create_tree_digraph(model_linear, 1)\n",
    "p"
   ]
  },
  {
   "cell_type": "code",
   "execution_count": 113,
   "metadata": {},
   "outputs": [
    {
     "name": "stdout",
     "output_type": "stream",
     "text": [
      "0.5849796250000001 -1.025276506410256 0.5629487179487187 -0.08297101449275268 0.09956521739130393\n"
     ]
    },
    {
     "data": {
      "text/plain": [
       "(array([[0.13550557]]), array([1.72227107]))"
      ]
     },
     "execution_count": 113,
     "metadata": {},
     "output_type": "execute_result"
    }
   ],
   "source": [
    "# I use a lazy way to compute the value of the first tree\n",
    "bin_1x, bin_2x, bin_3x, bin_4x, bin_5x = [], [], [], [], []\n",
    "bin_1y, bin_2y, bin_3y, bin_4y, bin_5y = [], [], [], [], []\n",
    "for i in range(len(X_train)):\n",
    "    if X_train[i] <= 3.505:\n",
    "        bin_1x.append(X_train[i])\n",
    "        bin_1y.append(y_train[i])\n",
    "    elif 3.505 <= X_train[i] <= 24.850:\n",
    "        bin_2x.append(X_train[i])\n",
    "        bin_2y.append(y_train[i])\n",
    "    elif 24.850 <= X_train[i] <= 39.6:\n",
    "        bin_3x.append(X_train[i])\n",
    "        bin_3y.append(y_train[i])\n",
    "    elif 39.6 <= X_train[i] <= 54.35:\n",
    "        bin_4x.append(X_train[i])\n",
    "        bin_4y.append(y_train[i])\n",
    "    else:\n",
    "        bin_5x.append(X_train[i])\n",
    "        bin_5y.append(y_train[i])\n",
    "\n",
    "print(np.average(bin_1y), np.average(bin_2y), np.average(bin_3y), np.average(bin_4y), np.average(bin_5y))\n",
    "reg1 = LinearRegression().fit(bin_1x, bin_1y)\n",
    "reg1.coef_, reg1.intercept_"
   ]
  },
  {
   "attachments": {},
   "cell_type": "markdown",
   "metadata": {},
   "source": [
    "# How result is generated from each tree"
   ]
  },
  {
   "cell_type": "code",
   "execution_count": 114,
   "metadata": {},
   "outputs": [
    {
     "name": "stderr",
     "output_type": "stream",
     "text": [
      "c:\\Users\\yufengq\\anaconda3\\envs\\py39\\lib\\site-packages\\lightgbm\\engine.py:177: UserWarning: Found `num_iterations` in params. Will use it instead of argument\n",
      "  _log_warning(f\"Found `{alias}` in params. Will use it instead of argument\")\n"
     ]
    }
   ],
   "source": [
    "params_1 = {\n",
    "    \"objective\": \"regression\",\n",
    "    \"metric\": \"rmse\",\n",
    "    \"learning_rate\": 0.2,\n",
    "    \"verbosity\": -1,\n",
    "    'num_iterations': 4,\n",
    "}\n",
    "\n",
    "model_linear_1 = lgb.train(params_1, train_data_linear)\n",
    "model_normal_1 = lgb.train(params_1, train_data_normal)\n"
   ]
  },
  {
   "cell_type": "code",
   "execution_count": 126,
   "metadata": {},
   "outputs": [],
   "source": [
    "# final result\n",
    "result = model_linear_1.predict(X_test)"
   ]
  },
  {
   "cell_type": "code",
   "execution_count": 127,
   "metadata": {},
   "outputs": [],
   "source": [
    "# result from tree 0\n",
    "result0 = model_linear_1.predict(X_test, start_iteration=0, num_iteration=1)\n",
    "# result from tree 1\n",
    "result1 = model_linear_1.predict(X_test, start_iteration=1, num_iteration=1)\n",
    "# result from tree 2\n",
    "result2 = model_linear_1.predict(X_test, start_iteration=2, num_iteration=1)\n",
    "# result from tree 3\n",
    "result3 = model_linear_1.predict(X_test, start_iteration=3, num_iteration=1)"
   ]
  },
  {
   "cell_type": "code",
   "execution_count": 128,
   "metadata": {},
   "outputs": [
    {
     "data": {
      "text/plain": [
       "array([ True,  True,  True,  True,  True,  True,  True,  True,  True,\n",
       "        True,  True,  True,  True,  True,  True,  True,  True,  True,\n",
       "        True,  True,  True,  True,  True,  True,  True,  True,  True,\n",
       "        True,  True,  True,  True,  True,  True,  True,  True,  True])"
      ]
     },
     "execution_count": 128,
     "metadata": {},
     "output_type": "execute_result"
    }
   ],
   "source": [
    "# final result is just a combination of all the results from each tree\n",
    "result == result0 + result1 + result2 + result3"
   ]
  },
  {
   "cell_type": "code",
   "execution_count": 129,
   "metadata": {},
   "outputs": [
    {
     "data": {
      "text/plain": [
       "(0.38190000000000013, 0.38297190027799854)"
      ]
     },
     "execution_count": 129,
     "metadata": {},
     "output_type": "execute_result"
    }
   ],
   "source": [
    "# seleact a single input to test the result\n",
    "X[0]\n",
    "# observe manually from the txt file, the result from each tree is the following\n",
    "2.184, 0.0916*(-11)+0.362, 0.0425*(-11)-0.175, 0.034*(-11)-0.14\n",
    "# compare the result \n",
    "2.184+ 0.0916*(-11)+0.362+ 0.0425*(-11)-0.175+ 0.034*(-11)-0.14, result[0]"
   ]
  },
  {
   "attachments": {},
   "cell_type": "markdown",
   "metadata": {},
   "source": [
    "this shows that the learning rate (shrinkage) is added to the coefficient and constant of each leaf"
   ]
  },
  {
   "attachments": {},
   "cell_type": "markdown",
   "metadata": {},
   "source": [
    "# Visualization of how each tree fit the data"
   ]
  },
  {
   "cell_type": "code",
   "execution_count": 130,
   "metadata": {},
   "outputs": [],
   "source": [
    "# final result\n",
    "result = model_linear.predict(X)\n",
    "# result from tree 0\n",
    "result0 = model_linear.predict(X, start_iteration=0, num_iteration=1)\n",
    "# result from tree 1\n",
    "result1 = model_linear.predict(X, start_iteration=1, num_iteration=1)\n",
    "# result from tree 2\n",
    "result2 = model_linear.predict(X, start_iteration=2, num_iteration=1)\n",
    "# result from tree 3\n",
    "result3 = model_linear.predict(X, start_iteration=3, num_iteration=1)"
   ]
  },
  {
   "cell_type": "code",
   "execution_count": 134,
   "metadata": {},
   "outputs": [
    {
     "data": {
      "image/png": "[encoded data removed]",
      "text/plain": [
       "<Figure size 1440x864 with 1 Axes>"
      ]
     },
     "metadata": {
      "needs_background": "light"
     },
     "output_type": "display_data"
    }
   ],
   "source": [
    "plt.figure(figsize=(20,12))\n",
    "plt.scatter(X, result0 ,label='tree_0')\n",
    "plt.scatter(X, result1 ,label='tree_1')\n",
    "plt.scatter(X, result2 ,label='tree_2')\n",
    "plt.scatter(X, result3 ,label='tree_3')\n",
    "# plt.scatter(X, result, label='overall_tree')\n",
    "plt.scatter(X, y, label = 'original data')\n",
    "plt.legend()\n",
    "plt.xlabel('thata')\n",
    "plt.ylabel('z')\n",
    "plt.show()"
   ]
  },
  {
   "cell_type": "code",
   "execution_count": 133,
   "metadata": {},
   "outputs": [
    {
     "data": {
      "image/png": "[encoded data removed]",
      "text/plain": [
       "<Figure size 1440x864 with 1 Axes>"
      ]
     },
     "metadata": {
      "needs_background": "light"
     },
     "output_type": "display_data"
    }
   ],
   "source": [
    "plt.figure(figsize=(20,12))\n",
    "plt.scatter(X, result0, label='tree_0')\n",
    "plt.scatter(X, result0 + result1, label='tree_01')\n",
    "plt.scatter(X, result0 + result1 + result2, label='tree_012')\n",
    "plt.scatter(X, result0 + result1 + result2 + result3, label='tree_0123')\n",
    "# plt.scatter(X, result, label='overall_tree')\n",
    "plt.scatter(X, y, label = 'original data')\n",
    "plt.legend()\n",
    "plt.xlabel('thata')\n",
    "plt.ylabel('z')\n",
    "plt.show()"
   ]
  },
  {
   "attachments": {},
   "cell_type": "markdown",
   "metadata": {},
   "source": [
    "# Parse"
   ]
  },
  {
   "cell_type": "code",
   "execution_count": 122,
   "metadata": {},
   "outputs": [
    {
     "data": {
      "text/plain": [
       "{'name': 'tree',\n",
       " 'version': 'v3',\n",
       " 'num_class': 1,\n",
       " 'num_tree_per_iteration': 1,\n",
       " 'label_index': 0,\n",
       " 'max_feature_idx': 0,\n",
       " 'objective': 'regression',\n",
       " 'average_output': False,\n",
       " 'feature_names': ['Column_0'],\n",
       " 'monotone_constraints': [],\n",
       " 'feature_infos': {'Column_0': {'min_value': -20,\n",
       "   'max_value': 65,\n",
       "   'values': []}},\n",
       " 'tree_info': [{'tree_index': 0,\n",
       "   'num_leaves': 5,\n",
       "   'num_cat': 0,\n",
       "   'shrinkage': 1,\n",
       "   'tree_structure': {'split_index': 0,\n",
       "    'split_feature': 0,\n",
       "    'split_gain': 2554.25,\n",
       "    'threshold': 17.050000000000004,\n",
       "    'decision_type': '<=',\n",
       "    'default_left': True,\n",
       "    'missing_type': 'None',\n",
       "    'internal_value': 3.37509,\n",
       "    'internal_weight': 0,\n",
       "    'internal_count': 144,\n",
       "    'left_child': {'split_index': 2,\n",
       "     'split_feature': 0,\n",
       "     'split_gain': 34.784400939941406,\n",
       "     'threshold': -7.414999999999999,\n",
       "     'decision_type': '<=',\n",
       "     'default_left': True,\n",
       "     'missing_type': 'None',\n",
       "     'internal_value': -1.5376699999999999,\n",
       "     'internal_weight': 61,\n",
       "     'internal_count': 61,\n",
       "     'left_child': {'leaf_index': 0,\n",
       "      'leaf_value': -2.5798571129414505,\n",
       "      'leaf_weight': 21,\n",
       "      'leaf_count': 21,\n",
       "      'leaf_const': -2.5798571129414505,\n",
       "      'leaf_features': [],\n",
       "      'leaf_coeff': []},\n",
       "     'right_child': {'leaf_index': 3,\n",
       "      'leaf_value': -0.9905150411159012,\n",
       "      'leaf_weight': 40,\n",
       "      'leaf_count': 40,\n",
       "      'leaf_const': -0.9905150411159012,\n",
       "      'leaf_features': [],\n",
       "      'leaf_coeff': []}},\n",
       "    'right_child': {'split_index': 1,\n",
       "     'split_feature': 0,\n",
       "     'split_gain': 206.06300354003906,\n",
       "     'threshold': 39.6,\n",
       "     'decision_type': '<=',\n",
       "     'default_left': True,\n",
       "     'missing_type': 'None',\n",
       "     'internal_value': 6.98566,\n",
       "     'internal_weight': 83,\n",
       "     'internal_count': 83,\n",
       "     'left_child': {'leaf_index': 1,\n",
       "      'leaf_value': 5.312051298418162,\n",
       "      'leaf_weight': 39,\n",
       "      'leaf_count': 39,\n",
       "      'leaf_const': 5.312051298418162,\n",
       "      'leaf_features': [],\n",
       "      'leaf_coeff': []},\n",
       "     'right_child': {'split_index': 3,\n",
       "      'split_feature': 0,\n",
       "      'split_gain': 30.1781005859375,\n",
       "      'threshold': 52.65000000000001,\n",
       "      'decision_type': '<=',\n",
       "      'default_left': True,\n",
       "      'missing_type': 'None',\n",
       "      'internal_value': 8.46909,\n",
       "      'internal_weight': 44,\n",
       "      'internal_count': 44,\n",
       "      'left_child': {'leaf_index': 2,\n",
       "       'leaf_value': 7.60238085277859,\n",
       "       'leaf_weight': 21,\n",
       "       'leaf_count': 21,\n",
       "       'leaf_const': 7.60238085277859,\n",
       "       'leaf_features': [],\n",
       "       'leaf_coeff': []},\n",
       "      'right_child': {'leaf_index': 4,\n",
       "       'leaf_value': 9.260434619151617,\n",
       "       'leaf_weight': 23,\n",
       "       'leaf_count': 23,\n",
       "       'leaf_const': 9.260434619151617,\n",
       "       'leaf_features': [],\n",
       "       'leaf_coeff': []}}}}},\n",
       "  {'tree_index': 1,\n",
       "   'num_leaves': 5,\n",
       "   'num_cat': 0,\n",
       "   'shrinkage': 1,\n",
       "   'tree_structure': {'split_index': 0,\n",
       "    'split_feature': 0,\n",
       "    'split_gain': 18.952699661254883,\n",
       "    'threshold': 3.5050000000000003,\n",
       "    'decision_type': '<=',\n",
       "    'default_left': True,\n",
       "    'missing_type': 'None',\n",
       "    'internal_value': 0,\n",
       "    'internal_weight': 0,\n",
       "    'internal_count': 144,\n",
       "    'left_child': {'leaf_index': 0,\n",
       "     'leaf_value': 0.5849796184338629,\n",
       "     'leaf_weight': 40,\n",
       "     'leaf_count': 40,\n",
       "     'leaf_const': 1.7222709177137903,\n",
       "     'leaf_features': [0],\n",
       "     'leaf_coeff': [0.1355055540717488]},\n",
       "    'right_child': {'split_index': 1,\n",
       "     'split_feature': 0,\n",
       "     'split_gain': 35.262699127197266,\n",
       "     'threshold': 24.850000000000005,\n",
       "     'decision_type': '<=',\n",
       "     'default_left': True,\n",
       "     'missing_type': 'None',\n",
       "     'internal_value': -0.224992,\n",
       "     'internal_weight': 104,\n",
       "     'internal_count': 104,\n",
       "     'left_child': {'leaf_index': 1,\n",
       "      'leaf_value': -1.0252765072509646,\n",
       "      'leaf_weight': 36,\n",
       "      'leaf_count': 36,\n",
       "      'leaf_const': -1.5208447135414263,\n",
       "      'leaf_features': [0],\n",
       "      'leaf_coeff': [0.03331549910052739]},\n",
       "     'right_child': {'split_index': 2,\n",
       "      'split_feature': 0,\n",
       "      'split_gain': 4.921440124511719,\n",
       "      'threshold': 39.6,\n",
       "      'decision_type': '<=',\n",
       "      'default_left': True,\n",
       "      'missing_type': 'None',\n",
       "      'internal_value': 0.198688,\n",
       "      'internal_weight': 68,\n",
       "      'internal_count': 68,\n",
       "      'left_child': {'leaf_index': 2,\n",
       "       'leaf_value': 0.5629486836648235,\n",
       "       'leaf_weight': 24,\n",
       "       'leaf_count': 24,\n",
       "       'leaf_const': -3.529003310790827,\n",
       "       'leaf_features': [0],\n",
       "       'leaf_coeff': [0.127574497271133]},\n",
       "      'right_child': {'split_index': 3,\n",
       "       'split_feature': 0,\n",
       "       'split_gain': 0.36348599195480347,\n",
       "       'threshold': 54.35000000000001,\n",
       "       'decision_type': '<=',\n",
       "       'default_left': True,\n",
       "       'missing_type': 'None',\n",
       "       'internal_value': 1.46831e-07,\n",
       "       'internal_weight': 44,\n",
       "       'internal_count': 44,\n",
       "       'left_child': {'leaf_index': 3,\n",
       "        'leaf_value': -0.08297091039518516,\n",
       "        'leaf_weight': 24,\n",
       "        'leaf_count': 24,\n",
       "        'leaf_const': -2.538669492120431,\n",
       "        'leaf_features': [0],\n",
       "        'leaf_coeff': [0.052514279971323435]},\n",
       "       'right_child': {'leaf_index': 4,\n",
       "        'leaf_value': 0.09956541550345718,\n",
       "        'leaf_weight': 20,\n",
       "        'leaf_count': 20,\n",
       "        'leaf_const': -8.230654443215883,\n",
       "        'leaf_features': [0],\n",
       "        'leaf_coeff': [0.13933629161171512]}}}}}},\n",
       "  {'tree_index': 2,\n",
       "   'num_leaves': 6,\n",
       "   'num_cat': 0,\n",
       "   'shrinkage': 1,\n",
       "   'tree_structure': {'split_index': 0,\n",
       "    'split_feature': 0,\n",
       "    'split_gain': 3.176800012588501,\n",
       "    'threshold': -0.7704999999999999,\n",
       "    'decision_type': '<=',\n",
       "    'default_left': True,\n",
       "    'missing_type': 'None',\n",
       "    'internal_value': 0,\n",
       "    'internal_weight': 0,\n",
       "    'internal_count': 144,\n",
       "    'left_child': {'leaf_index': 0,\n",
       "     'leaf_value': 0.2724068389753952,\n",
       "     'leaf_weight': 33,\n",
       "     'leaf_count': 33,\n",
       "     'leaf_const': 1.2600675422668326,\n",
       "     'leaf_features': [0],\n",
       "     'leaf_coeff': [0.0940032392734072]},\n",
       "    'right_child': {'split_index': 1,\n",
       "     'split_feature': 0,\n",
       "     'split_gain': 12.79699993133545,\n",
       "     'threshold': 15.350000000000001,\n",
       "     'decision_type': '<=',\n",
       "     'default_left': True,\n",
       "     'missing_type': 'None',\n",
       "     'internal_value': -0.0809859,\n",
       "     'internal_weight': 111,\n",
       "     'internal_count': 111,\n",
       "     'left_child': {'leaf_index': 1,\n",
       "      'leaf_value': -0.7107403001189232,\n",
       "      'leaf_weight': 25,\n",
       "      'leaf_count': 25,\n",
       "      'leaf_const': -0.2575877540448199,\n",
       "      'leaf_features': [0],\n",
       "      'leaf_coeff': [-0.06117003815586894]},\n",
       "     'right_child': {'split_index': 2,\n",
       "      'split_feature': 0,\n",
       "      'split_gain': 2.7685000896453857,\n",
       "      'threshold': 27.250000000000004,\n",
       "      'decision_type': '<=',\n",
       "      'default_left': True,\n",
       "      'missing_type': 'None',\n",
       "      'internal_value': 0.102082,\n",
       "      'internal_weight': 86,\n",
       "      'internal_count': 86,\n",
       "      'left_child': {'leaf_index': 2,\n",
       "       'leaf_value': 0.41774241294756176,\n",
       "       'leaf_weight': 21,\n",
       "       'leaf_count': 21,\n",
       "       'leaf_const': 3.954725109757314,\n",
       "       'leaf_features': [0],\n",
       "       'leaf_coeff': [-0.16884891497674148]},\n",
       "      'right_child': {'split_index': 3,\n",
       "       'split_feature': 0,\n",
       "       'split_gain': 0.5358179807662964,\n",
       "       'threshold': 52.65000000000001,\n",
       "       'decision_type': '<=',\n",
       "       'default_left': True,\n",
       "       'missing_type': 'None',\n",
       "       'internal_value': 9.9749e-05,\n",
       "       'internal_weight': 65,\n",
       "       'internal_count': 65,\n",
       "       'left_child': {'split_index': 4,\n",
       "        'split_feature': 0,\n",
       "        'split_gain': 0.18841500580310822,\n",
       "        'threshold': 39.6,\n",
       "        'decision_type': '<=',\n",
       "        'default_left': True,\n",
       "        'missing_type': 'None',\n",
       "        'internal_value': 0.0672876,\n",
       "        'internal_weight': 42,\n",
       "        'internal_count': 42,\n",
       "        'left_child': {'leaf_index': 3,\n",
       "         'leaf_value': 0.00030951300903411935,\n",
       "         'leaf_weight': 21,\n",
       "         'leaf_count': 21,\n",
       "         'leaf_const': 0.00652947501272343,\n",
       "         'leaf_features': [0],\n",
       "         'leaf_coeff': [-0.00018897453848422223]},\n",
       "        'right_child': {'leaf_index': 5,\n",
       "         'leaf_value': 0.13426578656903335,\n",
       "         'leaf_weight': 21,\n",
       "         'leaf_count': 21,\n",
       "         'leaf_const': -3.2488582632555847,\n",
       "         'leaf_features': [0],\n",
       "         'leaf_coeff': [0.07389038979233892]}},\n",
       "       'right_child': {'leaf_index': 4,\n",
       "        'leaf_value': -0.1225912002188599,\n",
       "        'leaf_weight': 23,\n",
       "        'leaf_count': 23,\n",
       "        'leaf_const': -3.104503885059234,\n",
       "        'leaf_features': [0],\n",
       "        'leaf_coeff': [0.05055952658096563]}}}}}},\n",
       "  {'tree_index': 3,\n",
       "   'num_leaves': 6,\n",
       "   'num_cat': 0,\n",
       "   'shrinkage': 1,\n",
       "   'tree_structure': {'split_index': 0,\n",
       "    'split_feature': 0,\n",
       "    'split_gain': 2.3896899223327637,\n",
       "    'threshold': -7.414999999999999,\n",
       "    'decision_type': '<=',\n",
       "    'default_left': True,\n",
       "    'missing_type': 'None',\n",
       "    'internal_value': 0,\n",
       "    'internal_weight': 0,\n",
       "    'internal_count': 144,\n",
       "    'left_child': {'leaf_index': 0,\n",
       "     'leaf_value': 0.31176848035483135,\n",
       "     'leaf_weight': 21,\n",
       "     'leaf_count': 21,\n",
       "     'leaf_const': 3.592476114372844,\n",
       "     'leaf_features': [0],\n",
       "     'leaf_coeff': [0.2285752275991204]},\n",
       "    'right_child': {'split_index': 1,\n",
       "     'split_feature': 0,\n",
       "     'split_gain': 2.7308599948883057,\n",
       "     'threshold': 5.405,\n",
       "     'decision_type': '<=',\n",
       "     'default_left': True,\n",
       "     'missing_type': 'None',\n",
       "     'internal_value': -0.0532288,\n",
       "     'internal_weight': 123,\n",
       "     'internal_count': 123,\n",
       "     'left_child': {'leaf_index': 1,\n",
       "      'leaf_value': -0.3724904265254736,\n",
       "      'leaf_weight': 22,\n",
       "      'leaf_count': 22,\n",
       "      'leaf_const': -0.3051498073945118,\n",
       "      'leaf_features': [0],\n",
       "      'leaf_coeff': [0.07154212126479445]},\n",
       "     'right_child': {'split_index': 2,\n",
       "      'split_feature': 0,\n",
       "      'split_gain': 0.7975379824638367,\n",
       "      'threshold': 18.700000000000003,\n",
       "      'decision_type': '<=',\n",
       "      'default_left': True,\n",
       "      'missing_type': 'None',\n",
       "      'internal_value': 0.0163133,\n",
       "      'internal_weight': 101,\n",
       "      'internal_count': 101,\n",
       "      'left_child': {'leaf_index': 2,\n",
       "       'leaf_value': 0.18975376373245603,\n",
       "       'leaf_weight': 21,\n",
       "       'leaf_count': 21,\n",
       "       'leaf_const': 1.10956398935338,\n",
       "       'leaf_features': [0],\n",
       "       'leaf_coeff': [-0.07347285292383243]},\n",
       "      'right_child': {'split_index': 3,\n",
       "       'split_feature': 0,\n",
       "       'split_gain': 0.3286609947681427,\n",
       "       'threshold': 54.35000000000001,\n",
       "       'decision_type': '<=',\n",
       "       'default_left': True,\n",
       "       'missing_type': 'None',\n",
       "       'internal_value': -0.0292148,\n",
       "       'internal_weight': 80,\n",
       "       'internal_count': 80,\n",
       "       'left_child': {'split_index': 4,\n",
       "        'split_feature': 0,\n",
       "        'split_gain': 0.06851290166378021,\n",
       "        'threshold': 30.100000000000005,\n",
       "        'decision_type': '<=',\n",
       "        'default_left': True,\n",
       "        'missing_type': 'None',\n",
       "        'internal_value': -0.0662205,\n",
       "        'internal_weight': 60,\n",
       "        'internal_count': 60,\n",
       "        'left_child': {'leaf_index': 3,\n",
       "         'leaf_value': -0.1122709282651721,\n",
       "         'leaf_weight': 21,\n",
       "         'leaf_count': 21,\n",
       "         'leaf_const': -2.241890872065162,\n",
       "         'leaf_features': [0],\n",
       "         'leaf_coeff': [0.08774185398974749]},\n",
       "        'right_child': {'leaf_index': 5,\n",
       "         'leaf_value': -0.04142417149915463,\n",
       "         'leaf_weight': 39,\n",
       "         'leaf_count': 39,\n",
       "         'leaf_const': 0.37397821511944573,\n",
       "         'leaf_features': [0],\n",
       "         'leaf_coeff': [-0.009870046304223758]}},\n",
       "       'right_child': {'leaf_index': 4,\n",
       "        'leaf_value': 0.08180228630080819,\n",
       "        'leaf_weight': 20,\n",
       "        'leaf_count': 20,\n",
       "        'leaf_const': 3.104450639596646,\n",
       "        'leaf_features': [0],\n",
       "        'leaf_coeff': [-0.050558643209396015]}}}}}}],\n",
       " 'feature_importances': {'Column_0': 18},\n",
       " 'pandas_categorical': None}"
      ]
     },
     "execution_count": 122,
     "metadata": {},
     "output_type": "execute_result"
    }
   ],
   "source": [
    "model_linear.dump_model()\n",
    "# model_linear.trees_to_dataframe()"
   ]
  },
  {
   "cell_type": "code",
   "execution_count": 123,
   "metadata": {},
   "outputs": [
    {
     "data": {
      "text/plain": [
       "dict_keys(['split_index', 'split_feature', 'split_gain', 'threshold', 'decision_type', 'default_left', 'missing_type', 'internal_value', 'internal_weight', 'internal_count', 'left_child', 'right_child'])"
      ]
     },
     "execution_count": 123,
     "metadata": {},
     "output_type": "execute_result"
    }
   ],
   "source": [
    "model_linear.dump_model()['tree_info'][0][\"tree_structure\"].keys()"
   ]
  },
  {
   "cell_type": "code",
   "execution_count": 124,
   "metadata": {},
   "outputs": [
    {
     "data": {
      "text/plain": [
       "{'split0': {'split_index': 0, 'threshold': 17.050000000000004},\n",
       " 'split2': {'split_index': 2, 'threshold': -7.414999999999999},\n",
       " 'split1': {'split_index': 1, 'threshold': 39.6},\n",
       " 'leaf0': {'leaf_index': 0, 'value': -2.5798571129414505},\n",
       " 'leaf3': {'leaf_index': 3, 'value': -0.9905150411159012},\n",
       " 'leaf1': {'leaf_index': 1, 'value': 5.312051298418162},\n",
       " 'split3': {'split_index': 3, 'threshold': 52.65000000000001},\n",
       " 'leaf2': {'leaf_index': 2, 'value': 7.60238085277859},\n",
       " 'leaf4': {'leaf_index': 4, 'value': 9.260434619151617}}"
      ]
     },
     "execution_count": 124,
     "metadata": {},
     "output_type": "execute_result"
    }
   ],
   "source": [
    "node = model_linear.dump_model()['tree_info'][0][\"tree_structure\"]\n",
    "queue = [node]\n",
    "dict = {}\n",
    "dict[\"split\"+str(queue[0][\"split_index\"])] = {'split_index': queue[0][\"split_index\"],\n",
    "                                 'threshold': queue[0][\"threshold\"], }\n",
    "while queue:\n",
    "    if \"left_child\" in queue[0].keys():\n",
    "        queue.append(queue[0][\"left_child\"])\n",
    "        if \"split_index\" in queue[0][\"left_child\"].keys():\n",
    "            dict[\"split\"+str(queue[0][\"left_child\"][\"split_index\"])] = {'split_index': queue[0][\"left_child\"][\"split_index\"],\n",
    "                                                           'threshold': queue[0][\"left_child\"][\"threshold\"], }\n",
    "        else:\n",
    "            dict[\"leaf\"+str(queue[0][\"left_child\"][\"leaf_index\"])] = {'leaf_index': queue[0][\"left_child\"][\"leaf_index\"],\n",
    "                                                          'value': queue[0][\"left_child\"][\"leaf_value\"], }\n",
    "    if \"right_child\" in queue[0].keys():\n",
    "        queue.append(queue[0][\"right_child\"])      \n",
    "        if \"split_index\" in queue[0][\"right_child\"].keys():\n",
    "            dict[\"split\"+str(queue[0][\"right_child\"][\"split_index\"])] = {'split_index': queue[0][\"right_child\"][\"split_index\"],\n",
    "                                                           'threshold': queue[0][\"right_child\"][\"threshold\"], }\n",
    "        else:\n",
    "            dict[\"leaf\"+str(queue[0][\"right_child\"][\"leaf_index\"])] = {'leaf_index': queue[0][\"right_child\"][\"leaf_index\"],\n",
    "                                                          'value': queue[0][\"right_child\"][\"leaf_value\"], }\n",
    "    queue.pop(0)\n",
    "\n",
    "dict"
   ]
  }
 ],
 "metadata": {
  "kernelspec": {
   "display_name": "py39",
   "language": "python",
   "name": "python3"
  },
  "language_info": {
   "codemirror_mode": {
    "name": "ipython",
    "version": 3
   },
   "file_extension": ".py",
   "mimetype": "text/x-python",
   "name": "python",
   "nbconvert_exporter": "python",
   "pygments_lexer": "ipython3",
   "version": "3.9.7"
  },
  "orig_nbformat": 4,
  "vscode": {
   "interpreter": {
    "hash": "456704d50d3d572b793e0cd2b7d6582a4be81758880130904cd25ce1810ce8f0"
   }
  }
 },
 "nbformat": 4,
 "nbformat_minor": 2
}
