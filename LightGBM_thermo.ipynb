{
 "cells": [
  {
   "cell_type": "code",
   "execution_count": 104,
   "metadata": {},
   "outputs": [],
   "source": [
    "import numpy as np\n",
    "from sklearn.linear_model import *\n",
    "from lineartree import LinearTreeRegressor\n",
    "import matplotlib.pyplot as plt\n",
    "import pprint\n",
    "from sklearn.model_selection import train_test_split\n",
    "from sklearn.metrics import mean_squared_error\n",
    "pp = pprint.PrettyPrinter(indent=4)\n",
    "import time\n",
    "import lightgbm as lgb"
   ]
  },
  {
   "cell_type": "code",
   "execution_count": 105,
   "metadata": {},
   "outputs": [
    {
     "name": "stdout",
     "output_type": "stream",
     "text": [
      "1.27588638\n",
      "65.523\n",
      "1.0\n",
      "250.0\n"
     ]
    }
   ],
   "source": [
    "# Read the data from the csv file\n",
    "data = np.genfromtxt('data/PHTSV_Table_HMAX_Adjusted.csv', delimiter=',')\n",
    "data = data[1:-1, :]\n",
    "\n",
    "# 2 D array containing Pressure and Enthalpy data\n",
    "P_H = data[:, 0:2]\n",
    "\n",
    "# Scale the pressure to bar and scale the enthalpy to kJ/mol\n",
    "P_H[:, 0] = P_H[:, 0] / 1e5\n",
    "P_H[:, 1] = P_H[:, 1] / 1000\n",
    "minP = np.min(data[:, 0])\n",
    "maxP = np.max(data[:, 0])\n",
    "minH = np.min(data[:, 1])\n",
    "maxH = np.max(data[:, 1])\n",
    "print(minH)\n",
    "print(maxH)\n",
    "print(minP)\n",
    "print(maxP)\n",
    "\n",
    "# Vector containing Temperatures\n",
    "T = data[:, 2]\n",
    "minT = np.min(T)\n",
    "maxT = np.max(T)"
   ]
  },
  {
   "cell_type": "code",
   "execution_count": 106,
   "metadata": {},
   "outputs": [],
   "source": [
    "X_train, X_test, y_train, y_test = train_test_split(P_H, T, test_size=0.2, random_state=42)"
   ]
  },
  {
   "attachments": {},
   "cell_type": "markdown",
   "metadata": {},
   "source": [
    "# num_iterations"
   ]
  },
  {
   "cell_type": "code",
   "execution_count": 149,
   "metadata": {},
   "outputs": [
    {
     "name": "stderr",
     "output_type": "stream",
     "text": [
      "c:\\Users\\shumengl\\.conda\\envs\\omlt\\lib\\site-packages\\lightgbm\\engine.py:177: UserWarning: Found `num_iterations` in params. Will use it instead of argument\n",
      "  _log_warning(f\"Found `{alias}` in params. Will use it instead of argument\")\n"
     ]
    },
    {
     "name": "stdout",
     "output_type": "stream",
     "text": [
      "time cost: 0.08719348907470703 s\n",
      "Linear trees error: 3.927\n",
      "numer of leaves: 4000\n"
     ]
    },
    {
     "name": "stderr",
     "output_type": "stream",
     "text": [
      "c:\\Users\\shumengl\\.conda\\envs\\omlt\\lib\\site-packages\\lightgbm\\engine.py:177: UserWarning: Found `num_iterations` in params. Will use it instead of argument\n",
      "  _log_warning(f\"Found `{alias}` in params. Will use it instead of argument\")\n"
     ]
    },
    {
     "name": "stdout",
     "output_type": "stream",
     "text": [
      "time cost: 0.13683748245239258 s\n",
      "Linear trees error: 0.801\n",
      "numer of leaves: 6000\n",
      "time cost: 0.13486862182617188 s\n",
      "Linear trees error: 0.602\n"
     ]
    },
    {
     "name": "stderr",
     "output_type": "stream",
     "text": [
      "c:\\Users\\shumengl\\.conda\\envs\\omlt\\lib\\site-packages\\lightgbm\\engine.py:177: UserWarning: Found `num_iterations` in params. Will use it instead of argument\n",
      "  _log_warning(f\"Found `{alias}` in params. Will use it instead of argument\")\n"
     ]
    },
    {
     "name": "stdout",
     "output_type": "stream",
     "text": [
      "numer of leaves: 8000\n",
      "time cost: 0.14660978317260742 s\n",
      "Linear trees error: 0.458\n"
     ]
    },
    {
     "name": "stderr",
     "output_type": "stream",
     "text": [
      "c:\\Users\\shumengl\\.conda\\envs\\omlt\\lib\\site-packages\\lightgbm\\engine.py:177: UserWarning: Found `num_iterations` in params. Will use it instead of argument\n",
      "  _log_warning(f\"Found `{alias}` in params. Will use it instead of argument\")\n"
     ]
    },
    {
     "name": "stdout",
     "output_type": "stream",
     "text": [
      "numer of leaves: 9984\n",
      "time cost: 0.15999245643615723 s\n",
      "Linear trees error: 0.392\n"
     ]
    },
    {
     "name": "stderr",
     "output_type": "stream",
     "text": [
      "c:\\Users\\shumengl\\.conda\\envs\\omlt\\lib\\site-packages\\lightgbm\\engine.py:177: UserWarning: Found `num_iterations` in params. Will use it instead of argument\n",
      "  _log_warning(f\"Found `{alias}` in params. Will use it instead of argument\")\n"
     ]
    },
    {
     "name": "stdout",
     "output_type": "stream",
     "text": [
      "numer of leaves: 11824\n"
     ]
    },
    {
     "name": "stderr",
     "output_type": "stream",
     "text": [
      "c:\\Users\\shumengl\\.conda\\envs\\omlt\\lib\\site-packages\\lightgbm\\engine.py:177: UserWarning: Found `num_iterations` in params. Will use it instead of argument\n",
      "  _log_warning(f\"Found `{alias}` in params. Will use it instead of argument\")\n"
     ]
    },
    {
     "name": "stdout",
     "output_type": "stream",
     "text": [
      "time cost: 0.250612735748291 s\n",
      "Linear trees error: 0.357\n",
      "numer of leaves: 13582\n"
     ]
    },
    {
     "name": "stderr",
     "output_type": "stream",
     "text": [
      "c:\\Users\\shumengl\\.conda\\envs\\omlt\\lib\\site-packages\\lightgbm\\engine.py:177: UserWarning: Found `num_iterations` in params. Will use it instead of argument\n",
      "  _log_warning(f\"Found `{alias}` in params. Will use it instead of argument\")\n"
     ]
    },
    {
     "name": "stdout",
     "output_type": "stream",
     "text": [
      "time cost: 0.27573633193969727 s\n",
      "Linear trees error: 0.335\n",
      "numer of leaves: 15178\n"
     ]
    },
    {
     "name": "stderr",
     "output_type": "stream",
     "text": [
      "c:\\Users\\shumengl\\.conda\\envs\\omlt\\lib\\site-packages\\lightgbm\\engine.py:177: UserWarning: Found `num_iterations` in params. Will use it instead of argument\n",
      "  _log_warning(f\"Found `{alias}` in params. Will use it instead of argument\")\n"
     ]
    },
    {
     "name": "stdout",
     "output_type": "stream",
     "text": [
      "time cost: 0.2796602249145508 s\n",
      "Linear trees error: 0.323\n",
      "numer of leaves: 16924\n"
     ]
    },
    {
     "name": "stderr",
     "output_type": "stream",
     "text": [
      "c:\\Users\\shumengl\\.conda\\envs\\omlt\\lib\\site-packages\\lightgbm\\engine.py:177: UserWarning: Found `num_iterations` in params. Will use it instead of argument\n",
      "  _log_warning(f\"Found `{alias}` in params. Will use it instead of argument\")\n"
     ]
    },
    {
     "name": "stdout",
     "output_type": "stream",
     "text": [
      "time cost: 0.2818131446838379 s\n",
      "Linear trees error: 0.313\n",
      "numer of leaves: 18490\n"
     ]
    }
   ],
   "source": [
    "train_data_linear = lgb.Dataset(\n",
    "    X_train, label=y_train, params={'linear_tree': True, })\n",
    "lgb_dic = {}\n",
    "num_iterations = np.arange(20, 110, 10)\n",
    "for i in range(len(num_iterations)):\n",
    "    params = {\n",
    "        \"objective\": \"regression\",\n",
    "        \"metric\": \"rmse\",\n",
    "        \"learning_rate\": 0.2,\n",
    "        'num_leaves': 100,\n",
    "        \"verbosity\": -1,\n",
    "        'min_samples_leaf': 8,\n",
    "        'max_bin': 60,\n",
    "        'num_iterations': num_iterations[i],\n",
    "        'max_depth': 8,\n",
    "    }\n",
    "    time_start = time.time()\n",
    "    model_linear = lgb.train(params, train_data_linear)\n",
    "    time_end = time.time()\n",
    "    print('time cost:', time_end - time_start, 's')\n",
    "    y_pred_linear = model_linear.predict(X_test)\n",
    "    print(\n",
    "        f\"Linear trees error: {round(mean_squared_error(y_test, y_pred_linear),3)}\")\n",
    "    df = model_linear.trees_to_dataframe()\n",
    "    # len(df[df[\"right_child\"].isnull()]) == len(\n",
    "    #     df[df[\"left_child\"].isnull()]) == len(df[df[\"decision_type\"].isnull()])\n",
    "    print('numer of leaves:', 2 * len(df[df[\"right_child\"].isnull()]))\n",
    "    lgb_dic['model' +\n",
    "            str(i)] = {'time': time_end - time_start,\n",
    "                       'mse': round(mean_squared_error(y_test, y_pred_linear), 3),\n",
    "                       'num_leaves': 2 * len(df[df[\"right_child\"].isnull()])}\n"
   ]
  },
  {
   "cell_type": "code",
   "execution_count": 151,
   "metadata": {},
   "outputs": [
    {
     "name": "stdout",
     "output_type": "stream",
     "text": [
      "time cost: 5.479190826416016 s\n",
      "Linear trees error: 0.422\n",
      "numer of leaves: 148\n"
     ]
    }
   ],
   "source": [
    "LT_dic = {}\n",
    "time_start=time.time()\n",
    "regr = LinearTreeRegressor(LinearRegression(), criterion='mse', max_bins=60,\n",
    "                           min_samples_leaf=8, max_depth=8, min_impurity_decrease=0.1)\n",
    "regr.fit(X_train, y_train)\n",
    "time_end = time.time()\n",
    "LT_dic['time'] = time_end - time_start\n",
    "print('time cost:', LT_dic['time'], 's')\n",
    "y_pred = regr.predict(X_test)\n",
    "LT_dic['mse'] = round(mean_squared_error(y_pred, y_test),3)\n",
    "print(f\"Linear trees error: {LT_dic['mse']}\")\n",
    "LT_dic['num_leaves'] = len(regr.summary(only_leaves=True))\n",
    "print('numer of leaves:', LT_dic['num_leaves'])"
   ]
  },
  {
   "cell_type": "code",
   "execution_count": 152,
   "metadata": {},
   "outputs": [
    {
     "data": {
      "text/plain": [
       "<matplotlib.legend.Legend at 0x14f2a7fdfd0>"
      ]
     },
     "execution_count": 152,
     "metadata": {},
     "output_type": "execute_result"
    },
    {
     "data": {
      "image/png": "[encoded data removed]",
      "text/plain": [
       "<Figure size 640x480 with 1 Axes>"
      ]
     },
     "metadata": {},
     "output_type": "display_data"
    }
   ],
   "source": [
    "for i in range(len(num_iterations)):\n",
    "    plt.plot(num_iterations[i], lgb_dic['model'+str(i)]['mse'], 'r*')\n",
    "    if i == len(num_iterations)-1:\n",
    "    #     print('last')\n",
    "        plt.annotate(lgb_dic['model' + str(i)]['num_leaves'],\n",
    "                    xy=(num_iterations[i], lgb_dic['model' + str(i)]['mse']), \n",
    "                    xytext=(num_iterations[i]+1, lgb_dic['model' + str(i)]['mse']-0.08), \n",
    "                    arrowprops=dict(arrowstyle=\"->\"))\n",
    "plt.axhline(y=LT_dic['mse'])\n",
    "plt.annotate(str(LT_dic['num_leaves']),\n",
    "             xy=(82, 0.45),\n",
    "             xytext=(85, 0.55),\n",
    "             arrowprops=dict(arrowstyle=\"- >\"))\n",
    "plt.ylim(0, 1)\n",
    "plt.xlim(0, 110)\n",
    "plt.ylabel(\"mse\")\n",
    "plt.xlabel(\"num_iterations\")\n",
    "plt.legend(labels=['LightGBM'])"
   ]
  },
  {
   "attachments": {},
   "cell_type": "markdown",
   "metadata": {},
   "source": [
    "# max_bins"
   ]
  },
  {
   "cell_type": "code",
   "execution_count": 153,
   "metadata": {},
   "outputs": [
    {
     "name": "stderr",
     "output_type": "stream",
     "text": [
      "c:\\Users\\shumengl\\.conda\\envs\\omlt\\lib\\site-packages\\lightgbm\\engine.py:177: UserWarning: Found `num_iterations` in params. Will use it instead of argument\n",
      "  _log_warning(f\"Found `{alias}` in params. Will use it instead of argument\")\n"
     ]
    },
    {
     "name": "stdout",
     "output_type": "stream",
     "text": [
      "time cost: 0.5048606395721436 s\n",
      "Linear trees error: 5.042\n",
      "numer of leaves: 19586\n"
     ]
    },
    {
     "name": "stderr",
     "output_type": "stream",
     "text": [
      "c:\\Users\\shumengl\\.conda\\envs\\omlt\\lib\\site-packages\\lightgbm\\engine.py:177: UserWarning: Found `num_iterations` in params. Will use it instead of argument\n",
      "  _log_warning(f\"Found `{alias}` in params. Will use it instead of argument\")\n"
     ]
    },
    {
     "name": "stdout",
     "output_type": "stream",
     "text": [
      "time cost: 0.3018620014190674 s\n",
      "Linear trees error: 1.947\n",
      "numer of leaves: 19788\n"
     ]
    },
    {
     "name": "stderr",
     "output_type": "stream",
     "text": [
      "c:\\Users\\shumengl\\.conda\\envs\\omlt\\lib\\site-packages\\lightgbm\\engine.py:177: UserWarning: Found `num_iterations` in params. Will use it instead of argument\n",
      "  _log_warning(f\"Found `{alias}` in params. Will use it instead of argument\")\n"
     ]
    },
    {
     "name": "stdout",
     "output_type": "stream",
     "text": [
      "time cost: 0.4265773296356201 s\n",
      "Linear trees error: 1.234\n",
      "numer of leaves: 19456\n"
     ]
    },
    {
     "name": "stderr",
     "output_type": "stream",
     "text": [
      "c:\\Users\\shumengl\\.conda\\envs\\omlt\\lib\\site-packages\\lightgbm\\engine.py:177: UserWarning: Found `num_iterations` in params. Will use it instead of argument\n",
      "  _log_warning(f\"Found `{alias}` in params. Will use it instead of argument\")\n"
     ]
    },
    {
     "name": "stdout",
     "output_type": "stream",
     "text": [
      "time cost: 0.3605380058288574 s\n",
      "Linear trees error: 1.172\n",
      "numer of leaves: 19484\n"
     ]
    },
    {
     "name": "stderr",
     "output_type": "stream",
     "text": [
      "c:\\Users\\shumengl\\.conda\\envs\\omlt\\lib\\site-packages\\lightgbm\\engine.py:177: UserWarning: Found `num_iterations` in params. Will use it instead of argument\n",
      "  _log_warning(f\"Found `{alias}` in params. Will use it instead of argument\")\n"
     ]
    },
    {
     "name": "stdout",
     "output_type": "stream",
     "text": [
      "time cost: 0.35637927055358887 s\n",
      "Linear trees error: 0.313\n",
      "numer of leaves: 18490\n"
     ]
    },
    {
     "name": "stderr",
     "output_type": "stream",
     "text": [
      "c:\\Users\\shumengl\\.conda\\envs\\omlt\\lib\\site-packages\\lightgbm\\engine.py:177: UserWarning: Found `num_iterations` in params. Will use it instead of argument\n",
      "  _log_warning(f\"Found `{alias}` in params. Will use it instead of argument\")\n"
     ]
    },
    {
     "name": "stdout",
     "output_type": "stream",
     "text": [
      "time cost: 0.29231715202331543 s\n",
      "Linear trees error: 0.377\n",
      "numer of leaves: 18254\n"
     ]
    },
    {
     "name": "stderr",
     "output_type": "stream",
     "text": [
      "c:\\Users\\shumengl\\.conda\\envs\\omlt\\lib\\site-packages\\lightgbm\\engine.py:177: UserWarning: Found `num_iterations` in params. Will use it instead of argument\n",
      "  _log_warning(f\"Found `{alias}` in params. Will use it instead of argument\")\n"
     ]
    },
    {
     "name": "stdout",
     "output_type": "stream",
     "text": [
      "time cost: 0.3302609920501709 s\n",
      "Linear trees error: 0.426\n",
      "numer of leaves: 17898\n"
     ]
    },
    {
     "name": "stderr",
     "output_type": "stream",
     "text": [
      "c:\\Users\\shumengl\\.conda\\envs\\omlt\\lib\\site-packages\\lightgbm\\engine.py:177: UserWarning: Found `num_iterations` in params. Will use it instead of argument\n",
      "  _log_warning(f\"Found `{alias}` in params. Will use it instead of argument\")\n"
     ]
    },
    {
     "name": "stdout",
     "output_type": "stream",
     "text": [
      "time cost: 0.29128193855285645 s\n",
      "Linear trees error: 0.442\n",
      "numer of leaves: 17908\n"
     ]
    }
   ],
   "source": [
    "max_bins = np.arange(20, 100, 10)\n",
    "lgb_dic = {}\n",
    "for i in range(len(max_bins)):\n",
    "    train_data_linear = lgb.Dataset(\n",
    "        X_train, label=y_train, params={'linear_tree': True, })\n",
    "    params = {\n",
    "        \"objective\": \"regression\",\n",
    "        \"metric\": \"rmse\",\n",
    "        \"learning_rate\": 0.2,\n",
    "        'num_leaves': 100,\n",
    "        \"verbosity\": -1,\n",
    "        'min_samples_leaf': 8,\n",
    "        'max_bin': max_bins[i],\n",
    "        'num_iterations': 100,\n",
    "        'max_depth': 8,\n",
    "    }\n",
    "    time_start = time.time()\n",
    "    model_linear = lgb.train(params, train_data_linear)\n",
    "    time_end = time.time()\n",
    "    print('time cost:', time_end - time_start, 's')\n",
    "    y_pred_linear = model_linear.predict(X_test)\n",
    "    print(\n",
    "        f\"Linear trees error: {round(mean_squared_error(y_test, y_pred_linear),3)}\")\n",
    "    df = model_linear.trees_to_dataframe()\n",
    "    # len(df[df[\"right_child\"].isnull()]) == len(\n",
    "    #     df[df[\"left_child\"].isnull()]) == len(df[df[\"decision_type\"].isnull()])\n",
    "    print('numer of leaves:', 2 * len(df[df[\"right_child\"].isnull()]))\n",
    "    lgb_dic['model' +\n",
    "            str(i)] = {'time': time_end - time_start, \n",
    "                        'mse': round(mean_squared_error(y_test, y_pred_linear), 3), \n",
    "                        'num_leaves': 2 * len(df[df[\"right_child\"].isnull()])}"
   ]
  },
  {
   "cell_type": "code",
   "execution_count": 154,
   "metadata": {},
   "outputs": [
    {
     "name": "stdout",
     "output_type": "stream",
     "text": [
      "time cost: 1.570094108581543 s\n",
      "Linear trees error: 4.998\n",
      "numer of leaves: 114\n",
      "time cost: 2.4708054065704346 s\n",
      "Linear trees error: 2.086\n",
      "numer of leaves: 151\n",
      "time cost: 3.4463648796081543 s\n",
      "Linear trees error: 0.997\n",
      "numer of leaves: 151\n",
      "time cost: 4.702179670333862 s\n",
      "Linear trees error: 1.316\n",
      "numer of leaves: 148\n",
      "time cost: 5.638882160186768 s\n",
      "Linear trees error: 0.422\n",
      "numer of leaves: 148\n",
      "time cost: 6.044005632400513 s\n",
      "Linear trees error: 0.658\n",
      "numer of leaves: 141\n",
      "time cost: 7.482273817062378 s\n",
      "Linear trees error: 0.349\n",
      "numer of leaves: 144\n",
      "time cost: 8.699278593063354 s\n",
      "Linear trees error: 0.456\n",
      "numer of leaves: 144\n"
     ]
    }
   ],
   "source": [
    "LT_dic = {}\n",
    "for i in range(len(max_bins)):\n",
    "    time_start = time.time()\n",
    "    regr = LinearTreeRegressor(LinearRegression(), criterion='mse', max_bins=max_bins[i],\n",
    "                               min_samples_leaf=8, max_depth=8, min_impurity_decrease=0.1)\n",
    "    regr.fit(X_train, y_train)\n",
    "    time_end = time.time()\n",
    "    print('time cost:', time_end - time_start, 's')\n",
    "    y_pred_linear = regr.predict(X_test)\n",
    "    print(\n",
    "        f\"Linear trees error: {round(mean_squared_error(y_test, y_pred_linear),3)}\")\n",
    "    df = model_linear.trees_to_dataframe()\n",
    "    # len(df[df[\"right_child\"].isnull()]) == len(\n",
    "    #     df[df[\"left_child\"].isnull()]) == len(df[df[\"decision_type\"].isnull()])\n",
    "    print('numer of leaves:', len(regr.summary(only_leaves=True)))\n",
    "    LT_dic['model' +\n",
    "            str(i)] = {'time': time_end - time_start,\n",
    "                       'mse': round(mean_squared_error(y_test, y_pred_linear), 3),\n",
    "                       'num_leaves': len(regr.summary(only_leaves=True))}\n",
    "time_start=time.time()"
   ]
  },
  {
   "cell_type": "code",
   "execution_count": 170,
   "metadata": {},
   "outputs": [
    {
     "data": {
      "text/plain": [
       "<matplotlib.legend.Legend at 0x14f2df28640>"
      ]
     },
     "execution_count": 170,
     "metadata": {},
     "output_type": "execute_result"
    },
    {
     "data": {
      "image/png": "[encoded data removed]",
      "text/plain": [
       "<Figure size 640x480 with 1 Axes>"
      ]
     },
     "metadata": {},
     "output_type": "display_data"
    }
   ],
   "source": [
    "for i in range(len(max_bins)):\n",
    "    plt.plot(max_bins[i], lgb_dic['model' + str(i)]['mse'], 'r*')\n",
    "    plt.plot(max_bins[i], LT_dic['model' + str(i)]['mse'], 'b.')\n",
    "    if i == len(max_bins) - 1:\n",
    "    #     print('last')\n",
    "        plt.annotate(lgb_dic['model' + str(i)]['num_leaves'],\n",
    "                        xy=(max_bins[i], lgb_dic['model' + str(i)]['mse']),\n",
    "                        xytext=(max_bins[i] + 1,\n",
    "                                lgb_dic['model' + str(i)]['mse'] - 0.3),\n",
    "                        arrowprops=dict(arrowstyle=\"->\"))\n",
    "        plt.annotate(LT_dic['model' + str(i)]['num_leaves'],\n",
    "                     xy=(max_bins[i], LT_dic['model' + str(i)]['mse']),\n",
    "                     xytext=(max_bins[i] - 5,\n",
    "                             LT_dic['model' + str(i)]['mse'] + 0.3),\n",
    "                     arrowprops=dict(arrowstyle=\"->\"))\n",
    "plt.ylim(0, 5)\n",
    "plt.xlim(0, 110)\n",
    "plt.ylabel(\"mse\")\n",
    "plt.xlabel(\"max_bins\")\n",
    "plt.legend(labels=['LightGBM', 'linear-tree'])\n"
   ]
  },
  {
   "attachments": {},
   "cell_type": "markdown",
   "metadata": {},
   "source": [
    "[Tree leaves](https://www.programiz.com/dsa/full-binary-tree) vs MSE\n",
    "With other information(max_depth or max_bins vs # of iterations)"
   ]
  }
 ],
 "metadata": {
  "kernelspec": {
   "display_name": "omlt",
   "language": "python",
   "name": "python3"
  },
  "language_info": {
   "codemirror_mode": {
    "name": "ipython",
    "version": 3
   },
   "file_extension": ".py",
   "mimetype": "text/x-python",
   "name": "python",
   "nbconvert_exporter": "python",
   "pygments_lexer": "ipython3",
   "version": "3.9.7"
  },
  "orig_nbformat": 4,
  "vscode": {
   "interpreter": {
    "hash": "1350035cc40cae99d9ac3d7616956bcbe564bb24e49d70c7419fe84e0969da51"
   }
  }
 },
 "nbformat": 4,
 "nbformat_minor": 2
}
