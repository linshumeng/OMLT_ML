{
 "cells": [
  {
   "cell_type": "code",
   "execution_count": 14,
   "metadata": {},
   "outputs": [],
   "source": [
    "import numpy as np\n",
    "from sklearn.linear_model import *\n",
    "from lineartree import LinearTreeRegressor\n",
    "import matplotlib.pyplot as plt\n",
    "import pprint\n",
    "from sklearn.model_selection import train_test_split\n",
    "from sklearn.metrics import mean_squared_error\n",
    "pp = pprint.PrettyPrinter(indent=4)\n",
    "import time"
   ]
  },
  {
   "cell_type": "code",
   "execution_count": 15,
   "metadata": {},
   "outputs": [
    {
     "name": "stdout",
     "output_type": "stream",
     "text": [
      "1.27588638\n",
      "65.523\n",
      "1.0\n",
      "250.0\n"
     ]
    }
   ],
   "source": [
    "# Read the data from the csv file\n",
    "data = np.genfromtxt('data/PHTSV_Table_HMAX_Adjusted.csv', delimiter=',')\n",
    "data = data[1:-1, :]\n",
    "\n",
    "# 2 D array containing Pressure and Enthalpy data\n",
    "P_H = data[:, 0:2]\n",
    "\n",
    "# Scale the pressure to bar and scale the enthalpy to kJ/mol\n",
    "P_H[:, 0] = P_H[:, 0] / 1e5\n",
    "P_H[:, 1] = P_H[:, 1] / 1000\n",
    "minP = np.min(data[:, 0])\n",
    "maxP = np.max(data[:, 0])\n",
    "minH = np.min(data[:, 1])\n",
    "maxH = np.max(data[:, 1])\n",
    "print(minH)\n",
    "print(maxH)\n",
    "print(minP)\n",
    "print(maxP)\n",
    "\n",
    "# Vector containing Temperatures\n",
    "T = data[:, 2]\n",
    "minT = np.min(T)\n",
    "maxT = np.max(T)"
   ]
  },
  {
   "cell_type": "code",
   "execution_count": 17,
   "metadata": {},
   "outputs": [],
   "source": [
    "X_train, X_test, y_train, y_test = train_test_split(P_H, T, test_size=0.2, random_state=42)"
   ]
  },
  {
   "cell_type": "code",
   "execution_count": 20,
   "metadata": {},
   "outputs": [
    {
     "name": "stdout",
     "output_type": "stream",
     "text": [
      "time cost 12.561430215835571 s\n",
      "Linear trees error: 0.422\n"
     ]
    },
    {
     "data": {
      "text/plain": [
       "148"
      ]
     },
     "execution_count": 20,
     "metadata": {},
     "output_type": "execute_result"
    }
   ],
   "source": [
    "time_start=time.time()\n",
    "regr = LinearTreeRegressor(LinearRegression(), criterion='mse', max_bins=60,\n",
    "                           min_samples_leaf=8, max_depth=8, min_impurity_decrease=0.1)\n",
    "regr.fit(X_train, y_train)\n",
    "time_end = time.time()\n",
    "y_pred = regr.predict(X_test)\n",
    "print('time cost', time_end - time_start, 's')\n",
    "print(f\"Linear trees error: {round(mean_squared_error(y_pred, y_test),3)}\")\n",
    "len(regr.summary(only_leaves=True))"
   ]
  },
  {
   "attachments": {},
   "cell_type": "markdown",
   "metadata": {},
   "source": [
    "[Tree leaves](https://www.programiz.com/dsa/full-binary-tree) vs MSE\n",
    "With other information(max_depth or max_bins vs # of iterations)"
   ]
  }
 ],
 "metadata": {
  "kernelspec": {
   "display_name": "omlt",
   "language": "python",
   "name": "python3"
  },
  "language_info": {
   "codemirror_mode": {
    "name": "ipython",
    "version": 3
   },
   "file_extension": ".py",
   "mimetype": "text/x-python",
   "name": "python",
   "nbconvert_exporter": "python",
   "pygments_lexer": "ipython3",
   "version": "3.9.7"
  },
  "orig_nbformat": 4,
  "vscode": {
   "interpreter": {
    "hash": "1350035cc40cae99d9ac3d7616956bcbe564bb24e49d70c7419fe84e0969da51"
   }
  }
 },
 "nbformat": 4,
 "nbformat_minor": 2
}
