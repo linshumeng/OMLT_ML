{
 "cells": [
  {
   "cell_type": "code",
   "execution_count": 2,
   "metadata": {},
   "outputs": [
    {
     "name": "stderr",
     "output_type": "stream",
     "text": [
      "c:\\Users\\yufengq\\anaconda3\\envs\\py39\\lib\\site-packages\\numpy\\_distributor_init.py:30: UserWarning: loaded more than 1 DLL from .libs:\n",
      "c:\\Users\\yufengq\\anaconda3\\envs\\py39\\lib\\site-packages\\numpy\\.libs\\libopenblas.EL2C6PLE4ZYW3ECEVIV3OXXGRN2NRFM2.gfortran-win_amd64.dll\n",
      "c:\\Users\\yufengq\\anaconda3\\envs\\py39\\lib\\site-packages\\numpy\\.libs\\libopenblas.FB5AE2TYXYH2IJRDKGDGQ3XBKLKTF43H.gfortran-win_amd64.dll\n",
      "  warnings.warn(\"loaded more than 1 DLL from .libs:\"\n"
     ]
    }
   ],
   "source": [
    "import lightgbm as lgb\n",
    "import numpy as np\n",
    "import matplotlib.pyplot as plt\n",
    "import pandas as pd\n",
    "\n",
    "from sklearn.model_selection import train_test_split\n",
    "from sklearn.metrics import mean_squared_error\n",
    "import pprint\n",
    "import onnxmltools\n",
    "from onnxconverter_common.data_types import FloatTensorType\n",
    "import onnx\n",
    "import onnxruntime as rt\n",
    "import numpy as np"
   ]
  },
  {
   "cell_type": "code",
   "execution_count": 3,
   "metadata": {},
   "outputs": [
    {
     "data": {
      "text/html": [
       "<div>\n",
       "<style scoped>\n",
       "    .dataframe tbody tr th:only-of-type {\n",
       "        vertical-align: middle;\n",
       "    }\n",
       "\n",
       "    .dataframe tbody tr th {\n",
       "        vertical-align: top;\n",
       "    }\n",
       "\n",
       "    .dataframe thead th {\n",
       "        text-align: right;\n",
       "    }\n",
       "</style>\n",
       "<table border=\"1\" class=\"dataframe\">\n",
       "  <thead>\n",
       "    <tr style=\"text-align: right;\">\n",
       "      <th></th>\n",
       "      <th>theta</th>\n",
       "      <th>z</th>\n",
       "      <th>u</th>\n",
       "    </tr>\n",
       "  </thead>\n",
       "  <tbody>\n",
       "    <tr>\n",
       "      <th>0</th>\n",
       "      <td>-20.0</td>\n",
       "      <td>-6.08</td>\n",
       "      <td>-3.92</td>\n",
       "    </tr>\n",
       "    <tr>\n",
       "      <th>1</th>\n",
       "      <td>-19.5</td>\n",
       "      <td>-5.58</td>\n",
       "      <td>-4.42</td>\n",
       "    </tr>\n",
       "    <tr>\n",
       "      <th>2</th>\n",
       "      <td>-19.1</td>\n",
       "      <td>-5.13</td>\n",
       "      <td>-4.87</td>\n",
       "    </tr>\n",
       "    <tr>\n",
       "      <th>3</th>\n",
       "      <td>-18.6</td>\n",
       "      <td>-4.71</td>\n",
       "      <td>-5.29</td>\n",
       "    </tr>\n",
       "    <tr>\n",
       "      <th>4</th>\n",
       "      <td>-18.1</td>\n",
       "      <td>-4.32</td>\n",
       "      <td>-5.68</td>\n",
       "    </tr>\n",
       "  </tbody>\n",
       "</table>\n",
       "</div>"
      ],
      "text/plain": [
       "   theta     z     u\n",
       "0  -20.0 -6.08 -3.92\n",
       "1  -19.5 -5.58 -4.42\n",
       "2  -19.1 -5.13 -4.87\n",
       "3  -18.6 -4.71 -5.29\n",
       "4  -18.1 -4.32 -5.68"
      ]
     },
     "execution_count": 3,
     "metadata": {},
     "output_type": "execute_result"
    }
   ],
   "source": [
    "df = pd.read_csv(r\"C:\\Users\\yufengq\\Desktop\\RA\\polynomial3.csv\")\n",
    "df.head()"
   ]
  },
  {
   "cell_type": "code",
   "execution_count": 4,
   "metadata": {},
   "outputs": [],
   "source": [
    "X = df[\"theta\"]\n",
    "y = df[\"z\"]\n",
    "\n",
    "X = X.reset_index(drop = True)\n",
    "y = y.reset_index(drop = True)\n",
    "\n",
    "X = X.to_numpy().reshape(-1, 1)\n",
    "y = y.to_numpy().reshape(-1, 1)"
   ]
  },
  {
   "attachments": {},
   "cell_type": "markdown",
   "metadata": {},
   "source": [
    "# Train the model"
   ]
  },
  {
   "cell_type": "code",
   "execution_count": 5,
   "metadata": {},
   "outputs": [],
   "source": [
    "X_train, X_test, y_train, y_test = train_test_split(X, y, test_size=0.2, random_state=41)\n",
    "\n",
    "train_data_linear = lgb.Dataset(X_train, label=y_train,\n",
    "                        params={\n",
    "                            'linear_tree': True\n",
    "                        })\n",
    "\n",
    "train_data_normal = lgb.Dataset(X_train, label=y_train)"
   ]
  },
  {
   "cell_type": "code",
   "execution_count": 6,
   "metadata": {},
   "outputs": [
    {
     "name": "stderr",
     "output_type": "stream",
     "text": [
      "c:\\Users\\yufengq\\anaconda3\\envs\\py39\\lib\\site-packages\\lightgbm\\engine.py:177: UserWarning: Found `num_iterations` in params. Will use it instead of argument\n",
      "  _log_warning(f\"Found `{alias}` in params. Will use it instead of argument\")\n",
      "c:\\Users\\yufengq\\anaconda3\\envs\\py39\\lib\\site-packages\\lightgbm\\basic.py:179: UserWarning: Converting column-vector to 1d array\n",
      "  _log_warning('Converting column-vector to 1d array')\n"
     ]
    }
   ],
   "source": [
    "params = {\n",
    "    \"objective\": \"regression\",\n",
    "    \"metric\": \"rmse\",\n",
    "    \"max_depth\": 3,\n",
    "    \"num_leaves\": 10,\n",
    "    \"learning_rate\": 1,\n",
    "    \"verbosity\": -1, \n",
    "    'num_iterations': 4\n",
    "}\n",
    "\n",
    "model_linear = lgb.train(params, train_data_linear)\n",
    "model_normal = lgb.train(params, train_data_normal)"
   ]
  },
  {
   "cell_type": "code",
   "execution_count": 7,
   "metadata": {},
   "outputs": [],
   "source": [
    "y_pred_linear = model_linear.predict(X_test, num_iteration=model_linear.best_iteration)\n",
    "y_pred_normal = model_normal.predict(X_test, num_iteration=model_normal.best_iteration)"
   ]
  },
  {
   "cell_type": "code",
   "execution_count": 8,
   "metadata": {},
   "outputs": [
    {
     "name": "stdout",
     "output_type": "stream",
     "text": [
      "Linear trees error: 0.106\n",
      "Normal trees error: 0.624\n"
     ]
    }
   ],
   "source": [
    "print(f\"Linear trees error: {round(mean_squared_error(y_test, y_pred_linear),3)}\")\n",
    "print(f\"Normal trees error: {round(mean_squared_error(y_test, y_pred_normal),3)}\")"
   ]
  },
  {
   "attachments": {},
   "cell_type": "markdown",
   "metadata": {},
   "source": [
    "# PLot the graph"
   ]
  },
  {
   "cell_type": "code",
   "execution_count": 9,
   "metadata": {},
   "outputs": [],
   "source": [
    "y_linear = model_linear.predict(X, num_iteration=model_linear.best_iteration)\n",
    "y_normal = model_normal.predict(X, num_iteration=model_linear.best_iteration)"
   ]
  },
  {
   "cell_type": "code",
   "execution_count": 10,
   "metadata": {},
   "outputs": [
    {
     "data": {
      "image/png": "[encoded data removed]",
      "text/plain": [
       "<Figure size 432x288 with 1 Axes>"
      ]
     },
     "metadata": {
      "needs_background": "light"
     },
     "output_type": "display_data"
    }
   ],
   "source": [
    "# plotting results\n",
    "plt.scatter(X, y, label = 'z (original data)', marker = '.', linewidths=0.001)\n",
    "plt.scatter(X, y_linear, label = 'z (linear)', marker = '.', linewidths=0.001)\n",
    "plt.ylabel('z')\n",
    "plt.xlabel('theta')\n",
    "plt.legend()\n",
    "plt.show()"
   ]
  },
  {
   "attachments": {},
   "cell_type": "markdown",
   "metadata": {},
   "source": [
    "# Save the model"
   ]
  },
  {
   "cell_type": "code",
   "execution_count": 11,
   "metadata": {},
   "outputs": [
    {
     "data": {
      "text/plain": [
       "<lightgbm.basic.Booster at 0x2783da6fc40>"
      ]
     },
     "execution_count": 11,
     "metadata": {},
     "output_type": "execute_result"
    }
   ],
   "source": [
    "model_linear.save_model('linear.txt')"
   ]
  },
  {
   "cell_type": "code",
   "execution_count": 12,
   "metadata": {},
   "outputs": [
    {
     "name": "stderr",
     "output_type": "stream",
     "text": [
      "The maximum opset needed by this model is only 8.\n"
     ]
    }
   ],
   "source": [
    "# Load your LightGBM model\n",
    "\n",
    "# lgb_model = lgb.Booster(model_file=input_lgb_model)\n",
    "\n",
    "# Convert the LightGBM model into ONNX\n",
    "# The initial_types argument is a python list.\n",
    "# Each element is a tuple of a variable name and a type defined in onnxconverter_common/data_types.py\n",
    "onnx_model = onnxmltools.convert_lightgbm(model_linear, initial_types=[('theta', FloatTensorType((None, X.shape[1])))])\n",
    "\n",
    "# Save as protobuf\n",
    "\n",
    "# onnxmltools.utils.save_model(onnx_model, output_onnx_model)"
   ]
  },
  {
   "cell_type": "code",
   "execution_count": 13,
   "metadata": {},
   "outputs": [],
   "source": [
    "converted_model = onnx.load(r\"C:\\Users\\yufengq\\Desktop\\RA\\model.onnx\")"
   ]
  },
  {
   "cell_type": "code",
   "execution_count": 14,
   "metadata": {},
   "outputs": [
    {
     "data": {
      "text/plain": [
       "ir_version: 3\n",
       "producer_name: \"OnnxMLTools\"\n",
       "producer_version: \"1.13.0\"\n",
       "domain: \"onnxconverter-common\"\n",
       "model_version: 0\n",
       "doc_string: \"\"\n",
       "graph {\n",
       "  node {\n",
       "    input: \"theta\"\n",
       "    output: \"variable\"\n",
       "    name: \"LgbmRegressor\"\n",
       "    op_type: \"TreeEnsembleRegressor\"\n",
       "    attribute {\n",
       "      name: \"n_targets\"\n",
       "      i: 1\n",
       "      type: INT\n",
       "    }\n",
       "    attribute {\n",
       "      name: \"nodes_falsenodeids\"\n",
       "      ints: 2\n",
       "      ints: 4\n",
       "      ints: 6\n",
       "      ints: 0\n",
       "      ints: 0\n",
       "      ints: 0\n",
       "      ints: 8\n",
       "      ints: 0\n",
       "      ints: 0\n",
       "      ints: 2\n",
       "      ints: 4\n",
       "      ints: 6\n",
       "      ints: 0\n",
       "      ints: 0\n",
       "      ints: 0\n",
       "      ints: 8\n",
       "      ints: 0\n",
       "      ints: 0\n",
       "      ints: 2\n",
       "      ints: 4\n",
       "      ints: 0\n",
       "      ints: 6\n",
       "      ints: 8\n",
       "      ints: 0\n",
       "      ints: 0\n",
       "      ints: 0\n",
       "      ints: 0\n",
       "      ints: 2\n",
       "      ints: 4\n",
       "      ints: 6\n",
       "      ints: 0\n",
       "      ints: 0\n",
       "      ints: 0\n",
       "      ints: 8\n",
       "      ints: 0\n",
       "      ints: 0\n",
       "      type: INTS\n",
       "    }\n",
       "    attribute {\n",
       "      name: \"nodes_featureids\"\n",
       "      ints: 0\n",
       "      ints: 0\n",
       "      ints: 0\n",
       "      ints: 0\n",
       "      ints: 0\n",
       "      ints: 0\n",
       "      ints: 0\n",
       "      ints: 0\n",
       "      ints: 0\n",
       "      ints: 0\n",
       "      ints: 0\n",
       "      ints: 0\n",
       "      ints: 0\n",
       "      ints: 0\n",
       "      ints: 0\n",
       "      ints: 0\n",
       "      ints: 0\n",
       "      ints: 0\n",
       "      ints: 0\n",
       "      ints: 0\n",
       "      ints: 0\n",
       "      ints: 0\n",
       "      ints: 0\n",
       "      ints: 0\n",
       "      ints: 0\n",
       "      ints: 0\n",
       "      ints: 0\n",
       "      ints: 0\n",
       "      ints: 0\n",
       "      ints: 0\n",
       "      ints: 0\n",
       "      ints: 0\n",
       "      ints: 0\n",
       "      ints: 0\n",
       "      ints: 0\n",
       "      ints: 0\n",
       "      type: INTS\n",
       "    }\n",
       "    attribute {\n",
       "      name: \"nodes_hitrates\"\n",
       "      floats: 1.0\n",
       "      floats: 1.0\n",
       "      floats: 1.0\n",
       "      floats: 1.0\n",
       "      floats: 1.0\n",
       "      floats: 1.0\n",
       "      floats: 1.0\n",
       "      floats: 1.0\n",
       "      floats: 1.0\n",
       "      floats: 1.0\n",
       "      floats: 1.0\n",
       "      floats: 1.0\n",
       "      floats: 1.0\n",
       "      floats: 1.0\n",
       "      floats: 1.0\n",
       "      floats: 1.0\n",
       "      floats: 1.0\n",
       "      floats: 1.0\n",
       "      floats: 1.0\n",
       "      floats: 1.0\n",
       "      floats: 1.0\n",
       "      floats: 1.0\n",
       "      floats: 1.0\n",
       "      floats: 1.0\n",
       "      floats: 1.0\n",
       "      floats: 1.0\n",
       "      floats: 1.0\n",
       "      floats: 1.0\n",
       "      floats: 1.0\n",
       "      floats: 1.0\n",
       "      floats: 1.0\n",
       "      floats: 1.0\n",
       "      floats: 1.0\n",
       "      floats: 1.0\n",
       "      floats: 1.0\n",
       "      floats: 1.0\n",
       "      type: FLOATS\n",
       "    }\n",
       "    attribute {\n",
       "      name: \"nodes_missing_value_tracks_true\"\n",
       "      ints: 1\n",
       "      ints: 0\n",
       "      ints: 1\n",
       "      ints: 0\n",
       "      ints: 0\n",
       "      ints: 0\n",
       "      ints: 1\n",
       "      ints: 0\n",
       "      ints: 0\n",
       "      ints: 1\n",
       "      ints: 0\n",
       "      ints: 1\n",
       "      ints: 0\n",
       "      ints: 0\n",
       "      ints: 0\n",
       "      ints: 1\n",
       "      ints: 0\n",
       "      ints: 0\n",
       "      ints: 1\n",
       "      ints: 1\n",
       "      ints: 0\n",
       "      ints: 1\n",
       "      ints: 1\n",
       "      ints: 0\n",
       "      ints: 0\n",
       "      ints: 0\n",
       "      ints: 0\n",
       "      ints: 1\n",
       "      ints: 0\n",
       "      ints: 1\n",
       "      ints: 0\n",
       "      ints: 0\n",
       "      ints: 0\n",
       "      ints: 1\n",
       "      ints: 0\n",
       "      ints: 0\n",
       "      type: INTS\n",
       "    }\n",
       "    attribute {\n",
       "      name: \"nodes_modes\"\n",
       "      strings: \"BRANCH_LEQ\"\n",
       "      strings: \"BRANCH_LEQ\"\n",
       "      strings: \"BRANCH_LEQ\"\n",
       "      strings: \"LEAF\"\n",
       "      strings: \"LEAF\"\n",
       "      strings: \"LEAF\"\n",
       "      strings: \"BRANCH_LEQ\"\n",
       "      strings: \"LEAF\"\n",
       "      strings: \"LEAF\"\n",
       "      strings: \"BRANCH_LEQ\"\n",
       "      strings: \"BRANCH_LEQ\"\n",
       "      strings: \"BRANCH_LEQ\"\n",
       "      strings: \"LEAF\"\n",
       "      strings: \"LEAF\"\n",
       "      strings: \"LEAF\"\n",
       "      strings: \"BRANCH_LEQ\"\n",
       "      strings: \"LEAF\"\n",
       "      strings: \"LEAF\"\n",
       "      strings: \"BRANCH_LEQ\"\n",
       "      strings: \"BRANCH_LEQ\"\n",
       "      strings: \"LEAF\"\n",
       "      strings: \"BRANCH_LEQ\"\n",
       "      strings: \"BRANCH_LEQ\"\n",
       "      strings: \"LEAF\"\n",
       "      strings: \"LEAF\"\n",
       "      strings: \"LEAF\"\n",
       "      strings: \"LEAF\"\n",
       "      strings: \"BRANCH_LEQ\"\n",
       "      strings: \"BRANCH_LEQ\"\n",
       "      strings: \"BRANCH_LEQ\"\n",
       "      strings: \"LEAF\"\n",
       "      strings: \"LEAF\"\n",
       "      strings: \"LEAF\"\n",
       "      strings: \"BRANCH_LEQ\"\n",
       "      strings: \"LEAF\"\n",
       "      strings: \"LEAF\"\n",
       "      type: STRINGS\n",
       "    }\n",
       "    attribute {\n",
       "      name: \"nodes_nodeids\"\n",
       "      ints: 0\n",
       "      ints: 1\n",
       "      ints: 2\n",
       "      ints: 3\n",
       "      ints: 4\n",
       "      ints: 5\n",
       "      ints: 6\n",
       "      ints: 7\n",
       "      ints: 8\n",
       "      ints: 0\n",
       "      ints: 1\n",
       "      ints: 2\n",
       "      ints: 3\n",
       "      ints: 4\n",
       "      ints: 5\n",
       "      ints: 6\n",
       "      ints: 7\n",
       "      ints: 8\n",
       "      ints: 0\n",
       "      ints: 1\n",
       "      ints: 2\n",
       "      ints: 3\n",
       "      ints: 4\n",
       "      ints: 5\n",
       "      ints: 6\n",
       "      ints: 7\n",
       "      ints: 8\n",
       "      ints: 0\n",
       "      ints: 1\n",
       "      ints: 2\n",
       "      ints: 3\n",
       "      ints: 4\n",
       "      ints: 5\n",
       "      ints: 6\n",
       "      ints: 7\n",
       "      ints: 8\n",
       "      type: INTS\n",
       "    }\n",
       "    attribute {\n",
       "      name: \"nodes_treeids\"\n",
       "      ints: 0\n",
       "      ints: 0\n",
       "      ints: 0\n",
       "      ints: 0\n",
       "      ints: 0\n",
       "      ints: 0\n",
       "      ints: 0\n",
       "      ints: 0\n",
       "      ints: 0\n",
       "      ints: 1\n",
       "      ints: 1\n",
       "      ints: 1\n",
       "      ints: 1\n",
       "      ints: 1\n",
       "      ints: 1\n",
       "      ints: 1\n",
       "      ints: 1\n",
       "      ints: 1\n",
       "      ints: 2\n",
       "      ints: 2\n",
       "      ints: 2\n",
       "      ints: 2\n",
       "      ints: 2\n",
       "      ints: 2\n",
       "      ints: 2\n",
       "      ints: 2\n",
       "      ints: 2\n",
       "      ints: 3\n",
       "      ints: 3\n",
       "      ints: 3\n",
       "      ints: 3\n",
       "      ints: 3\n",
       "      ints: 3\n",
       "      ints: 3\n",
       "      ints: 3\n",
       "      ints: 3\n",
       "      type: INTS\n",
       "    }\n",
       "    attribute {\n",
       "      name: \"nodes_truenodeids\"\n",
       "      ints: 1\n",
       "      ints: 3\n",
       "      ints: 5\n",
       "      ints: 0\n",
       "      ints: 0\n",
       "      ints: 0\n",
       "      ints: 7\n",
       "      ints: 0\n",
       "      ints: 0\n",
       "      ints: 1\n",
       "      ints: 3\n",
       "      ints: 5\n",
       "      ints: 0\n",
       "      ints: 0\n",
       "      ints: 0\n",
       "      ints: 7\n",
       "      ints: 0\n",
       "      ints: 0\n",
       "      ints: 1\n",
       "      ints: 3\n",
       "      ints: 0\n",
       "      ints: 5\n",
       "      ints: 7\n",
       "      ints: 0\n",
       "      ints: 0\n",
       "      ints: 0\n",
       "      ints: 0\n",
       "      ints: 1\n",
       "      ints: 3\n",
       "      ints: 5\n",
       "      ints: 0\n",
       "      ints: 0\n",
       "      ints: 0\n",
       "      ints: 7\n",
       "      ints: 0\n",
       "      ints: 0\n",
       "      type: INTS\n",
       "    }\n",
       "    attribute {\n",
       "      name: \"nodes_values\"\n",
       "      floats: 15.600000381469727\n",
       "      floats: -8.364999771118164\n",
       "      floats: 38.150001525878906\n",
       "      floats: 0.0\n",
       "      floats: 0.0\n",
       "      floats: 0.0\n",
       "      floats: 51.45000076293945\n",
       "      floats: 0.0\n",
       "      floats: 0.0\n",
       "      floats: 3.265000104904175\n",
       "      floats: -8.364999771118164\n",
       "      floats: 22.049999237060547\n",
       "      floats: 0.0\n",
       "      floats: 0.0\n",
       "      floats: 0.0\n",
       "      floats: 38.150001525878906\n",
       "      floats: 0.0\n",
       "      floats: 0.0\n",
       "      floats: 51.45000076293945\n",
       "      floats: 15.600000381469727\n",
       "      floats: 0.0\n",
       "      floats: 1.0000000180025095e-35\n",
       "      floats: 39.599998474121094\n",
       "      floats: 0.0\n",
       "      floats: 0.0\n",
       "      floats: 0.0\n",
       "      floats: 0.0\n",
       "      floats: 3.265000104904175\n",
       "      floats: -8.364999771118164\n",
       "      floats: 22.049999237060547\n",
       "      floats: 0.0\n",
       "      floats: 0.0\n",
       "      floats: 0.0\n",
       "      floats: 33.650001525878906\n",
       "      floats: 0.0\n",
       "      floats: 0.0\n",
       "      type: FLOATS\n",
       "    }\n",
       "    attribute {\n",
       "      name: \"post_transform\"\n",
       "      s: \"NONE\"\n",
       "      type: STRING\n",
       "    }\n",
       "    attribute {\n",
       "      name: \"target_ids\"\n",
       "      ints: 0\n",
       "      ints: 0\n",
       "      ints: 0\n",
       "      ints: 0\n",
       "      ints: 0\n",
       "      ints: 0\n",
       "      ints: 0\n",
       "      ints: 0\n",
       "      ints: 0\n",
       "      ints: 0\n",
       "      ints: 0\n",
       "      ints: 0\n",
       "      ints: 0\n",
       "      ints: 0\n",
       "      ints: 0\n",
       "      ints: 0\n",
       "      ints: 0\n",
       "      ints: 0\n",
       "      ints: 0\n",
       "      ints: 0\n",
       "      type: INTS\n",
       "    }\n",
       "    attribute {\n",
       "      name: \"target_nodeids\"\n",
       "      ints: 3\n",
       "      ints: 4\n",
       "      ints: 5\n",
       "      ints: 7\n",
       "      ints: 8\n",
       "      ints: 3\n",
       "      ints: 4\n",
       "      ints: 5\n",
       "      ints: 7\n",
       "      ints: 8\n",
       "      ints: 5\n",
       "      ints: 6\n",
       "      ints: 7\n",
       "      ints: 8\n",
       "      ints: 2\n",
       "      ints: 3\n",
       "      ints: 4\n",
       "      ints: 5\n",
       "      ints: 7\n",
       "      ints: 8\n",
       "      type: INTS\n",
       "    }\n",
       "    attribute {\n",
       "      name: \"target_treeids\"\n",
       "      ints: 0\n",
       "      ints: 0\n",
       "      ints: 0\n",
       "      ints: 0\n",
       "      ints: 0\n",
       "      ints: 1\n",
       "      ints: 1\n",
       "      ints: 1\n",
       "      ints: 1\n",
       "      ints: 1\n",
       "      ints: 2\n",
       "      ints: 2\n",
       "      ints: 2\n",
       "      ints: 2\n",
       "      ints: 2\n",
       "      ints: 3\n",
       "      ints: 3\n",
       "      ints: 3\n",
       "      ints: 3\n",
       "      ints: 3\n",
       "      type: INTS\n",
       "    }\n",
       "    attribute {\n",
       "      name: \"target_weights\"\n",
       "      floats: -2.592381000518799\n",
       "      floats: -1.1560150384902954\n",
       "      floats: 5.116153717041016\n",
       "      floats: 7.50166654586792\n",
       "      floats: 9.136500358581543\n",
       "      floats: 3.530156078568325e-08\n",
       "      floats: 1.3591694831848145\n",
       "      floats: -1.385852575302124\n",
       "      floats: 0.43236470222473145\n",
       "      floats: 1.021544449031353e-07\n",
       "      floats: 0.06629496812820435\n",
       "      floats: -0.32350587844848633\n",
       "      floats: 0.10102220624685287\n",
       "      floats: 0.27944859862327576\n",
       "      floats: -0.24000626802444458\n",
       "      floats: 0.034846365451812744\n",
       "      floats: -0.21260692179203033\n",
       "      floats: 0.18360060453414917\n",
       "      floats: -0.0859932079911232\n",
       "      floats: 0.004868290387094021\n",
       "      type: FLOATS\n",
       "    }\n",
       "    doc_string: \"\"\n",
       "    domain: \"ai.onnx.ml\"\n",
       "  }\n",
       "  name: \"09b6d70f8a494fc39cfe0508198e1d9b\"\n",
       "  input {\n",
       "    name: \"theta\"\n",
       "    type {\n",
       "      tensor_type {\n",
       "        elem_type: 1\n",
       "        shape {\n",
       "          dim {\n",
       "          }\n",
       "          dim {\n",
       "            dim_value: 1\n",
       "          }\n",
       "        }\n",
       "      }\n",
       "    }\n",
       "  }\n",
       "  output {\n",
       "    name: \"variable\"\n",
       "    type {\n",
       "      tensor_type {\n",
       "        elem_type: 1\n",
       "        shape {\n",
       "          dim {\n",
       "          }\n",
       "          dim {\n",
       "            dim_value: 1\n",
       "          }\n",
       "        }\n",
       "      }\n",
       "    }\n",
       "  }\n",
       "}\n",
       "opset_import {\n",
       "  domain: \"\"\n",
       "  version: 8\n",
       "}\n",
       "opset_import {\n",
       "  domain: \"ai.onnx.ml\"\n",
       "  version: 1\n",
       "}"
      ]
     },
     "execution_count": 14,
     "metadata": {},
     "output_type": "execute_result"
    }
   ],
   "source": [
    "converted_model"
   ]
  },
  {
   "cell_type": "code",
   "execution_count": 15,
   "metadata": {},
   "outputs": [],
   "source": [
    "onnx.checker.check_model(converted_model)"
   ]
  },
  {
   "cell_type": "code",
   "execution_count": 16,
   "metadata": {},
   "outputs": [
    {
     "data": {
      "text/plain": [
       "(1, 180, 1)"
      ]
     },
     "execution_count": 16,
     "metadata": {},
     "output_type": "execute_result"
    }
   ],
   "source": [
    "sess = rt.InferenceSession(r\"C:\\Users\\yufengq\\Desktop\\RA\\model.onnx\")\n",
    "result = sess.run(None, {'theta': X.astype(np.float32)})\n",
    "np.array(result).shape"
   ]
  },
  {
   "cell_type": "code",
   "execution_count": 17,
   "metadata": {},
   "outputs": [
    {
     "data": {
      "text/plain": [
       "(180,)"
      ]
     },
     "execution_count": 17,
     "metadata": {},
     "output_type": "execute_result"
    }
   ],
   "source": [
    "txt_model = lgb.Booster(model_file=r'C:\\Users\\yufengq\\Desktop\\RA\\linear.txt')\n",
    "txt_model.predict(X).shape"
   ]
  },
  {
   "attachments": {},
   "cell_type": "markdown",
   "metadata": {},
   "source": [
    "# Plot the tree"
   ]
  },
  {
   "cell_type": "code",
   "execution_count": 18,
   "metadata": {},
   "outputs": [
    {
     "data": {
      "image/svg+xml": "<?xml version=\"1.0\" encoding=\"UTF-8\" standalone=\"no\"?>\n<!DOCTYPE svg PUBLIC \"-//W3C//DTD SVG 1.1//EN\"\n \"http://www.w3.org/Graphics/SVG/1.1/DTD/svg11.dtd\">\n<!-- Generated by graphviz version 2.50.0 (0)\n -->\n<!-- Pages: 1 -->\n<svg width=\"623pt\" height=\"184pt\"\n viewBox=\"0.00 0.00 623.29 184.00\" xmlns=\"http://www.w3.org/2000/svg\" xmlns:xlink=\"http://www.w3.org/1999/xlink\">\n<g id=\"graph0\" class=\"graph\" transform=\"scale(1 1) rotate(0) translate(4 180)\">\n<polygon fill=\"white\" stroke=\"transparent\" points=\"-4,4 -4,-180 619.29,-180 619.29,4 -4,4\"/>\n<!-- split0 -->\n<g id=\"node1\" class=\"node\">\n<title>split0</title>\n<polygon fill=\"none\" stroke=\"black\" points=\"120,-116 0,-116 0,-80 120,-80 120,-116\"/>\n<text text-anchor=\"start\" x=\"8\" y=\"-95.3\" font-family=\"Times New Roman,serif\" font-weight=\"bold\" font-size=\"14.00\">Column_0</text>\n<text text-anchor=\"start\" x=\"69\" y=\"-95.3\" font-family=\"Times New Roman,serif\" font-size=\"14.00\"> ≤</text>\n<text text-anchor=\"start\" x=\"81\" y=\"-95.3\" font-family=\"Times New Roman,serif\" font-weight=\"bold\" font-size=\"14.00\">3.265</text>\n</g>\n<!-- split2 -->\n<g id=\"node2\" class=\"node\">\n<title>split2</title>\n<polygon fill=\"none\" stroke=\"black\" points=\"287,-136 162,-136 162,-100 287,-100 287,-136\"/>\n<text text-anchor=\"start\" x=\"170\" y=\"-115.3\" font-family=\"Times New Roman,serif\" font-weight=\"bold\" font-size=\"14.00\">Column_0</text>\n<text text-anchor=\"start\" x=\"231\" y=\"-115.3\" font-family=\"Times New Roman,serif\" font-size=\"14.00\"> ≤</text>\n<text text-anchor=\"start\" x=\"243\" y=\"-115.3\" font-family=\"Times New Roman,serif\" font-weight=\"bold\" font-size=\"14.00\">&#45;8.365</text>\n</g>\n<!-- split0&#45;&gt;split2 -->\n<g id=\"edge3\" class=\"edge\">\n<title>split0&#45;&gt;split2</title>\n<path fill=\"none\" stroke=\"black\" d=\"M120.13,-105.28C130.44,-106.55 141.27,-107.88 151.88,-109.19\"/>\n<polygon fill=\"black\" stroke=\"black\" points=\"151.61,-112.68 161.96,-110.43 152.46,-105.73 151.61,-112.68\"/>\n<text text-anchor=\"middle\" x=\"140.5\" y=\"-111.8\" font-family=\"Times New Roman,serif\" font-size=\"14.00\">yes</text>\n</g>\n<!-- split1 -->\n<g id=\"node5\" class=\"node\">\n<title>split1</title>\n<polygon fill=\"none\" stroke=\"black\" points=\"288,-96 161,-96 161,-60 288,-60 288,-96\"/>\n<text text-anchor=\"start\" x=\"169\" y=\"-75.3\" font-family=\"Times New Roman,serif\" font-weight=\"bold\" font-size=\"14.00\">Column_0</text>\n<text text-anchor=\"start\" x=\"230\" y=\"-75.3\" font-family=\"Times New Roman,serif\" font-size=\"14.00\"> ≤</text>\n<text text-anchor=\"start\" x=\"242\" y=\"-75.3\" font-family=\"Times New Roman,serif\" font-weight=\"bold\" font-size=\"14.00\">22.050</text>\n</g>\n<!-- split0&#45;&gt;split1 -->\n<g id=\"edge8\" class=\"edge\">\n<title>split0&#45;&gt;split1</title>\n<path fill=\"none\" stroke=\"black\" d=\"M120.13,-90.72C130.06,-89.5 140.48,-88.22 150.71,-86.96\"/>\n<polygon fill=\"black\" stroke=\"black\" points=\"151.36,-90.4 160.86,-85.71 150.51,-83.46 151.36,-90.4\"/>\n<text text-anchor=\"middle\" x=\"140.5\" y=\"-92.8\" font-family=\"Times New Roman,serif\" font-size=\"14.00\">no</text>\n</g>\n<!-- leaf0 -->\n<g id=\"node3\" class=\"node\">\n<title>leaf0</title>\n<ellipse fill=\"none\" stroke=\"black\" cx=\"392.5\" cy=\"-158\" rx=\"55.79\" ry=\"18\"/>\n<text text-anchor=\"start\" x=\"357.5\" y=\"-155.3\" font-family=\"Times New Roman,serif\" font-size=\"14.00\">leaf 0: </text>\n<text text-anchor=\"start\" x=\"396.5\" y=\"-155.3\" font-family=\"Times New Roman,serif\" font-weight=\"bold\" font-size=\"14.00\">0.035</text>\n</g>\n<!-- split2&#45;&gt;leaf0 -->\n<g id=\"edge1\" class=\"edge\">\n<title>split2&#45;&gt;leaf0</title>\n<path fill=\"none\" stroke=\"black\" d=\"M287.31,-132.89C303.8,-136.87 321.49,-141.13 337.52,-144.99\"/>\n<polygon fill=\"black\" stroke=\"black\" points=\"336.72,-148.4 347.26,-147.34 338.36,-141.59 336.72,-148.4\"/>\n<text text-anchor=\"middle\" x=\"308.5\" y=\"-142.8\" font-family=\"Times New Roman,serif\" font-size=\"14.00\">yes</text>\n</g>\n<!-- leaf3 -->\n<g id=\"node4\" class=\"node\">\n<title>leaf3</title>\n<ellipse fill=\"none\" stroke=\"black\" cx=\"392.5\" cy=\"-118\" rx=\"59.29\" ry=\"18\"/>\n<text text-anchor=\"start\" x=\"355\" y=\"-115.3\" font-family=\"Times New Roman,serif\" font-size=\"14.00\">leaf 3: </text>\n<text text-anchor=\"start\" x=\"394\" y=\"-115.3\" font-family=\"Times New Roman,serif\" font-weight=\"bold\" font-size=\"14.00\">&#45;0.213</text>\n</g>\n<!-- split2&#45;&gt;leaf3 -->\n<g id=\"edge2\" class=\"edge\">\n<title>split2&#45;&gt;leaf3</title>\n<path fill=\"none\" stroke=\"black\" d=\"M287.31,-118C298.93,-118 311.15,-118 322.96,-118\"/>\n<polygon fill=\"black\" stroke=\"black\" points=\"323.21,-121.5 333.21,-118 323.21,-114.5 323.21,-121.5\"/>\n<text text-anchor=\"middle\" x=\"308.5\" y=\"-121.8\" font-family=\"Times New Roman,serif\" font-size=\"14.00\">no</text>\n</g>\n<!-- leaf1 -->\n<g id=\"node6\" class=\"node\">\n<title>leaf1</title>\n<ellipse fill=\"none\" stroke=\"black\" cx=\"392.5\" cy=\"-78\" rx=\"55.79\" ry=\"18\"/>\n<text text-anchor=\"start\" x=\"357.5\" y=\"-75.3\" font-family=\"Times New Roman,serif\" font-size=\"14.00\">leaf 1: </text>\n<text text-anchor=\"start\" x=\"396.5\" y=\"-75.3\" font-family=\"Times New Roman,serif\" font-weight=\"bold\" font-size=\"14.00\">0.184</text>\n</g>\n<!-- split1&#45;&gt;leaf1 -->\n<g id=\"edge4\" class=\"edge\">\n<title>split1&#45;&gt;leaf1</title>\n<path fill=\"none\" stroke=\"black\" d=\"M288.26,-78C300.67,-78 313.72,-78 326.21,-78\"/>\n<polygon fill=\"black\" stroke=\"black\" points=\"326.54,-81.5 336.54,-78 326.54,-74.5 326.54,-81.5\"/>\n<text text-anchor=\"middle\" x=\"308.5\" y=\"-81.8\" font-family=\"Times New Roman,serif\" font-size=\"14.00\">yes</text>\n</g>\n<!-- split3 -->\n<g id=\"node7\" class=\"node\">\n<title>split3</title>\n<polygon fill=\"none\" stroke=\"black\" points=\"456,-56 329,-56 329,-20 456,-20 456,-56\"/>\n<text text-anchor=\"start\" x=\"337\" y=\"-35.3\" font-family=\"Times New Roman,serif\" font-weight=\"bold\" font-size=\"14.00\">Column_0</text>\n<text text-anchor=\"start\" x=\"398\" y=\"-35.3\" font-family=\"Times New Roman,serif\" font-size=\"14.00\"> ≤</text>\n<text text-anchor=\"start\" x=\"410\" y=\"-35.3\" font-family=\"Times New Roman,serif\" font-weight=\"bold\" font-size=\"14.00\">33.650</text>\n</g>\n<!-- split1&#45;&gt;split3 -->\n<g id=\"edge7\" class=\"edge\">\n<title>split1&#45;&gt;split3</title>\n<path fill=\"none\" stroke=\"black\" d=\"M288.26,-62.88C298.35,-60.45 308.86,-57.91 319.15,-55.43\"/>\n<polygon fill=\"black\" stroke=\"black\" points=\"320.03,-58.82 328.93,-53.08 318.39,-52.02 320.03,-58.82\"/>\n<text text-anchor=\"middle\" x=\"308.5\" y=\"-62.8\" font-family=\"Times New Roman,serif\" font-size=\"14.00\">no</text>\n</g>\n<!-- leaf2 -->\n<g id=\"node8\" class=\"node\">\n<title>leaf2</title>\n<ellipse fill=\"none\" stroke=\"black\" cx=\"556.14\" cy=\"-58\" rx=\"59.29\" ry=\"18\"/>\n<text text-anchor=\"start\" x=\"518.64\" y=\"-55.3\" font-family=\"Times New Roman,serif\" font-size=\"14.00\">leaf 2: </text>\n<text text-anchor=\"start\" x=\"557.64\" y=\"-55.3\" font-family=\"Times New Roman,serif\" font-weight=\"bold\" font-size=\"14.00\">&#45;0.086</text>\n</g>\n<!-- split3&#45;&gt;leaf2 -->\n<g id=\"edge5\" class=\"edge\">\n<title>split3&#45;&gt;leaf2</title>\n<path fill=\"none\" stroke=\"black\" d=\"M456.46,-45.79C467.73,-47.18 479.48,-48.64 490.78,-50.04\"/>\n<polygon fill=\"black\" stroke=\"black\" points=\"490.66,-53.55 501.01,-51.3 491.52,-46.6 490.66,-53.55\"/>\n<text text-anchor=\"middle\" x=\"476.5\" y=\"-52.8\" font-family=\"Times New Roman,serif\" font-size=\"14.00\">yes</text>\n</g>\n<!-- leaf4 -->\n<g id=\"node9\" class=\"node\">\n<title>leaf4</title>\n<ellipse fill=\"none\" stroke=\"black\" cx=\"556.14\" cy=\"-18\" rx=\"55.79\" ry=\"18\"/>\n<text text-anchor=\"start\" x=\"521.14\" y=\"-15.3\" font-family=\"Times New Roman,serif\" font-size=\"14.00\">leaf 4: </text>\n<text text-anchor=\"start\" x=\"560.14\" y=\"-15.3\" font-family=\"Times New Roman,serif\" font-weight=\"bold\" font-size=\"14.00\">0.005</text>\n</g>\n<!-- split3&#45;&gt;leaf4 -->\n<g id=\"edge6\" class=\"edge\">\n<title>split3&#45;&gt;leaf4</title>\n<path fill=\"none\" stroke=\"black\" d=\"M456.46,-30.21C468.72,-28.69 481.55,-27.11 493.76,-25.6\"/>\n<polygon fill=\"black\" stroke=\"black\" points=\"494.34,-29.05 503.84,-24.35 493.48,-22.1 494.34,-29.05\"/>\n<text text-anchor=\"middle\" x=\"476.5\" y=\"-31.8\" font-family=\"Times New Roman,serif\" font-size=\"14.00\">no</text>\n</g>\n</g>\n</svg>\n",
      "text/plain": [
       "<graphviz.graphs.Digraph at 0x278704a6bb0>"
      ]
     },
     "execution_count": 18,
     "metadata": {},
     "output_type": "execute_result"
    }
   ],
   "source": [
    "p = lgb.create_tree_digraph(model_linear, 3)\n",
    "p"
   ]
  },
  {
   "attachments": {},
   "cell_type": "markdown",
   "metadata": {},
   "source": [
    "# Parse the tree"
   ]
  },
  {
   "cell_type": "code",
   "execution_count": 19,
   "metadata": {},
   "outputs": [],
   "source": [
    "# change the model to json format\n",
    "whole_model = model_linear.dump_model()\n",
    "node  = whole_model['tree_info'][-1][\"tree_structure\"]"
   ]
  },
  {
   "cell_type": "code",
   "execution_count": 20,
   "metadata": {},
   "outputs": [],
   "source": [
    "# whole_model"
   ]
  },
  {
   "cell_type": "code",
   "execution_count": 21,
   "metadata": {},
   "outputs": [],
   "source": [
    "tree = {}\n",
    "\n",
    "tree['parameters'] = model_linear.params\n",
    "\n",
    "for i in range(whole_model['tree_info'][-1]['tree_index']+1):\n",
    "\n",
    "    node  = whole_model['tree_info'][i][\"tree_structure\"]\n",
    "\n",
    "    queue = [node]\n",
    "    dict = {}\n",
    "\n",
    "    # the very first node\n",
    "    dict[\"split\"+str(queue[0][\"split_index\"])] = {'threshold': queue[0][\"threshold\"],\n",
    "                                    'split_feature': queue[0][\"split_feature\"] }\n",
    "\n",
    "    # flow though the tree\n",
    "    while queue:\n",
    "\n",
    "        # left child\n",
    "        if \"left_child\" in queue[0].keys():\n",
    "            queue.append(queue[0][\"left_child\"])\n",
    "            # child is a split\n",
    "            if \"split_index\" in queue[0][\"left_child\"].keys():\n",
    "                dict[\"split\"+str(queue[0][\"left_child\"][\"split_index\"])] = {'parent': \"split\"+str(queue[0][\"split_index\"]),\n",
    "                                                            'direction': 'left',\n",
    "                                                            'threshold': queue[0][\"left_child\"][\"threshold\"], \n",
    "                                                            'split_feature': queue[0][\"left_child\"][\"split_feature\"]}\n",
    "            # child is a leaf\n",
    "            else:\n",
    "                dict[\"leaf\"+str(queue[0][\"left_child\"][\"leaf_index\"])] = {'parent': \"split\"+str(queue[0][\"split_index\"]),\n",
    "                                                            'direction': 'left', \n",
    "                                                            'leaf_const': queue[0][\"left_child\"][\"leaf_const\"], \n",
    "                                                            'leaf_coeff': queue[0][\"left_child\"][\"leaf_coeff\"]}\n",
    "                \n",
    "        # right child\n",
    "        if \"right_child\" in queue[0].keys():\n",
    "            queue.append(queue[0][\"right_child\"])      \n",
    "            # child is a split\n",
    "            if \"split_index\" in queue[0][\"right_child\"].keys():\n",
    "                dict[\"split\"+str(queue[0][\"right_child\"][\"split_index\"])] = {'parent': \"split\"+str(queue[0][\"split_index\"]),\n",
    "                                                            'direction': 'right',\n",
    "                                                            'threshold': queue[0][\"right_child\"][\"threshold\"], \n",
    "                                                            'split_feature': queue[0][\"right_child\"][\"split_feature\"]}\n",
    "            # child is a leaf\n",
    "            else:\n",
    "                dict[\"leaf\"+str(queue[0][\"right_child\"][\"leaf_index\"])] = {'parent': \"split\"+str(queue[0][\"split_index\"]),\n",
    "                                                            'direction': 'right',\n",
    "                                                            'leaf_const': queue[0][\"right_child\"][\"leaf_const\"], \n",
    "                                                            'leaf_coeff': queue[0][\"right_child\"][\"leaf_coeff\"]}\n",
    "        # delet the first node\n",
    "        queue.pop(0)\n",
    "\n",
    "        tree['tree'+str(i)] = dict"
   ]
  },
  {
   "cell_type": "code",
   "execution_count": 22,
   "metadata": {},
   "outputs": [],
   "source": [
    "queue = [node]\n",
    "dict = {}\n",
    "\n",
    "# the very first node\n",
    "dict[\"split\"+str(queue[0][\"split_index\"])] = {'threshold': queue[0][\"threshold\"],\n",
    "                                 'split_feature': queue[0][\"split_feature\"] }\n",
    "\n",
    "# flow though the tree\n",
    "while queue:\n",
    "\n",
    "    # left child\n",
    "    if \"left_child\" in queue[0].keys():\n",
    "        queue.append(queue[0][\"left_child\"])\n",
    "        # child is a split\n",
    "        if \"split_index\" in queue[0][\"left_child\"].keys():\n",
    "            dict[\"split\"+str(queue[0][\"left_child\"][\"split_index\"])] = {'parent': \"split\"+str(queue[0][\"split_index\"]),\n",
    "                                                           'direction': 'left',\n",
    "                                                           'threshold': queue[0][\"left_child\"][\"threshold\"], \n",
    "                                                           'split_feature': queue[0][\"left_child\"][\"split_feature\"]}\n",
    "        # child is a leaf\n",
    "        else:\n",
    "            dict[\"leaf\"+str(queue[0][\"left_child\"][\"leaf_index\"])] = {'parent': \"split\"+str(queue[0][\"split_index\"]),\n",
    "                                                          'direction': 'left', \n",
    "                                                          'leaf_const': queue[0][\"left_child\"][\"leaf_const\"], \n",
    "                                                          'leaf_coeff': queue[0][\"left_child\"][\"leaf_coeff\"]}\n",
    "            \n",
    "    # right child\n",
    "    if \"right_child\" in queue[0].keys():\n",
    "        queue.append(queue[0][\"right_child\"])      \n",
    "        # child is a split\n",
    "        if \"split_index\" in queue[0][\"right_child\"].keys():\n",
    "            dict[\"split\"+str(queue[0][\"right_child\"][\"split_index\"])] = {'parent': \"split\"+str(queue[0][\"split_index\"]),\n",
    "                                                           'direction': 'right',\n",
    "                                                           'threshold': queue[0][\"right_child\"][\"threshold\"], \n",
    "                                                           'split_feature': queue[0][\"right_child\"][\"split_feature\"]}\n",
    "        # child is a leaf\n",
    "        else:\n",
    "            dict[\"leaf\"+str(queue[0][\"right_child\"][\"leaf_index\"])] = {'parent': \"split\"+str(queue[0][\"split_index\"]),\n",
    "                                                          'direction': 'right',\n",
    "                                                          'leaf_const': queue[0][\"right_child\"][\"leaf_const\"], \n",
    "                                                          'leaf_coeff': queue[0][\"right_child\"][\"leaf_coeff\"]}\n",
    "    # delet the first node\n",
    "    queue.pop(0)"
   ]
  },
  {
   "cell_type": "code",
   "execution_count": 23,
   "metadata": {},
   "outputs": [
    {
     "data": {
      "text/plain": [
       "{'split0': {'threshold': 3.2650000000000006, 'split_feature': 0},\n",
       " 'split2': {'parent': 'split0',\n",
       "  'direction': 'left',\n",
       "  'threshold': -8.364999999999998,\n",
       "  'split_feature': 0},\n",
       " 'split1': {'parent': 'split0',\n",
       "  'direction': 'right',\n",
       "  'threshold': 22.050000000000004,\n",
       "  'split_feature': 0},\n",
       " 'leaf0': {'parent': 'split2',\n",
       "  'direction': 'left',\n",
       "  'leaf_const': -0.2902764210366918,\n",
       "  'leaf_coeff': [-0.02229777591165156]},\n",
       " 'leaf3': {'parent': 'split2',\n",
       "  'direction': 'right',\n",
       "  'leaf_const': -0.2451576806147419,\n",
       "  'leaf_coeff': [-0.012823549889195006]},\n",
       " 'leaf1': {'parent': 'split1',\n",
       "  'direction': 'left',\n",
       "  'leaf_const': 0.7182081149997852,\n",
       "  'leaf_coeff': [-0.039159652311451076]},\n",
       " 'split3': {'parent': 'split1',\n",
       "  'direction': 'right',\n",
       "  'threshold': 33.65000000000001,\n",
       "  'split_feature': 0},\n",
       " 'leaf2': {'parent': 'split3',\n",
       "  'direction': 'left',\n",
       "  'leaf_const': -0.8220879353385486,\n",
       "  'leaf_coeff': [0.02656011635781838]},\n",
       " 'leaf4': {'parent': 'split3',\n",
       "  'direction': 'right',\n",
       "  'leaf_const': 0.06178426010660609,\n",
       "  'leaf_coeff': [-0.0011589960475504382]}}"
      ]
     },
     "execution_count": 23,
     "metadata": {},
     "output_type": "execute_result"
    }
   ],
   "source": [
    "dict"
   ]
  },
  {
   "cell_type": "code",
   "execution_count": 25,
   "metadata": {},
   "outputs": [
    {
     "data": {
      "text/plain": [
       "dict_keys(['parent', 'direction', 'leaf_const', 'leaf_coeff'])"
      ]
     },
     "execution_count": 25,
     "metadata": {},
     "output_type": "execute_result"
    }
   ],
   "source": [
    "dict['leaf0'].keys()"
   ]
  },
  {
   "cell_type": "code",
   "execution_count": 27,
   "metadata": {},
   "outputs": [
    {
     "data": {
      "text/plain": [
       "dict_keys(['parent', 'direction', 'threshold', 'split_feature'])"
      ]
     },
     "execution_count": 27,
     "metadata": {},
     "output_type": "execute_result"
    }
   ],
   "source": [
    "dict['split1'].keys()"
   ]
  },
  {
   "attachments": {},
   "cell_type": "markdown",
   "metadata": {},
   "source": [
    "coefficient and conatant could be a list to contain multivariables"
   ]
  },
  {
   "cell_type": "markdown",
   "metadata": {},
   "source": []
  }
 ],
 "metadata": {
  "kernelspec": {
   "display_name": "py39",
   "language": "python",
   "name": "python3"
  },
  "language_info": {
   "codemirror_mode": {
    "name": "ipython",
    "version": 3
   },
   "file_extension": ".py",
   "mimetype": "text/x-python",
   "name": "python",
   "nbconvert_exporter": "python",
   "pygments_lexer": "ipython3",
   "version": "3.9.7"
  },
  "orig_nbformat": 4,
  "vscode": {
   "interpreter": {
    "hash": "456704d50d3d572b793e0cd2b7d6582a4be81758880130904cd25ce1810ce8f0"
   }
  }
 },
 "nbformat": 4,
 "nbformat_minor": 2
}
