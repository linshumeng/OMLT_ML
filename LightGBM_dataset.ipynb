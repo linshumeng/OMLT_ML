{
 "cells": [
  {
   "cell_type": "code",
   "execution_count": 146,
   "metadata": {},
   "outputs": [],
   "source": [
    "import lightgbm as lgb\n",
    "import numpy as np\n",
    "import matplotlib.pyplot as plt\n",
    "import pandas as pd\n",
    "from sklearn.model_selection import train_test_split\n",
    "from sklearn.metrics import mean_squared_error\n",
    "import pprint\n",
    "import onnxmltools.convert.lightgbm.convert\n",
    "from skl2onnx.common.data_types import FloatTensorType\n",
    "from onnxmltools.utils import save_model\n",
    "import onnxruntime as rt"
   ]
  },
  {
   "cell_type": "code",
   "execution_count": 147,
   "metadata": {},
   "outputs": [
    {
     "data": {
      "text/html": [
       "<div>\n",
       "<style scoped>\n",
       "    .dataframe tbody tr th:only-of-type {\n",
       "        vertical-align: middle;\n",
       "    }\n",
       "\n",
       "    .dataframe tbody tr th {\n",
       "        vertical-align: top;\n",
       "    }\n",
       "\n",
       "    .dataframe thead th {\n",
       "        text-align: right;\n",
       "    }\n",
       "</style>\n",
       "<table border=\"1\" class=\"dataframe\">\n",
       "  <thead>\n",
       "    <tr style=\"text-align: right;\">\n",
       "      <th></th>\n",
       "      <th>theta</th>\n",
       "      <th>z</th>\n",
       "      <th>u</th>\n",
       "    </tr>\n",
       "  </thead>\n",
       "  <tbody>\n",
       "    <tr>\n",
       "      <th>0</th>\n",
       "      <td>-20.0</td>\n",
       "      <td>-6.08</td>\n",
       "      <td>-3.92</td>\n",
       "    </tr>\n",
       "    <tr>\n",
       "      <th>1</th>\n",
       "      <td>-19.5</td>\n",
       "      <td>-5.58</td>\n",
       "      <td>-4.42</td>\n",
       "    </tr>\n",
       "    <tr>\n",
       "      <th>2</th>\n",
       "      <td>-19.1</td>\n",
       "      <td>-5.13</td>\n",
       "      <td>-4.87</td>\n",
       "    </tr>\n",
       "    <tr>\n",
       "      <th>3</th>\n",
       "      <td>-18.6</td>\n",
       "      <td>-4.71</td>\n",
       "      <td>-5.29</td>\n",
       "    </tr>\n",
       "    <tr>\n",
       "      <th>4</th>\n",
       "      <td>-18.1</td>\n",
       "      <td>-4.32</td>\n",
       "      <td>-5.68</td>\n",
       "    </tr>\n",
       "  </tbody>\n",
       "</table>\n",
       "</div>"
      ],
      "text/plain": [
       "   theta     z     u\n",
       "0  -20.0 -6.08 -3.92\n",
       "1  -19.5 -5.58 -4.42\n",
       "2  -19.1 -5.13 -4.87\n",
       "3  -18.6 -4.71 -5.29\n",
       "4  -18.1 -4.32 -5.68"
      ]
     },
     "execution_count": 147,
     "metadata": {},
     "output_type": "execute_result"
    }
   ],
   "source": [
    "df = pd.read_csv(\"..\\OMLT_ML\\data\\polynomial3.csv\")\n",
    "df.head()"
   ]
  },
  {
   "cell_type": "code",
   "execution_count": 148,
   "metadata": {},
   "outputs": [
    {
     "data": {
      "text/plain": [
       "((180, 1), (180, 1))"
      ]
     },
     "execution_count": 148,
     "metadata": {},
     "output_type": "execute_result"
    }
   ],
   "source": [
    "X = df[\"theta\"]\n",
    "y = df[\"z\"]\n",
    "\n",
    "# X = X.reset_index(drop = True)\n",
    "# y = y.reset_index(drop = True)\n",
    "\n",
    "X = X.to_numpy().reshape(-1, 1)\n",
    "y = y.to_numpy().reshape(-1, 1)\n",
    "\n",
    "X.shape, y.shape"
   ]
  },
  {
   "cell_type": "code",
   "execution_count": 149,
   "metadata": {},
   "outputs": [],
   "source": [
    "X_train, X_test, y_train, y_test = train_test_split(X, y, test_size=0.2, random_state=42)\n",
    "\n",
    "train_data_linear = lgb.Dataset(X_train, label=y_train)\n",
    "\n",
    "train_data_normal = lgb.Dataset(X_train, label=y_train)"
   ]
  },
  {
   "cell_type": "code",
   "execution_count": 150,
   "metadata": {},
   "outputs": [
    {
     "name": "stderr",
     "output_type": "stream",
     "text": [
      "c:\\Users\\shumengl\\.conda\\envs\\omlt\\lib\\site-packages\\lightgbm\\engine.py:177: UserWarning: Found `num_iterations` in params. Will use it instead of argument\n",
      "  _log_warning(f\"Found `{alias}` in params. Will use it instead of argument\")\n",
      "c:\\Users\\shumengl\\.conda\\envs\\omlt\\lib\\site-packages\\lightgbm\\basic.py:179: UserWarning: Converting column-vector to 1d array\n",
      "  _log_warning('Converting column-vector to 1d array')\n"
     ]
    }
   ],
   "source": [
    "params = {\n",
    "    \"objective\": \"regression\",\n",
    "    \"metric\": \"rmse\",\n",
    "    \"learning_rate\": 1,\n",
    "    # \"verbosity\": 2, # full log\n",
    "    \"verbosity\": -1,\n",
    "    # 'linear_tree': True,\n",
    "    'num_iterations': 5,\n",
    "}\n",
    "\n",
    "model_linear = lgb.train(params, train_data_linear)"
   ]
  },
  {
   "cell_type": "code",
   "execution_count": 151,
   "metadata": {},
   "outputs": [
    {
     "name": "stdout",
     "output_type": "stream",
     "text": [
      "Linear trees error: 1.379\n"
     ]
    }
   ],
   "source": [
    "y_pred_linear = model_linear.predict(X_test)\n",
    "print(f\"Linear trees error: {round(mean_squared_error(y_test, y_pred_linear),3)}\")\n",
    "y_linear = model_linear.predict(X)"
   ]
  },
  {
   "cell_type": "code",
   "execution_count": 152,
   "metadata": {},
   "outputs": [
    {
     "data": {
      "image/png": "[encoded data removed]",
      "text/plain": [
       "<Figure size 640x480 with 1 Axes>"
      ]
     },
     "metadata": {},
     "output_type": "display_data"
    }
   ],
   "source": [
    "# plotting results\n",
    "plt.scatter(X, y, label = 'z (original data)')\n",
    "plt.scatter(X, y_linear, label = 'z (linear)')\n",
    "plt.ylabel('z')\n",
    "plt.xlabel('theta')\n",
    "plt.legend()\n",
    "plt.show()"
   ]
  },
  {
   "cell_type": "code",
   "execution_count": 153,
   "metadata": {},
   "outputs": [
    {
     "name": "stdout",
     "output_type": "stream",
     "text": [
      "{'objective': 'regression', 'metric': 'rmse', 'learning_rate': 1, 'verbosity': -1, 'num_iterations': 5, 'early_stopping_round': None}\n"
     ]
    }
   ],
   "source": [
    "print(model_linear.params)"
   ]
  },
  {
   "cell_type": "code",
   "execution_count": 154,
   "metadata": {},
   "outputs": [
    {
     "data": {
      "image/svg+xml": "<?xml version=\"1.0\" encoding=\"UTF-8\" standalone=\"no\"?>\n<!DOCTYPE svg PUBLIC \"-//W3C//DTD SVG 1.1//EN\"\n \"http://www.w3.org/Graphics/SVG/1.1/DTD/svg11.dtd\">\n<!-- Generated by graphviz version 3.0.0 (20220226.1711)\n -->\n<!-- Pages: 1 -->\n<svg width=\"828pt\" height=\"204pt\"\n viewBox=\"0.00 0.00 827.59 204.00\" xmlns=\"http://www.w3.org/2000/svg\" xmlns:xlink=\"http://www.w3.org/1999/xlink\">\n<g id=\"graph0\" class=\"graph\" transform=\"scale(1 1) rotate(0) translate(4 200)\">\n<polygon fill=\"white\" stroke=\"transparent\" points=\"-4,4 -4,-200 823.59,-200 823.59,4 -4,4\"/>\n<!-- split0 -->\n<g id=\"node1\" class=\"node\">\n<title>split0</title>\n<polygon fill=\"none\" stroke=\"black\" points=\"134,-136 0,-136 0,-100 134,-100 134,-136\"/>\n<text text-anchor=\"start\" x=\"8\" y=\"-115.3\" font-family=\"Times New Roman,serif\" font-weight=\"bold\" font-size=\"14.00\">Column_0</text>\n<text text-anchor=\"start\" x=\"72\" y=\"-115.3\" font-family=\"Times New Roman,serif\" font-size=\"14.00\"> ≤</text>\n<text text-anchor=\"start\" x=\"84\" y=\"-115.3\" font-family=\"Times New Roman,serif\" font-weight=\"bold\" font-size=\"14.00\">17.050</text>\n</g>\n<!-- split2 -->\n<g id=\"node2\" class=\"node\">\n<title>split2</title>\n<polygon fill=\"none\" stroke=\"black\" points=\"307.5,-156 176.5,-156 176.5,-120 307.5,-120 307.5,-156\"/>\n<text text-anchor=\"start\" x=\"184.5\" y=\"-135.3\" font-family=\"Times New Roman,serif\" font-weight=\"bold\" font-size=\"14.00\">Column_0</text>\n<text text-anchor=\"start\" x=\"248.5\" y=\"-135.3\" font-family=\"Times New Roman,serif\" font-size=\"14.00\"> ≤</text>\n<text text-anchor=\"start\" x=\"260.5\" y=\"-135.3\" font-family=\"Times New Roman,serif\" font-weight=\"bold\" font-size=\"14.00\">&#45;5.040</text>\n</g>\n<!-- split0&#45;&gt;split2 -->\n<g id=\"edge3\" class=\"edge\">\n<title>split0&#45;&gt;split2</title>\n<path fill=\"none\" stroke=\"black\" d=\"M134.39,-125.68C144.86,-126.89 155.75,-128.14 166.39,-129.37\"/>\n<polygon fill=\"black\" stroke=\"black\" points=\"166.16,-132.87 176.5,-130.54 166.96,-125.92 166.16,-132.87\"/>\n<text text-anchor=\"middle\" x=\"154.5\" y=\"-131.8\" font-family=\"Times New Roman,serif\" font-size=\"14.00\">yes</text>\n</g>\n<!-- split1 -->\n<g id=\"node5\" class=\"node\">\n<title>split1</title>\n<polygon fill=\"none\" stroke=\"black\" points=\"309,-116 175,-116 175,-80 309,-80 309,-116\"/>\n<text text-anchor=\"start\" x=\"183\" y=\"-95.3\" font-family=\"Times New Roman,serif\" font-weight=\"bold\" font-size=\"14.00\">Column_0</text>\n<text text-anchor=\"start\" x=\"247\" y=\"-95.3\" font-family=\"Times New Roman,serif\" font-size=\"14.00\"> ≤</text>\n<text text-anchor=\"start\" x=\"259\" y=\"-95.3\" font-family=\"Times New Roman,serif\" font-weight=\"bold\" font-size=\"14.00\">28.650</text>\n</g>\n<!-- split0&#45;&gt;split1 -->\n<g id=\"edge10\" class=\"edge\">\n<title>split0&#45;&gt;split1</title>\n<path fill=\"none\" stroke=\"black\" d=\"M134.39,-110.32C144.33,-109.18 154.63,-107.98 164.75,-106.81\"/>\n<polygon fill=\"black\" stroke=\"black\" points=\"165.25,-110.28 174.79,-105.65 164.45,-103.33 165.25,-110.28\"/>\n<text text-anchor=\"middle\" x=\"154.5\" y=\"-111.8\" font-family=\"Times New Roman,serif\" font-size=\"14.00\">no</text>\n</g>\n<!-- leaf0 -->\n<g id=\"node3\" class=\"node\">\n<title>leaf0</title>\n<ellipse fill=\"none\" stroke=\"black\" cx=\"417\" cy=\"-178\" rx=\"59.59\" ry=\"18\"/>\n<text text-anchor=\"start\" x=\"379\" y=\"-175.3\" font-family=\"Times New Roman,serif\" font-size=\"14.00\">leaf 0: </text>\n<text text-anchor=\"start\" x=\"416\" y=\"-175.3\" font-family=\"Times New Roman,serif\" font-weight=\"bold\" font-size=\"14.00\">&#45;0.135</text>\n</g>\n<!-- split2&#45;&gt;leaf0 -->\n<g id=\"edge1\" class=\"edge\">\n<title>split2&#45;&gt;leaf0</title>\n<path fill=\"none\" stroke=\"black\" d=\"M307.91,-153.01C324.74,-156.9 342.74,-161.06 359.13,-164.85\"/>\n<polygon fill=\"black\" stroke=\"black\" points=\"358.56,-168.31 369.09,-167.15 360.14,-161.49 358.56,-168.31\"/>\n<text text-anchor=\"middle\" x=\"329.5\" y=\"-162.8\" font-family=\"Times New Roman,serif\" font-size=\"14.00\">yes</text>\n</g>\n<!-- leaf3 -->\n<g id=\"node4\" class=\"node\">\n<title>leaf3</title>\n<ellipse fill=\"none\" stroke=\"black\" cx=\"417\" cy=\"-138\" rx=\"56.59\" ry=\"18\"/>\n<text text-anchor=\"start\" x=\"381.5\" y=\"-135.3\" font-family=\"Times New Roman,serif\" font-size=\"14.00\">leaf 3: </text>\n<text text-anchor=\"start\" x=\"418.5\" y=\"-135.3\" font-family=\"Times New Roman,serif\" font-weight=\"bold\" font-size=\"14.00\">0.328</text>\n</g>\n<!-- split2&#45;&gt;leaf3 -->\n<g id=\"edge2\" class=\"edge\">\n<title>split2&#45;&gt;leaf3</title>\n<path fill=\"none\" stroke=\"black\" d=\"M307.91,-138C321.66,-138 336.19,-138 349.99,-138\"/>\n<polygon fill=\"black\" stroke=\"black\" points=\"350.37,-141.5 360.37,-138 350.37,-134.5 350.37,-141.5\"/>\n<text text-anchor=\"middle\" x=\"329.5\" y=\"-141.8\" font-family=\"Times New Roman,serif\" font-size=\"14.00\">no</text>\n</g>\n<!-- leaf1 -->\n<g id=\"node6\" class=\"node\">\n<title>leaf1</title>\n<ellipse fill=\"none\" stroke=\"black\" cx=\"417\" cy=\"-98\" rx=\"59.59\" ry=\"18\"/>\n<text text-anchor=\"start\" x=\"379\" y=\"-95.3\" font-family=\"Times New Roman,serif\" font-size=\"14.00\">leaf 1: </text>\n<text text-anchor=\"start\" x=\"416\" y=\"-95.3\" font-family=\"Times New Roman,serif\" font-weight=\"bold\" font-size=\"14.00\">&#45;0.461</text>\n</g>\n<!-- split1&#45;&gt;leaf1 -->\n<g id=\"edge4\" class=\"edge\">\n<title>split1&#45;&gt;leaf1</title>\n<path fill=\"none\" stroke=\"black\" d=\"M309.39,-98C321.67,-98 334.53,-98 346.89,-98\"/>\n<polygon fill=\"black\" stroke=\"black\" points=\"347.14,-101.5 357.14,-98 347.14,-94.5 347.14,-101.5\"/>\n<text text-anchor=\"middle\" x=\"329.5\" y=\"-101.8\" font-family=\"Times New Roman,serif\" font-size=\"14.00\">yes</text>\n</g>\n<!-- split3 -->\n<g id=\"node7\" class=\"node\">\n<title>split3</title>\n<polygon fill=\"none\" stroke=\"black\" points=\"484,-76 350,-76 350,-40 484,-40 484,-76\"/>\n<text text-anchor=\"start\" x=\"358\" y=\"-55.3\" font-family=\"Times New Roman,serif\" font-weight=\"bold\" font-size=\"14.00\">Column_0</text>\n<text text-anchor=\"start\" x=\"422\" y=\"-55.3\" font-family=\"Times New Roman,serif\" font-size=\"14.00\"> ≤</text>\n<text text-anchor=\"start\" x=\"434\" y=\"-55.3\" font-family=\"Times New Roman,serif\" font-weight=\"bold\" font-size=\"14.00\">41.500</text>\n</g>\n<!-- split1&#45;&gt;split3 -->\n<g id=\"edge9\" class=\"edge\">\n<title>split1&#45;&gt;split3</title>\n<path fill=\"none\" stroke=\"black\" d=\"M309.39,-82.65C319.33,-80.35 329.63,-77.97 339.75,-75.63\"/>\n<polygon fill=\"black\" stroke=\"black\" points=\"340.83,-78.97 349.79,-73.31 339.25,-72.15 340.83,-78.97\"/>\n<text text-anchor=\"middle\" x=\"329.5\" y=\"-82.8\" font-family=\"Times New Roman,serif\" font-size=\"14.00\">no</text>\n</g>\n<!-- leaf2 -->\n<g id=\"node8\" class=\"node\">\n<title>leaf2</title>\n<ellipse fill=\"none\" stroke=\"black\" cx=\"592\" cy=\"-78\" rx=\"56.59\" ry=\"18\"/>\n<text text-anchor=\"start\" x=\"556.5\" y=\"-75.3\" font-family=\"Times New Roman,serif\" font-size=\"14.00\">leaf 2: </text>\n<text text-anchor=\"start\" x=\"593.5\" y=\"-75.3\" font-family=\"Times New Roman,serif\" font-weight=\"bold\" font-size=\"14.00\">0.142</text>\n</g>\n<!-- split3&#45;&gt;leaf2 -->\n<g id=\"edge5\" class=\"edge\">\n<title>split3&#45;&gt;leaf2</title>\n<path fill=\"none\" stroke=\"black\" d=\"M484.39,-65.68C498.81,-67.34 514.01,-69.1 528.28,-70.75\"/>\n<polygon fill=\"black\" stroke=\"black\" points=\"528.14,-74.26 538.48,-71.93 528.95,-67.3 528.14,-74.26\"/>\n<text text-anchor=\"middle\" x=\"504.5\" y=\"-71.8\" font-family=\"Times New Roman,serif\" font-size=\"14.00\">yes</text>\n</g>\n<!-- split4 -->\n<g id=\"node9\" class=\"node\">\n<title>split4</title>\n<polygon fill=\"none\" stroke=\"black\" points=\"659,-56 525,-56 525,-20 659,-20 659,-56\"/>\n<text text-anchor=\"start\" x=\"533\" y=\"-35.3\" font-family=\"Times New Roman,serif\" font-weight=\"bold\" font-size=\"14.00\">Column_0</text>\n<text text-anchor=\"start\" x=\"597\" y=\"-35.3\" font-family=\"Times New Roman,serif\" font-size=\"14.00\"> ≤</text>\n<text text-anchor=\"start\" x=\"609\" y=\"-35.3\" font-family=\"Times New Roman,serif\" font-weight=\"bold\" font-size=\"14.00\">54.350</text>\n</g>\n<!-- split3&#45;&gt;split4 -->\n<g id=\"edge8\" class=\"edge\">\n<title>split3&#45;&gt;split4</title>\n<path fill=\"none\" stroke=\"black\" d=\"M484.39,-50.32C494.33,-49.18 504.63,-47.98 514.75,-46.81\"/>\n<polygon fill=\"black\" stroke=\"black\" points=\"515.25,-50.28 524.79,-45.65 514.45,-43.33 515.25,-50.28\"/>\n<text text-anchor=\"middle\" x=\"504.5\" y=\"-51.8\" font-family=\"Times New Roman,serif\" font-size=\"14.00\">no</text>\n</g>\n<!-- leaf4 -->\n<g id=\"node10\" class=\"node\">\n<title>leaf4</title>\n<ellipse fill=\"none\" stroke=\"black\" cx=\"759.79\" cy=\"-58\" rx=\"59.59\" ry=\"18\"/>\n<text text-anchor=\"start\" x=\"721.79\" y=\"-55.3\" font-family=\"Times New Roman,serif\" font-size=\"14.00\">leaf 4: </text>\n<text text-anchor=\"start\" x=\"758.79\" y=\"-55.3\" font-family=\"Times New Roman,serif\" font-weight=\"bold\" font-size=\"14.00\">&#45;0.083</text>\n</g>\n<!-- split4&#45;&gt;leaf4 -->\n<g id=\"edge6\" class=\"edge\">\n<title>split4&#45;&gt;leaf4</title>\n<path fill=\"none\" stroke=\"black\" d=\"M659,-45.96C670.53,-47.35 682.51,-48.8 694,-50.18\"/>\n<polygon fill=\"black\" stroke=\"black\" points=\"693.6,-53.66 703.95,-51.38 694.44,-46.71 693.6,-53.66\"/>\n<text text-anchor=\"middle\" x=\"679.5\" y=\"-52.8\" font-family=\"Times New Roman,serif\" font-size=\"14.00\">yes</text>\n</g>\n<!-- leaf5 -->\n<g id=\"node11\" class=\"node\">\n<title>leaf5</title>\n<ellipse fill=\"none\" stroke=\"black\" cx=\"759.79\" cy=\"-18\" rx=\"59.59\" ry=\"18\"/>\n<text text-anchor=\"start\" x=\"721.79\" y=\"-15.3\" font-family=\"Times New Roman,serif\" font-size=\"14.00\">leaf 5: </text>\n<text text-anchor=\"start\" x=\"758.79\" y=\"-15.3\" font-family=\"Times New Roman,serif\" font-weight=\"bold\" font-size=\"14.00\">&#45;0.023</text>\n</g>\n<!-- split4&#45;&gt;leaf5 -->\n<g id=\"edge7\" class=\"edge\">\n<title>split4&#45;&gt;leaf5</title>\n<path fill=\"none\" stroke=\"black\" d=\"M659,-30.04C670.53,-28.65 682.51,-27.2 694,-25.82\"/>\n<polygon fill=\"black\" stroke=\"black\" points=\"694.44,-29.29 703.95,-24.62 693.6,-22.34 694.44,-29.29\"/>\n<text text-anchor=\"middle\" x=\"679.5\" y=\"-31.8\" font-family=\"Times New Roman,serif\" font-size=\"14.00\">no</text>\n</g>\n</g>\n</svg>\n",
      "text/plain": [
       "<graphviz.graphs.Digraph at 0x27028967310>"
      ]
     },
     "execution_count": 154,
     "metadata": {},
     "output_type": "execute_result"
    }
   ],
   "source": [
    "# extra step to allow graphviz to be found \n",
    "import os\n",
    "os.environ[\"PATH\"] += os.pathsep + 'C:\\Program Files\\Graphviz\\\\bin'\n",
    "# lgb.plot_tree(model_linear)\n",
    "# for i in range(params['num_iterations']):\n",
    "p = lgb.create_tree_digraph(model_linear, params['num_iterations']-1)\n",
    "p"
   ]
  },
  {
   "cell_type": "code",
   "execution_count": 155,
   "metadata": {},
   "outputs": [
    {
     "data": {
      "text/plain": [
       "<lightgbm.basic.Booster at 0x27028a801c0>"
      ]
     },
     "execution_count": 155,
     "metadata": {},
     "output_type": "execute_result"
    }
   ],
   "source": [
    "model_linear.save_model('model.txt')"
   ]
  },
  {
   "cell_type": "code",
   "execution_count": 156,
   "metadata": {},
   "outputs": [
    {
     "name": "stderr",
     "output_type": "stream",
     "text": [
      "The maximum opset needed by this model is only 8.\n"
     ]
    }
   ],
   "source": [
    "initial_type = [('float_input', FloatTensorType([None, 1]))]\n",
    "onx = onnxmltools.convert.lightgbm.convert(model_linear, initial_types=initial_type)\n",
    "save_model(onx, \"model_linear.onnx\")"
   ]
  },
  {
   "cell_type": "code",
   "execution_count": 157,
   "metadata": {},
   "outputs": [
    {
     "name": "stdout",
     "output_type": "stream",
     "text": [
      "input name float_input\n",
      "input shape [None, 1]\n",
      "input type tensor(float)\n",
      "output name variable\n",
      "output shape [None, 1]\n",
      "output type tensor(float)\n"
     ]
    }
   ],
   "source": [
    "sess = rt.InferenceSession(\"model_linear.onnx\")\n",
    "input_name = sess.get_inputs()[0].name\n",
    "print(\"input name\", input_name)\n",
    "input_shape = sess.get_inputs()[0].shape\n",
    "print(\"input shape\", input_shape)\n",
    "input_type = sess.get_inputs()[0].type\n",
    "print(\"input type\", input_type)\n",
    "output_name = sess.get_outputs()[0].name\n",
    "print(\"output name\", output_name)\n",
    "output_shape = sess.get_outputs()[0].shape\n",
    "print(\"output shape\", output_shape)\n",
    "output_type = sess.get_outputs()[0].type\n",
    "print(\"output type\", output_type)"
   ]
  },
  {
   "cell_type": "code",
   "execution_count": 159,
   "metadata": {},
   "outputs": [],
   "source": [
    "pred_onx = sess.run([output_name], {input_name: X.astype(np.float32)})\n",
    "# pred_onx"
   ]
  },
  {
   "cell_type": "code",
   "execution_count": 160,
   "metadata": {},
   "outputs": [
    {
     "data": {
      "image/png": "[encoded data removed]",
      "text/plain": [
       "<Figure size 640x480 with 1 Axes>"
      ]
     },
     "metadata": {},
     "output_type": "display_data"
    }
   ],
   "source": [
    "# plotting results\n",
    "plt.scatter(X, y, label = 'z (original data)')\n",
    "plt.scatter(X, pred_onx, label = 'z (onnx)')\n",
    "plt.ylabel('z')\n",
    "plt.xlabel('theta')\n",
    "plt.legend()\n",
    "plt.show()"
   ]
  },
  {
   "cell_type": "code",
   "execution_count": null,
   "metadata": {},
   "outputs": [],
   "source": []
  }
 ],
 "metadata": {
  "kernelspec": {
   "display_name": "omlt",
   "language": "python",
   "name": "python3"
  },
  "language_info": {
   "codemirror_mode": {
    "name": "ipython",
    "version": 3
   },
   "file_extension": ".py",
   "mimetype": "text/x-python",
   "name": "python",
   "nbconvert_exporter": "python",
   "pygments_lexer": "ipython3",
   "version": "3.9.7"
  },
  "orig_nbformat": 4,
  "vscode": {
   "interpreter": {
    "hash": "1350035cc40cae99d9ac3d7616956bcbe564bb24e49d70c7419fe84e0969da51"
   }
  }
 },
 "nbformat": 4,
 "nbformat_minor": 2
}
