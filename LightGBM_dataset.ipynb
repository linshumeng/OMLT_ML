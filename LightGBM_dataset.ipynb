{
 "cells": [
  {
   "cell_type": "code",
   "execution_count": 353,
   "metadata": {},
   "outputs": [],
   "source": [
    "import lightgbm as lgb\n",
    "import numpy as np\n",
    "import matplotlib.pyplot as plt\n",
    "import pandas as pd\n",
    "\n",
    "from sklearn.model_selection import train_test_split\n",
    "\n",
    "from sklearn.metrics import mean_squared_error\n",
    "\n",
    "import pprint"
   ]
  },
  {
   "cell_type": "code",
   "execution_count": 354,
   "metadata": {},
   "outputs": [
    {
     "data": {
      "text/html": [
       "<div>\n",
       "<style scoped>\n",
       "    .dataframe tbody tr th:only-of-type {\n",
       "        vertical-align: middle;\n",
       "    }\n",
       "\n",
       "    .dataframe tbody tr th {\n",
       "        vertical-align: top;\n",
       "    }\n",
       "\n",
       "    .dataframe thead th {\n",
       "        text-align: right;\n",
       "    }\n",
       "</style>\n",
       "<table border=\"1\" class=\"dataframe\">\n",
       "  <thead>\n",
       "    <tr style=\"text-align: right;\">\n",
       "      <th></th>\n",
       "      <th>theta</th>\n",
       "      <th>z</th>\n",
       "      <th>u</th>\n",
       "    </tr>\n",
       "  </thead>\n",
       "  <tbody>\n",
       "    <tr>\n",
       "      <th>0</th>\n",
       "      <td>-20.0</td>\n",
       "      <td>-6.08</td>\n",
       "      <td>-3.92</td>\n",
       "    </tr>\n",
       "    <tr>\n",
       "      <th>1</th>\n",
       "      <td>-19.5</td>\n",
       "      <td>-5.58</td>\n",
       "      <td>-4.42</td>\n",
       "    </tr>\n",
       "    <tr>\n",
       "      <th>2</th>\n",
       "      <td>-19.1</td>\n",
       "      <td>-5.13</td>\n",
       "      <td>-4.87</td>\n",
       "    </tr>\n",
       "    <tr>\n",
       "      <th>3</th>\n",
       "      <td>-18.6</td>\n",
       "      <td>-4.71</td>\n",
       "      <td>-5.29</td>\n",
       "    </tr>\n",
       "    <tr>\n",
       "      <th>4</th>\n",
       "      <td>-18.1</td>\n",
       "      <td>-4.32</td>\n",
       "      <td>-5.68</td>\n",
       "    </tr>\n",
       "  </tbody>\n",
       "</table>\n",
       "</div>"
      ],
      "text/plain": [
       "   theta     z     u\n",
       "0  -20.0 -6.08 -3.92\n",
       "1  -19.5 -5.58 -4.42\n",
       "2  -19.1 -5.13 -4.87\n",
       "3  -18.6 -4.71 -5.29\n",
       "4  -18.1 -4.32 -5.68"
      ]
     },
     "execution_count": 354,
     "metadata": {},
     "output_type": "execute_result"
    }
   ],
   "source": [
    "df = pd.read_csv(\"..\\OMLT_ML\\data\\polynomial3.csv\")\n",
    "df.head()"
   ]
  },
  {
   "cell_type": "code",
   "execution_count": 355,
   "metadata": {},
   "outputs": [],
   "source": [
    "X = df[\"theta\"]\n",
    "y = df[\"z\"]\n",
    "\n",
    "X = X.reset_index(drop = True)\n",
    "y = y.reset_index(drop = True)\n",
    "\n",
    "X = X.to_numpy().reshape(-1, 1)\n",
    "y = y.to_numpy().reshape(-1, 1)"
   ]
  },
  {
   "cell_type": "code",
   "execution_count": 356,
   "metadata": {},
   "outputs": [
    {
     "data": {
      "text/plain": [
       "((180, 1), (180, 1))"
      ]
     },
     "execution_count": 356,
     "metadata": {},
     "output_type": "execute_result"
    }
   ],
   "source": [
    "X.shape, y.shape"
   ]
  },
  {
   "cell_type": "code",
   "execution_count": 357,
   "metadata": {},
   "outputs": [],
   "source": [
    "X_train, X_test, y_train, y_test = train_test_split(X, y, test_size=0.2, random_state=41)\n",
    "\n",
    "train_data_linear = lgb.Dataset(X_train, label=y_train,\n",
    "                        params={\n",
    "                            'linear_tree': True\n",
    "                        })\n",
    "\n",
    "train_data_normal = lgb.Dataset(X_train, label=y_train)"
   ]
  },
  {
   "cell_type": "code",
   "execution_count": 358,
   "metadata": {},
   "outputs": [
    {
     "name": "stderr",
     "output_type": "stream",
     "text": [
      "c:\\Users\\shumengl\\.conda\\envs\\omlt\\lib\\site-packages\\lightgbm\\basic.py:154: UserWarning: Converting column-vector to 1d array\n",
      "  _log_warning('Converting column-vector to 1d array')\n"
     ]
    }
   ],
   "source": [
    "params = {\n",
    "    \"objective\": \"regression\",\n",
    "    \"metric\": \"rmse\",\n",
    "    \"max_depth\": 3,\n",
    "    \"num_leaves\": 30,\n",
    "    \"learning_rate\": 1,\n",
    "    \"verbosity\": -1\n",
    "}\n",
    "\n",
    "model_linear = lgb.train(params, train_data_linear)\n",
    "model_normal = lgb.train(params, train_data_normal)"
   ]
  },
  {
   "cell_type": "code",
   "execution_count": 359,
   "metadata": {},
   "outputs": [],
   "source": [
    "y_pred_linear = model_linear.predict(X_test, num_iteration=model_linear.best_iteration)\n",
    "y_pred_normal = model_normal.predict(X_test, num_iteration=model_normal.best_iteration)"
   ]
  },
  {
   "cell_type": "code",
   "execution_count": 360,
   "metadata": {},
   "outputs": [
    {
     "name": "stdout",
     "output_type": "stream",
     "text": [
      "Linear trees error: 0.025\n",
      "Normal trees error: 0.364\n"
     ]
    }
   ],
   "source": [
    "print(f\"Linear trees error: {round(mean_squared_error(y_test, y_pred_linear),3)}\")\n",
    "print(f\"Normal trees error: {round(mean_squared_error(y_test, y_pred_normal),3)}\")"
   ]
  },
  {
   "cell_type": "code",
   "execution_count": 361,
   "metadata": {},
   "outputs": [],
   "source": [
    "y_linear = model_linear.predict(X, num_iteration=model_linear.best_iteration)\n",
    "y_normal = model_normal.predict(X, num_iteration=model_linear.best_iteration)"
   ]
  },
  {
   "cell_type": "code",
   "execution_count": 362,
   "metadata": {},
   "outputs": [
    {
     "data": {
      "text/plain": [
       "array([-5.31971636, -5.06806869, -4.86675056, -4.6151029 , -4.36345524,\n",
       "       -4.11180757, -3.91048944, -3.65884178, -3.40719412, -3.15554645,\n",
       "       -2.95422832, -2.70258066, -2.45093299, -2.19928533, -1.9979672 ,\n",
       "       -1.74631954, -1.49467187, -1.24302421, -1.04170608, -0.79005842,\n",
       "       -0.53841075, -0.28676309, -0.06028019,  0.17626861,  0.41785037,\n",
       "       -0.08115353, -0.10397957, -0.12633007,  0.21759781,  0.2105173 ,\n",
       "        0.20328615,  0.19620563,  0.53243408,  0.52089077,  0.50910186,\n",
       "        0.80075175,  0.78771215,  0.7743951 ,  0.7613555 ,  0.77111866,\n",
       "        0.75011509,  0.72870932,  0.24659662, -0.04490045, -0.13367676,\n",
       "       -0.22263996, -0.52281723, -0.61867266, -0.7125311 , -1.01620176,\n",
       "       -1.11161091, -1.20905005, -1.30445921, -1.40189835, -1.4973075 ,\n",
       "       -1.59474664, -1.89787385, -2.01344771, -2.12661378, -2.24218764,\n",
       "       -2.58700574, -2.67594648, -2.76303429, -2.85197502, -2.94091576,\n",
       "       -3.45603412, -3.5062237 , -3.56896067, -3.63169764, -3.55385047,\n",
       "       -3.59882133, -3.65503491, -3.55151924, -3.60827893, -3.65368669,\n",
       "       -3.71044639,  3.83897799,  3.8236055 ,  3.81130752,  4.02741198,\n",
       "        4.01815383,  4.00889568,  4.26858718,  4.26236513,  4.25614308,\n",
       "        4.24992102,  4.50097433,  4.4710008 ,  4.44102727,  4.55296464,\n",
       "        4.63901756,  4.7465837 ,  4.85414984,  4.84728752,  4.91479386,\n",
       "        4.99917678,  5.02295607,  5.10379361,  5.16846364,  5.21173277,\n",
       "        5.29093744,  5.37014211,  5.3976037 ,  5.46940309,  5.54120248,\n",
       "        5.61300187,  5.60965541,  5.69382483,  5.77799425,  5.86216367,\n",
       "        5.86589228,  5.96153952,  6.05718676,  6.11741304,  6.15632272,\n",
       "        6.20495981,  6.2535969 ,  6.30223399,  6.34114366,  6.46028593,\n",
       "        6.50564466,  6.55100339,  6.58729038,  6.73157161,  6.74073706,\n",
       "        6.74990252,  6.85163568,  6.91370693,  6.97577818,  7.03784944,\n",
       "        7.08750644,  7.14584566,  7.2086721 ,  7.27149855,  7.3217597 ,\n",
       "        7.38843361,  7.45155768,  7.51468174,  7.56751129,  7.6304177 ,\n",
       "        7.69332411,  7.75357916,  7.80577514,  7.8710201 ,  7.92794549,\n",
       "        7.99566409,  8.04983898,  8.11235285,  8.17236107,  8.23236929,\n",
       "        8.28037586,  8.32137173,  8.38603572,  8.45069972,  8.50243091,\n",
       "        8.56709491,  8.6317589 ,  8.6964229 ,  8.7481541 ,  8.81281809,\n",
       "        8.87748209,  8.94214608,  8.99387728,  9.05854127,  9.12320527,\n",
       "        9.18786926,  9.23960046,  9.30426445,  9.36892845,  9.43359245,\n",
       "        9.48532364,  9.54998764,  9.61465163,  9.67931563,  9.73104682,\n",
       "        9.79571082,  9.86037481,  9.92503881,  9.97677001, 10.041434  ])"
      ]
     },
     "execution_count": 362,
     "metadata": {},
     "output_type": "execute_result"
    }
   ],
   "source": [
    "y_linear"
   ]
  },
  {
   "cell_type": "code",
   "execution_count": 363,
   "metadata": {},
   "outputs": [
    {
     "data": {
      "image/png": "[encoded data removed]",
      "text/plain": [
       "<Figure size 640x480 with 1 Axes>"
      ]
     },
     "metadata": {},
     "output_type": "display_data"
    }
   ],
   "source": [
    "# plotting results\n",
    "plt.scatter(X, y, label = 'z (original data)')\n",
    "plt.scatter(X, y_linear, label = 'z (linear)')\n",
    "# plt.scatter(X, y_normal, label = 'z (normal)')\n",
    "plt.ylabel('z')\n",
    "plt.xlabel('theta')\n",
    "plt.legend()\n",
    "plt.show()"
   ]
  },
  {
   "cell_type": "code",
   "execution_count": null,
   "metadata": {},
   "outputs": [],
   "source": []
  }
 ],
 "metadata": {
  "kernelspec": {
   "display_name": "omlt",
   "language": "python",
   "name": "python3"
  },
  "language_info": {
   "codemirror_mode": {
    "name": "ipython",
    "version": 3
   },
   "file_extension": ".py",
   "mimetype": "text/x-python",
   "name": "python",
   "nbconvert_exporter": "python",
   "pygments_lexer": "ipython3",
   "version": "3.9.7"
  },
  "orig_nbformat": 4,
  "vscode": {
   "interpreter": {
    "hash": "1350035cc40cae99d9ac3d7616956bcbe564bb24e49d70c7419fe84e0969da51"
   }
  }
 },
 "nbformat": 4,
 "nbformat_minor": 2
}
