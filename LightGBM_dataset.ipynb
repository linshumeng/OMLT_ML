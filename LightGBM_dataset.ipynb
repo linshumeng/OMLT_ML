{
 "cells": [
  {
   "cell_type": "code",
   "execution_count": 1,
   "metadata": {},
   "outputs": [
    {
     "name": "stderr",
     "output_type": "stream",
     "text": [
      "<frozen importlib._bootstrap>:228: RuntimeWarning: scipy._lib.messagestream.MessageStream size changed, may indicate binary incompatibility. Expected 56 from C header, got 64 from PyObject\n"
     ]
    }
   ],
   "source": [
    "import lightgbm as lgb\n",
    "import numpy as np\n",
    "import matplotlib.pyplot as plt\n",
    "import pandas as pd\n",
    "\n",
    "from sklearn.model_selection import train_test_split\n",
    "\n",
    "from sklearn.metrics import mean_squared_error"
   ]
  },
  {
   "cell_type": "code",
   "execution_count": 2,
   "metadata": {},
   "outputs": [
    {
     "data": {
      "text/html": [
       "<div>\n",
       "<style scoped>\n",
       "    .dataframe tbody tr th:only-of-type {\n",
       "        vertical-align: middle;\n",
       "    }\n",
       "\n",
       "    .dataframe tbody tr th {\n",
       "        vertical-align: top;\n",
       "    }\n",
       "\n",
       "    .dataframe thead th {\n",
       "        text-align: right;\n",
       "    }\n",
       "</style>\n",
       "<table border=\"1\" class=\"dataframe\">\n",
       "  <thead>\n",
       "    <tr style=\"text-align: right;\">\n",
       "      <th></th>\n",
       "      <th>theta</th>\n",
       "      <th>z</th>\n",
       "      <th>u</th>\n",
       "    </tr>\n",
       "  </thead>\n",
       "  <tbody>\n",
       "    <tr>\n",
       "      <th>0</th>\n",
       "      <td>-20.0</td>\n",
       "      <td>-6.08</td>\n",
       "      <td>-3.92</td>\n",
       "    </tr>\n",
       "    <tr>\n",
       "      <th>1</th>\n",
       "      <td>-19.5</td>\n",
       "      <td>-5.58</td>\n",
       "      <td>-4.42</td>\n",
       "    </tr>\n",
       "    <tr>\n",
       "      <th>2</th>\n",
       "      <td>-19.1</td>\n",
       "      <td>-5.13</td>\n",
       "      <td>-4.87</td>\n",
       "    </tr>\n",
       "    <tr>\n",
       "      <th>3</th>\n",
       "      <td>-18.6</td>\n",
       "      <td>-4.71</td>\n",
       "      <td>-5.29</td>\n",
       "    </tr>\n",
       "    <tr>\n",
       "      <th>4</th>\n",
       "      <td>-18.1</td>\n",
       "      <td>-4.32</td>\n",
       "      <td>-5.68</td>\n",
       "    </tr>\n",
       "  </tbody>\n",
       "</table>\n",
       "</div>"
      ],
      "text/plain": [
       "   theta     z     u\n",
       "0  -20.0 -6.08 -3.92\n",
       "1  -19.5 -5.58 -4.42\n",
       "2  -19.1 -5.13 -4.87\n",
       "3  -18.6 -4.71 -5.29\n",
       "4  -18.1 -4.32 -5.68"
      ]
     },
     "execution_count": 2,
     "metadata": {},
     "output_type": "execute_result"
    }
   ],
   "source": [
    "df = pd.read_csv(\"..\\OMLT_ML\\data\\polynomial3.csv\")\n",
    "df.head()"
   ]
  },
  {
   "cell_type": "code",
   "execution_count": 3,
   "metadata": {},
   "outputs": [],
   "source": [
    "X = df[\"theta\"]\n",
    "y = df[\"z\"]\n",
    "\n",
    "X = X.reset_index(drop = True)\n",
    "y = y.reset_index(drop = True)\n",
    "\n",
    "X = X.to_numpy().reshape(-1, 1)\n",
    "y = y.to_numpy().reshape(-1, 1)"
   ]
  },
  {
   "cell_type": "code",
   "execution_count": 4,
   "metadata": {},
   "outputs": [
    {
     "data": {
      "text/plain": [
       "((180, 1), (180, 1))"
      ]
     },
     "execution_count": 4,
     "metadata": {},
     "output_type": "execute_result"
    }
   ],
   "source": [
    "X.shape, y.shape"
   ]
  },
  {
   "cell_type": "code",
   "execution_count": 5,
   "metadata": {},
   "outputs": [],
   "source": [
    "X_train, X_test, y_train, y_test = train_test_split(X, y, test_size=0.3, random_state=2)\n",
    "\n",
    "train_data_linear = lgb.Dataset(X_train, label=y_train,\n",
    "                        params={\n",
    "                            'linear_tree': True\n",
    "                        })\n",
    "\n",
    "train_data_normal = lgb.Dataset(X_train, label=y_train)"
   ]
  },
  {
   "cell_type": "code",
   "execution_count": 6,
   "metadata": {},
   "outputs": [
    {
     "name": "stderr",
     "output_type": "stream",
     "text": [
      "c:\\Users\\shumengl\\.conda\\envs\\omlt\\lib\\site-packages\\lightgbm\\basic.py:154: UserWarning: Converting column-vector to 1d array\n",
      "  _log_warning('Converting column-vector to 1d array')\n"
     ]
    }
   ],
   "source": [
    "params = {\n",
    "    \"objective\": \"regression\",\n",
    "    \"metric\": \"rmse\",\n",
    "    \"num_leaves\": 100,\n",
    "    \"learning_rate\": 0.1,\n",
    "    \"verbosity\": -1\n",
    "}\n",
    "\n",
    "model_linear = lgb.train(params, train_data_linear)\n",
    "model_normal = lgb.train(params, train_data_normal)"
   ]
  },
  {
   "cell_type": "code",
   "execution_count": 15,
   "metadata": {},
   "outputs": [
    {
     "data": {
      "image/png": "[encoded data removed]",
      "text/plain": [
       "<Figure size 640x480 with 1 Axes>"
      ]
     },
     "metadata": {},
     "output_type": "display_data"
    }
   ],
   "source": [
    "y_pred_linear = model_linear.predict(X_test, num_iteration=model_linear.best_iteration)\n",
    "y_pred_normal = model_normal.predict(X_test, num_iteration=model_normal.best_iteration)\n",
    "# plotting results\n",
    "df = pd.DataFrame(X_test, columns=['theta'])\n",
    "df['z (regular trees)'] = y_pred_normal\n",
    "df['z (linear trees)'] = y_pred_linear\n",
    "df.sort_values('theta').set_index('theta').plot(lw=3)\n",
    "plt.plot(X, y, label='z (original data)', alpha=0.7, linestyle='--')\n",
    "plt.ylabel('z')\n",
    "plt.legend()\n",
    "plt.show()"
   ]
  },
  {
   "cell_type": "code",
   "execution_count": 16,
   "metadata": {},
   "outputs": [
    {
     "name": "stdout",
     "output_type": "stream",
     "text": [
      "Linear trees error: 0.186\n",
      "Normal trees error: 1.069\n"
     ]
    }
   ],
   "source": [
    "print(f\"Linear trees error: {round(mean_squared_error(y_test, y_pred_linear),3)}\")\n",
    "print(f\"Normal trees error: {round(mean_squared_error(y_test, y_pred_normal),3)}\")"
   ]
  }
 ],
 "metadata": {
  "kernelspec": {
   "display_name": "omlt",
   "language": "python",
   "name": "python3"
  },
  "language_info": {
   "codemirror_mode": {
    "name": "ipython",
    "version": 3
   },
   "file_extension": ".py",
   "mimetype": "text/x-python",
   "name": "python",
   "nbconvert_exporter": "python",
   "pygments_lexer": "ipython3",
   "version": "3.9.7"
  },
  "orig_nbformat": 4,
  "vscode": {
   "interpreter": {
    "hash": "1350035cc40cae99d9ac3d7616956bcbe564bb24e49d70c7419fe84e0969da51"
   }
  }
 },
 "nbformat": 4,
 "nbformat_minor": 2
}
