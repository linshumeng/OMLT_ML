{
 "cells": [
  {
   "cell_type": "code",
   "execution_count": 109,
   "metadata": {},
   "outputs": [],
   "source": [
    "import lightgbm as lgb\n",
    "import numpy as np\n",
    "import matplotlib.pyplot as plt\n",
    "import pandas as pd\n",
    "from sklearn.model_selection import train_test_split\n",
    "from sklearn.metrics import mean_squared_error\n",
    "import pprint\n",
    "import onnxmltools.convert.lightgbm.convert\n",
    "from skl2onnx.common.data_types import FloatTensorType\n",
    "from onnxmltools.utils import save_model\n",
    "import onnxruntime as rt"
   ]
  },
  {
   "cell_type": "code",
   "execution_count": 110,
   "metadata": {},
   "outputs": [
    {
     "data": {
      "text/html": [
       "<div>\n",
       "<style scoped>\n",
       "    .dataframe tbody tr th:only-of-type {\n",
       "        vertical-align: middle;\n",
       "    }\n",
       "\n",
       "    .dataframe tbody tr th {\n",
       "        vertical-align: top;\n",
       "    }\n",
       "\n",
       "    .dataframe thead th {\n",
       "        text-align: right;\n",
       "    }\n",
       "</style>\n",
       "<table border=\"1\" class=\"dataframe\">\n",
       "  <thead>\n",
       "    <tr style=\"text-align: right;\">\n",
       "      <th></th>\n",
       "      <th>theta</th>\n",
       "      <th>z</th>\n",
       "      <th>u</th>\n",
       "    </tr>\n",
       "  </thead>\n",
       "  <tbody>\n",
       "    <tr>\n",
       "      <th>0</th>\n",
       "      <td>-20.0</td>\n",
       "      <td>-6.08</td>\n",
       "      <td>-3.92</td>\n",
       "    </tr>\n",
       "    <tr>\n",
       "      <th>1</th>\n",
       "      <td>-19.5</td>\n",
       "      <td>-5.58</td>\n",
       "      <td>-4.42</td>\n",
       "    </tr>\n",
       "    <tr>\n",
       "      <th>2</th>\n",
       "      <td>-19.1</td>\n",
       "      <td>-5.13</td>\n",
       "      <td>-4.87</td>\n",
       "    </tr>\n",
       "    <tr>\n",
       "      <th>3</th>\n",
       "      <td>-18.6</td>\n",
       "      <td>-4.71</td>\n",
       "      <td>-5.29</td>\n",
       "    </tr>\n",
       "    <tr>\n",
       "      <th>4</th>\n",
       "      <td>-18.1</td>\n",
       "      <td>-4.32</td>\n",
       "      <td>-5.68</td>\n",
       "    </tr>\n",
       "  </tbody>\n",
       "</table>\n",
       "</div>"
      ],
      "text/plain": [
       "   theta     z     u\n",
       "0  -20.0 -6.08 -3.92\n",
       "1  -19.5 -5.58 -4.42\n",
       "2  -19.1 -5.13 -4.87\n",
       "3  -18.6 -4.71 -5.29\n",
       "4  -18.1 -4.32 -5.68"
      ]
     },
     "execution_count": 110,
     "metadata": {},
     "output_type": "execute_result"
    }
   ],
   "source": [
    "df = pd.read_csv(\"..\\OMLT_ML\\data\\polynomial3.csv\")\n",
    "df.head()"
   ]
  },
  {
   "cell_type": "code",
   "execution_count": 111,
   "metadata": {},
   "outputs": [
    {
     "data": {
      "text/plain": [
       "((180, 1), (180, 1))"
      ]
     },
     "execution_count": 111,
     "metadata": {},
     "output_type": "execute_result"
    }
   ],
   "source": [
    "X = df[\"theta\"]\n",
    "y = df[\"z\"]\n",
    "\n",
    "# X = X.reset_index(drop = True)\n",
    "# y = y.reset_index(drop = True)\n",
    "\n",
    "X = X.to_numpy().reshape(-1, 1)\n",
    "y = y.to_numpy().reshape(-1, 1)\n",
    "\n",
    "X.shape, y.shape"
   ]
  },
  {
   "cell_type": "code",
   "execution_count": 112,
   "metadata": {},
   "outputs": [],
   "source": [
    "X_train, X_test, y_train, y_test = train_test_split(X, y, test_size=0.2, random_state=42)\n",
    "\n",
    "train_data_linear = lgb.Dataset(X_train, label=y_train)\n",
    "\n",
    "train_data_normal = lgb.Dataset(X_train, label=y_train)"
   ]
  },
  {
   "cell_type": "code",
   "execution_count": 113,
   "metadata": {},
   "outputs": [
    {
     "name": "stderr",
     "output_type": "stream",
     "text": [
      "c:\\Users\\shumengl\\.conda\\envs\\omlt\\lib\\site-packages\\lightgbm\\engine.py:177: UserWarning: Found `num_iterations` in params. Will use it instead of argument\n",
      "  _log_warning(f\"Found `{alias}` in params. Will use it instead of argument\")\n",
      "c:\\Users\\shumengl\\.conda\\envs\\omlt\\lib\\site-packages\\lightgbm\\basic.py:179: UserWarning: Converting column-vector to 1d array\n",
      "  _log_warning('Converting column-vector to 1d array')\n"
     ]
    }
   ],
   "source": [
    "params = {\n",
    "    \"objective\": \"regression\",\n",
    "    \"metric\": \"rmse\",\n",
    "    \"learning_rate\": 1,\n",
    "    # \"verbosity\": 2, # full log\n",
    "    \"verbosity\": -1,\n",
    "    'linear_tree': True,\n",
    "    'num_iterations': 5,\n",
    "}\n",
    "\n",
    "model_linear = lgb.train(params, train_data_linear)"
   ]
  },
  {
   "cell_type": "code",
   "execution_count": 114,
   "metadata": {},
   "outputs": [
    {
     "name": "stdout",
     "output_type": "stream",
     "text": [
      "Linear trees error: 0.795\n"
     ]
    }
   ],
   "source": [
    "y_pred_linear = model_linear.predict(X_test)\n",
    "print(f\"Linear trees error: {round(mean_squared_error(y_test, y_pred_linear),3)}\")\n",
    "y_linear = model_linear.predict(X)"
   ]
  },
  {
   "cell_type": "code",
   "execution_count": 115,
   "metadata": {},
   "outputs": [
    {
     "data": {
      "image/png": "[encoded data removed]",
      "text/plain": [
       "<Figure size 640x480 with 1 Axes>"
      ]
     },
     "metadata": {},
     "output_type": "display_data"
    }
   ],
   "source": [
    "# plotting results\n",
    "plt.scatter(X, y, label = 'z (original data)')\n",
    "plt.scatter(X, y_linear, label = 'z (linear)')\n",
    "plt.ylabel('z')\n",
    "plt.xlabel('theta')\n",
    "plt.legend()\n",
    "plt.show()"
   ]
  },
  {
   "cell_type": "code",
   "execution_count": 116,
   "metadata": {},
   "outputs": [
    {
     "name": "stdout",
     "output_type": "stream",
     "text": [
      "{'objective': 'regression', 'metric': 'rmse', 'learning_rate': 1, 'verbosity': -1, 'linear_tree': True, 'num_iterations': 5, 'early_stopping_round': None}\n"
     ]
    }
   ],
   "source": [
    "print(model_linear.params)"
   ]
  },
  {
   "cell_type": "code",
   "execution_count": 117,
   "metadata": {},
   "outputs": [
    {
     "data": {
      "image/svg+xml": "<?xml version=\"1.0\" encoding=\"UTF-8\" standalone=\"no\"?>\n<!DOCTYPE svg PUBLIC \"-//W3C//DTD SVG 1.1//EN\"\n \"http://www.w3.org/Graphics/SVG/1.1/DTD/svg11.dtd\">\n<!-- Generated by graphviz version 3.0.0 (20220226.1711)\n -->\n<!-- Pages: 1 -->\n<svg width=\"820pt\" height=\"144pt\"\n viewBox=\"0.00 0.00 819.59 144.00\" xmlns=\"http://www.w3.org/2000/svg\" xmlns:xlink=\"http://www.w3.org/1999/xlink\">\n<g id=\"graph0\" class=\"graph\" transform=\"scale(1 1) rotate(0) translate(4 140)\">\n<polygon fill=\"white\" stroke=\"transparent\" points=\"-4,4 -4,-140 815.59,-140 815.59,4 -4,4\"/>\n<!-- split0 -->\n<g id=\"node1\" class=\"node\">\n<title>split0</title>\n<polygon fill=\"none\" stroke=\"black\" points=\"126,-116 0,-116 0,-80 126,-80 126,-116\"/>\n<text text-anchor=\"start\" x=\"8\" y=\"-95.3\" font-family=\"Times New Roman,serif\" font-weight=\"bold\" font-size=\"14.00\">Column_0</text>\n<text text-anchor=\"start\" x=\"72\" y=\"-95.3\" font-family=\"Times New Roman,serif\" font-size=\"14.00\"> ≤</text>\n<text text-anchor=\"start\" x=\"84\" y=\"-95.3\" font-family=\"Times New Roman,serif\" font-weight=\"bold\" font-size=\"14.00\">3.505</text>\n</g>\n<!-- leaf0 -->\n<g id=\"node2\" class=\"node\">\n<title>leaf0</title>\n<ellipse fill=\"none\" stroke=\"black\" cx=\"234\" cy=\"-118\" rx=\"59.59\" ry=\"18\"/>\n<text text-anchor=\"start\" x=\"196\" y=\"-115.3\" font-family=\"Times New Roman,serif\" font-size=\"14.00\">leaf 0: </text>\n<text text-anchor=\"start\" x=\"233\" y=\"-115.3\" font-family=\"Times New Roman,serif\" font-weight=\"bold\" font-size=\"14.00\">&#45;0.120</text>\n</g>\n<!-- split0&#45;&gt;leaf0 -->\n<g id=\"edge1\" class=\"edge\">\n<title>split0&#45;&gt;leaf0</title>\n<path fill=\"none\" stroke=\"black\" d=\"M126.45,-105.39C139.94,-106.99 154.23,-108.68 167.82,-110.29\"/>\n<polygon fill=\"black\" stroke=\"black\" points=\"167.7,-113.8 178.05,-111.5 168.53,-106.85 167.7,-113.8\"/>\n<text text-anchor=\"middle\" x=\"146.5\" y=\"-111.8\" font-family=\"Times New Roman,serif\" font-size=\"14.00\">yes</text>\n</g>\n<!-- split1 -->\n<g id=\"node3\" class=\"node\">\n<title>split1</title>\n<polygon fill=\"none\" stroke=\"black\" points=\"301,-96 167,-96 167,-60 301,-60 301,-96\"/>\n<text text-anchor=\"start\" x=\"175\" y=\"-75.3\" font-family=\"Times New Roman,serif\" font-weight=\"bold\" font-size=\"14.00\">Column_0</text>\n<text text-anchor=\"start\" x=\"239\" y=\"-75.3\" font-family=\"Times New Roman,serif\" font-size=\"14.00\"> ≤</text>\n<text text-anchor=\"start\" x=\"251\" y=\"-75.3\" font-family=\"Times New Roman,serif\" font-weight=\"bold\" font-size=\"14.00\">17.050</text>\n</g>\n<!-- split0&#45;&gt;split1 -->\n<g id=\"edge8\" class=\"edge\">\n<title>split0&#45;&gt;split1</title>\n<path fill=\"none\" stroke=\"black\" d=\"M126.45,-90.61C136.32,-89.44 146.63,-88.22 156.77,-87.02\"/>\n<polygon fill=\"black\" stroke=\"black\" points=\"157.32,-90.48 166.84,-85.83 156.5,-83.53 157.32,-90.48\"/>\n<text text-anchor=\"middle\" x=\"146.5\" y=\"-92.8\" font-family=\"Times New Roman,serif\" font-size=\"14.00\">no</text>\n</g>\n<!-- leaf1 -->\n<g id=\"node4\" class=\"node\">\n<title>leaf1</title>\n<ellipse fill=\"none\" stroke=\"black\" cx=\"409\" cy=\"-98\" rx=\"56.59\" ry=\"18\"/>\n<text text-anchor=\"start\" x=\"373.5\" y=\"-95.3\" font-family=\"Times New Roman,serif\" font-size=\"14.00\">leaf 1: </text>\n<text text-anchor=\"start\" x=\"410.5\" y=\"-95.3\" font-family=\"Times New Roman,serif\" font-weight=\"bold\" font-size=\"14.00\">0.382</text>\n</g>\n<!-- split1&#45;&gt;leaf1 -->\n<g id=\"edge2\" class=\"edge\">\n<title>split1&#45;&gt;leaf1</title>\n<path fill=\"none\" stroke=\"black\" d=\"M301.39,-85.68C315.81,-87.34 331.01,-89.1 345.28,-90.75\"/>\n<polygon fill=\"black\" stroke=\"black\" points=\"345.14,-94.26 355.48,-91.93 345.95,-87.3 345.14,-94.26\"/>\n<text text-anchor=\"middle\" x=\"321.5\" y=\"-91.8\" font-family=\"Times New Roman,serif\" font-size=\"14.00\">yes</text>\n</g>\n<!-- split2 -->\n<g id=\"node5\" class=\"node\">\n<title>split2</title>\n<polygon fill=\"none\" stroke=\"black\" points=\"476,-76 342,-76 342,-40 476,-40 476,-76\"/>\n<text text-anchor=\"start\" x=\"350\" y=\"-55.3\" font-family=\"Times New Roman,serif\" font-weight=\"bold\" font-size=\"14.00\">Column_0</text>\n<text text-anchor=\"start\" x=\"414\" y=\"-55.3\" font-family=\"Times New Roman,serif\" font-size=\"14.00\"> ≤</text>\n<text text-anchor=\"start\" x=\"426\" y=\"-55.3\" font-family=\"Times New Roman,serif\" font-weight=\"bold\" font-size=\"14.00\">31.750</text>\n</g>\n<!-- split1&#45;&gt;split2 -->\n<g id=\"edge7\" class=\"edge\">\n<title>split1&#45;&gt;split2</title>\n<path fill=\"none\" stroke=\"black\" d=\"M301.39,-70.32C311.33,-69.18 321.63,-67.98 331.75,-66.81\"/>\n<polygon fill=\"black\" stroke=\"black\" points=\"332.25,-70.28 341.79,-65.65 331.45,-63.33 332.25,-70.28\"/>\n<text text-anchor=\"middle\" x=\"321.5\" y=\"-71.8\" font-family=\"Times New Roman,serif\" font-size=\"14.00\">no</text>\n</g>\n<!-- leaf2 -->\n<g id=\"node6\" class=\"node\">\n<title>leaf2</title>\n<ellipse fill=\"none\" stroke=\"black\" cx=\"584\" cy=\"-78\" rx=\"59.59\" ry=\"18\"/>\n<text text-anchor=\"start\" x=\"546\" y=\"-75.3\" font-family=\"Times New Roman,serif\" font-size=\"14.00\">leaf 2: </text>\n<text text-anchor=\"start\" x=\"583\" y=\"-75.3\" font-family=\"Times New Roman,serif\" font-weight=\"bold\" font-size=\"14.00\">&#45;0.127</text>\n</g>\n<!-- split2&#45;&gt;leaf2 -->\n<g id=\"edge3\" class=\"edge\">\n<title>split2&#45;&gt;leaf2</title>\n<path fill=\"none\" stroke=\"black\" d=\"M476.39,-65.68C489.98,-67.25 504.28,-68.9 517.82,-70.47\"/>\n<polygon fill=\"black\" stroke=\"black\" points=\"517.68,-73.97 528.02,-71.64 518.48,-67.02 517.68,-73.97\"/>\n<text text-anchor=\"middle\" x=\"496.5\" y=\"-71.8\" font-family=\"Times New Roman,serif\" font-size=\"14.00\">yes</text>\n</g>\n<!-- split3 -->\n<g id=\"node7\" class=\"node\">\n<title>split3</title>\n<polygon fill=\"none\" stroke=\"black\" points=\"651,-56 517,-56 517,-20 651,-20 651,-56\"/>\n<text text-anchor=\"start\" x=\"525\" y=\"-35.3\" font-family=\"Times New Roman,serif\" font-weight=\"bold\" font-size=\"14.00\">Column_0</text>\n<text text-anchor=\"start\" x=\"589\" y=\"-35.3\" font-family=\"Times New Roman,serif\" font-size=\"14.00\"> ≤</text>\n<text text-anchor=\"start\" x=\"601\" y=\"-35.3\" font-family=\"Times New Roman,serif\" font-weight=\"bold\" font-size=\"14.00\">52.650</text>\n</g>\n<!-- split2&#45;&gt;split3 -->\n<g id=\"edge6\" class=\"edge\">\n<title>split2&#45;&gt;split3</title>\n<path fill=\"none\" stroke=\"black\" d=\"M476.39,-50.32C486.33,-49.18 496.63,-47.98 506.75,-46.81\"/>\n<polygon fill=\"black\" stroke=\"black\" points=\"507.25,-50.28 516.79,-45.65 506.45,-43.33 507.25,-50.28\"/>\n<text text-anchor=\"middle\" x=\"496.5\" y=\"-51.8\" font-family=\"Times New Roman,serif\" font-size=\"14.00\">no</text>\n</g>\n<!-- leaf3 -->\n<g id=\"node8\" class=\"node\">\n<title>leaf3</title>\n<ellipse fill=\"none\" stroke=\"black\" cx=\"751.79\" cy=\"-58\" rx=\"56.59\" ry=\"18\"/>\n<text text-anchor=\"start\" x=\"716.29\" y=\"-55.3\" font-family=\"Times New Roman,serif\" font-size=\"14.00\">leaf 3: </text>\n<text text-anchor=\"start\" x=\"753.29\" y=\"-55.3\" font-family=\"Times New Roman,serif\" font-weight=\"bold\" font-size=\"14.00\">0.042</text>\n</g>\n<!-- split3&#45;&gt;leaf3 -->\n<g id=\"edge4\" class=\"edge\">\n<title>split3&#45;&gt;leaf3</title>\n<path fill=\"none\" stroke=\"black\" d=\"M651,-45.96C663.35,-47.45 676.22,-49 688.45,-50.48\"/>\n<polygon fill=\"black\" stroke=\"black\" points=\"688.2,-53.97 698.55,-51.7 689.04,-47.02 688.2,-53.97\"/>\n<text text-anchor=\"middle\" x=\"671.5\" y=\"-52.8\" font-family=\"Times New Roman,serif\" font-size=\"14.00\">yes</text>\n</g>\n<!-- leaf4 -->\n<g id=\"node9\" class=\"node\">\n<title>leaf4</title>\n<ellipse fill=\"none\" stroke=\"black\" cx=\"751.79\" cy=\"-18\" rx=\"59.59\" ry=\"18\"/>\n<text text-anchor=\"start\" x=\"713.79\" y=\"-15.3\" font-family=\"Times New Roman,serif\" font-size=\"14.00\">leaf 4: </text>\n<text text-anchor=\"start\" x=\"750.79\" y=\"-15.3\" font-family=\"Times New Roman,serif\" font-weight=\"bold\" font-size=\"14.00\">&#45;0.051</text>\n</g>\n<!-- split3&#45;&gt;leaf4 -->\n<g id=\"edge5\" class=\"edge\">\n<title>split3&#45;&gt;leaf4</title>\n<path fill=\"none\" stroke=\"black\" d=\"M651,-30.04C662.53,-28.65 674.51,-27.2 686,-25.82\"/>\n<polygon fill=\"black\" stroke=\"black\" points=\"686.44,-29.29 695.95,-24.62 685.6,-22.34 686.44,-29.29\"/>\n<text text-anchor=\"middle\" x=\"671.5\" y=\"-31.8\" font-family=\"Times New Roman,serif\" font-size=\"14.00\">no</text>\n</g>\n</g>\n</svg>\n",
      "text/plain": [
       "<graphviz.graphs.Digraph at 0x270288dc100>"
      ]
     },
     "execution_count": 117,
     "metadata": {},
     "output_type": "execute_result"
    }
   ],
   "source": [
    "# extra step to allow graphviz to be found \n",
    "import os\n",
    "os.environ[\"PATH\"] += os.pathsep + 'C:\\Program Files\\Graphviz\\\\bin'\n",
    "# lgb.plot_tree(model_linear)\n",
    "# for i in range(params['num_iterations']):\n",
    "p = lgb.create_tree_digraph(model_linear, params['num_iterations']-1)\n",
    "p"
   ]
  },
  {
   "cell_type": "code",
   "execution_count": 118,
   "metadata": {},
   "outputs": [
    {
     "data": {
      "text/plain": [
       "<lightgbm.basic.Booster at 0x270285de9d0>"
      ]
     },
     "execution_count": 118,
     "metadata": {},
     "output_type": "execute_result"
    }
   ],
   "source": [
    "model_linear.save_model('model.txt')"
   ]
  },
  {
   "cell_type": "code",
   "execution_count": 119,
   "metadata": {},
   "outputs": [
    {
     "name": "stderr",
     "output_type": "stream",
     "text": [
      "The maximum opset needed by this model is only 8.\n"
     ]
    }
   ],
   "source": [
    "initial_type = [('float_input', FloatTensorType([None, 1]))]\n",
    "onx = onnxmltools.convert.lightgbm.convert(model_linear, initial_types=initial_type)\n",
    "save_model(onx, \"model_linear.onnx\")"
   ]
  },
  {
   "cell_type": "code",
   "execution_count": 120,
   "metadata": {},
   "outputs": [
    {
     "name": "stdout",
     "output_type": "stream",
     "text": [
      "input name float_input\n",
      "input shape [None, 1]\n",
      "input type tensor(float)\n",
      "output name variable\n",
      "output shape [None, 1]\n",
      "output type tensor(float)\n"
     ]
    }
   ],
   "source": [
    "sess = rt.InferenceSession(\"model_linear.onnx\")\n",
    "input_name = sess.get_inputs()[0].name\n",
    "print(\"input name\", input_name)\n",
    "input_shape = sess.get_inputs()[0].shape\n",
    "print(\"input shape\", input_shape)\n",
    "input_type = sess.get_inputs()[0].type\n",
    "print(\"input type\", input_type)\n",
    "output_name = sess.get_outputs()[0].name\n",
    "print(\"output name\", output_name)\n",
    "output_shape = sess.get_outputs()[0].shape\n",
    "print(\"output shape\", output_shape)\n",
    "output_type = sess.get_outputs()[0].type\n",
    "print(\"output type\", output_type)"
   ]
  },
  {
   "cell_type": "code",
   "execution_count": 121,
   "metadata": {},
   "outputs": [
    {
     "data": {
      "text/plain": [
       "[array([[-1.5309057 ],\n",
       "        [-1.5309057 ],\n",
       "        [-1.5309057 ],\n",
       "        [-1.5309057 ],\n",
       "        [-1.5309057 ],\n",
       "        [-1.5309057 ],\n",
       "        [-1.5309057 ],\n",
       "        [-1.5309057 ],\n",
       "        [-1.5309057 ],\n",
       "        [-1.5309057 ],\n",
       "        [-1.5309057 ],\n",
       "        [-1.5309057 ],\n",
       "        [-1.5309057 ],\n",
       "        [-1.5309057 ],\n",
       "        [-1.5309057 ],\n",
       "        [-1.5309057 ],\n",
       "        [-1.5309057 ],\n",
       "        [-1.5309057 ],\n",
       "        [-1.5309057 ],\n",
       "        [-1.5309057 ],\n",
       "        [-1.5309057 ],\n",
       "        [-1.5309057 ],\n",
       "        [-1.5309057 ],\n",
       "        [-1.5309057 ],\n",
       "        [-1.5309057 ],\n",
       "        [-1.5309057 ],\n",
       "        [-1.5309057 ],\n",
       "        [-0.62582254],\n",
       "        [-0.62582254],\n",
       "        [-0.62582254],\n",
       "        [-0.62582254],\n",
       "        [-0.62582254],\n",
       "        [-0.62582254],\n",
       "        [-0.62582254],\n",
       "        [-0.62582254],\n",
       "        [-0.62582254],\n",
       "        [-0.62582254],\n",
       "        [-0.62582254],\n",
       "        [-0.62582254],\n",
       "        [-0.62582254],\n",
       "        [-0.62582254],\n",
       "        [-1.6089697 ],\n",
       "        [-1.6089697 ],\n",
       "        [-1.6089697 ],\n",
       "        [-1.6089697 ],\n",
       "        [-1.6089697 ],\n",
       "        [-1.6089697 ],\n",
       "        [-1.6089697 ],\n",
       "        [-1.6089697 ],\n",
       "        [-1.6089697 ],\n",
       "        [-2.716723  ],\n",
       "        [-2.716723  ],\n",
       "        [-2.716723  ],\n",
       "        [-2.716723  ],\n",
       "        [-2.1544788 ],\n",
       "        [-2.1544788 ],\n",
       "        [-2.1544788 ],\n",
       "        [-2.1544788 ],\n",
       "        [-2.1544788 ],\n",
       "        [-2.1544788 ],\n",
       "        [-2.1544788 ],\n",
       "        [-2.1544788 ],\n",
       "        [-2.1544788 ],\n",
       "        [-2.1544788 ],\n",
       "        [-2.1544788 ],\n",
       "        [-2.1544788 ],\n",
       "        [-2.1544788 ],\n",
       "        [-2.1544788 ],\n",
       "        [-2.1544788 ],\n",
       "        [-2.1544788 ],\n",
       "        [-2.1544788 ],\n",
       "        [-2.1544788 ],\n",
       "        [-2.1544788 ],\n",
       "        [-2.1544788 ],\n",
       "        [-2.1544788 ],\n",
       "        [-1.0259961 ],\n",
       "        [-1.0259961 ],\n",
       "        [-1.0259961 ],\n",
       "        [-1.0259961 ],\n",
       "        [ 4.767632  ],\n",
       "        [ 4.767632  ],\n",
       "        [ 4.767632  ],\n",
       "        [ 4.465607  ],\n",
       "        [ 4.465607  ],\n",
       "        [ 4.465607  ],\n",
       "        [ 4.465607  ],\n",
       "        [ 4.465607  ],\n",
       "        [ 4.465607  ],\n",
       "        [ 4.465607  ],\n",
       "        [ 4.465607  ],\n",
       "        [ 4.465607  ],\n",
       "        [ 4.465607  ],\n",
       "        [ 4.465607  ],\n",
       "        [ 4.465607  ],\n",
       "        [ 4.465607  ],\n",
       "        [ 6.0538325 ],\n",
       "        [ 6.0538325 ],\n",
       "        [ 6.0538325 ],\n",
       "        [ 6.0538325 ],\n",
       "        [ 6.0538325 ],\n",
       "        [ 5.6363997 ],\n",
       "        [ 5.6363997 ],\n",
       "        [ 5.6363997 ],\n",
       "        [ 5.6363997 ],\n",
       "        [ 5.6363997 ],\n",
       "        [ 5.6363997 ],\n",
       "        [ 5.7072463 ],\n",
       "        [ 5.7072463 ],\n",
       "        [ 5.7072463 ],\n",
       "        [ 5.8753996 ],\n",
       "        [ 5.8753996 ],\n",
       "        [ 5.8753996 ],\n",
       "        [ 5.8753996 ],\n",
       "        [ 5.8753996 ],\n",
       "        [ 5.8753996 ],\n",
       "        [ 5.8753996 ],\n",
       "        [ 5.8753996 ],\n",
       "        [ 5.8753996 ],\n",
       "        [ 5.8753996 ],\n",
       "        [ 5.8753996 ],\n",
       "        [ 5.8753996 ],\n",
       "        [ 5.8753996 ],\n",
       "        [ 5.8753996 ],\n",
       "        [ 5.8753996 ],\n",
       "        [ 5.8753996 ],\n",
       "        [ 5.8753996 ],\n",
       "        [ 7.6537657 ],\n",
       "        [ 7.6537657 ],\n",
       "        [ 7.6537657 ],\n",
       "        [ 7.6537657 ],\n",
       "        [ 7.6537657 ],\n",
       "        [ 7.6537657 ],\n",
       "        [ 7.6537657 ],\n",
       "        [ 7.6537657 ],\n",
       "        [ 7.6537657 ],\n",
       "        [ 7.6537657 ],\n",
       "        [ 7.6537657 ],\n",
       "        [ 7.6537657 ],\n",
       "        [ 7.6537657 ],\n",
       "        [ 7.6537657 ],\n",
       "        [ 7.6537657 ],\n",
       "        [ 7.6537657 ],\n",
       "        [ 7.6537657 ],\n",
       "        [ 7.6537657 ],\n",
       "        [ 7.6537657 ],\n",
       "        [ 7.6537657 ],\n",
       "        [ 7.6537657 ],\n",
       "        [ 7.6537657 ],\n",
       "        [ 7.6537657 ],\n",
       "        [ 7.6537657 ],\n",
       "        [ 7.6537657 ],\n",
       "        [ 7.6537657 ],\n",
       "        [ 7.6537657 ],\n",
       "        [ 8.962541  ],\n",
       "        [ 8.962541  ],\n",
       "        [ 8.962541  ],\n",
       "        [ 8.962541  ],\n",
       "        [ 9.268303  ],\n",
       "        [ 9.268303  ],\n",
       "        [ 9.268303  ],\n",
       "        [ 9.268303  ],\n",
       "        [ 9.268303  ],\n",
       "        [ 9.268303  ],\n",
       "        [ 9.268303  ],\n",
       "        [ 9.268303  ],\n",
       "        [ 9.268303  ],\n",
       "        [ 9.268303  ],\n",
       "        [ 9.268303  ],\n",
       "        [ 9.268303  ],\n",
       "        [ 9.268303  ],\n",
       "        [ 9.268303  ],\n",
       "        [ 9.268303  ],\n",
       "        [ 9.268303  ],\n",
       "        [ 9.268303  ],\n",
       "        [ 9.268303  ],\n",
       "        [ 9.268303  ],\n",
       "        [ 9.268303  ],\n",
       "        [ 9.268303  ],\n",
       "        [ 9.268303  ],\n",
       "        [ 9.268303  ]], dtype=float32)]"
      ]
     },
     "execution_count": 121,
     "metadata": {},
     "output_type": "execute_result"
    }
   ],
   "source": [
    "pred_onx = sess.run([output_name], {input_name: X.astype(np.float32)})\n",
    "pred_onx"
   ]
  },
  {
   "cell_type": "code",
   "execution_count": null,
   "metadata": {},
   "outputs": [],
   "source": []
  }
 ],
 "metadata": {
  "kernelspec": {
   "display_name": "omlt",
   "language": "python",
   "name": "python3"
  },
  "language_info": {
   "codemirror_mode": {
    "name": "ipython",
    "version": 3
   },
   "file_extension": ".py",
   "mimetype": "text/x-python",
   "name": "python",
   "nbconvert_exporter": "python",
   "pygments_lexer": "ipython3",
   "version": "3.9.7"
  },
  "orig_nbformat": 4,
  "vscode": {
   "interpreter": {
    "hash": "1350035cc40cae99d9ac3d7616956bcbe564bb24e49d70c7419fe84e0969da51"
   }
  }
 },
 "nbformat": 4,
 "nbformat_minor": 2
}
