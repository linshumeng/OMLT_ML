{
 "cells": [
  {
   "cell_type": "code",
   "execution_count": 298,
   "metadata": {},
   "outputs": [],
   "source": [
    "import lightgbm as lgb\n",
    "import numpy as np\n",
    "import matplotlib.pyplot as plt\n",
    "import pandas as pd\n",
    "\n",
    "from sklearn.model_selection import train_test_split\n",
    "\n",
    "from sklearn.metrics import mean_squared_error\n",
    "\n",
    "import pprint"
   ]
  },
  {
   "cell_type": "code",
   "execution_count": 299,
   "metadata": {},
   "outputs": [
    {
     "data": {
      "text/html": [
       "<div>\n",
       "<style scoped>\n",
       "    .dataframe tbody tr th:only-of-type {\n",
       "        vertical-align: middle;\n",
       "    }\n",
       "\n",
       "    .dataframe tbody tr th {\n",
       "        vertical-align: top;\n",
       "    }\n",
       "\n",
       "    .dataframe thead th {\n",
       "        text-align: right;\n",
       "    }\n",
       "</style>\n",
       "<table border=\"1\" class=\"dataframe\">\n",
       "  <thead>\n",
       "    <tr style=\"text-align: right;\">\n",
       "      <th></th>\n",
       "      <th>theta</th>\n",
       "      <th>z</th>\n",
       "      <th>u</th>\n",
       "    </tr>\n",
       "  </thead>\n",
       "  <tbody>\n",
       "    <tr>\n",
       "      <th>0</th>\n",
       "      <td>-20.0</td>\n",
       "      <td>-6.08</td>\n",
       "      <td>-3.92</td>\n",
       "    </tr>\n",
       "    <tr>\n",
       "      <th>1</th>\n",
       "      <td>-19.5</td>\n",
       "      <td>-5.58</td>\n",
       "      <td>-4.42</td>\n",
       "    </tr>\n",
       "    <tr>\n",
       "      <th>2</th>\n",
       "      <td>-19.1</td>\n",
       "      <td>-5.13</td>\n",
       "      <td>-4.87</td>\n",
       "    </tr>\n",
       "    <tr>\n",
       "      <th>3</th>\n",
       "      <td>-18.6</td>\n",
       "      <td>-4.71</td>\n",
       "      <td>-5.29</td>\n",
       "    </tr>\n",
       "    <tr>\n",
       "      <th>4</th>\n",
       "      <td>-18.1</td>\n",
       "      <td>-4.32</td>\n",
       "      <td>-5.68</td>\n",
       "    </tr>\n",
       "  </tbody>\n",
       "</table>\n",
       "</div>"
      ],
      "text/plain": [
       "   theta     z     u\n",
       "0  -20.0 -6.08 -3.92\n",
       "1  -19.5 -5.58 -4.42\n",
       "2  -19.1 -5.13 -4.87\n",
       "3  -18.6 -4.71 -5.29\n",
       "4  -18.1 -4.32 -5.68"
      ]
     },
     "execution_count": 299,
     "metadata": {},
     "output_type": "execute_result"
    }
   ],
   "source": [
    "df = pd.read_csv(\"..\\OMLT_ML\\data\\polynomial3.csv\")\n",
    "df.head()"
   ]
  },
  {
   "cell_type": "code",
   "execution_count": 300,
   "metadata": {},
   "outputs": [],
   "source": [
    "X = df[\"theta\"]\n",
    "y = df[\"z\"]\n",
    "\n",
    "X = X.reset_index(drop = True)\n",
    "y = y.reset_index(drop = True)\n",
    "\n",
    "X = X.to_numpy().reshape(-1, 1)\n",
    "y = y.to_numpy().reshape(-1, 1)"
   ]
  },
  {
   "cell_type": "code",
   "execution_count": 301,
   "metadata": {},
   "outputs": [
    {
     "data": {
      "text/plain": [
       "((180, 1), (180, 1))"
      ]
     },
     "execution_count": 301,
     "metadata": {},
     "output_type": "execute_result"
    }
   ],
   "source": [
    "X.shape, y.shape"
   ]
  },
  {
   "cell_type": "code",
   "execution_count": 302,
   "metadata": {},
   "outputs": [],
   "source": [
    "X_train, X_test, y_train, y_test = train_test_split(X, y, test_size=0.3, random_state=2)\n",
    "\n",
    "train_data_linear = lgb.Dataset(X_train, label=y_train,\n",
    "                        params={\n",
    "                            'linear_tree': True\n",
    "                        })\n",
    "\n",
    "train_data_normal = lgb.Dataset(X_train, label=y_train)"
   ]
  },
  {
   "cell_type": "code",
   "execution_count": 303,
   "metadata": {},
   "outputs": [
    {
     "name": "stderr",
     "output_type": "stream",
     "text": [
      "c:\\Users\\shumengl\\.conda\\envs\\omlt\\lib\\site-packages\\lightgbm\\basic.py:154: UserWarning: Converting column-vector to 1d array\n",
      "  _log_warning('Converting column-vector to 1d array')\n"
     ]
    }
   ],
   "source": [
    "params = {\n",
    "    \"objective\": \"regression\",\n",
    "    \"metric\": \"rmse\",\n",
    "    \"max_depth\": 6,\n",
    "    \"num_leaves\": 30,\n",
    "    \"learning_rate\": 1,\n",
    "    \"verbosity\": -1\n",
    "}\n",
    "\n",
    "model_linear = lgb.train(params, train_data_linear)\n",
    "model_normal = lgb.train(params, train_data_normal)"
   ]
  },
  {
   "cell_type": "code",
   "execution_count": 304,
   "metadata": {},
   "outputs": [],
   "source": [
    "y_pred_linear = model_linear.predict(X_test, num_iteration=model_linear.best_iteration)\n",
    "y_pred_normal = model_normal.predict(X_test, num_iteration=model_normal.best_iteration)"
   ]
  },
  {
   "cell_type": "code",
   "execution_count": 305,
   "metadata": {},
   "outputs": [
    {
     "name": "stdout",
     "output_type": "stream",
     "text": [
      "Linear trees error: 0.116\n",
      "Normal trees error: 1.028\n"
     ]
    }
   ],
   "source": [
    "print(f\"Linear trees error: {round(mean_squared_error(y_test, y_pred_linear),3)}\")\n",
    "print(f\"Normal trees error: {round(mean_squared_error(y_test, y_pred_normal),3)}\")"
   ]
  },
  {
   "cell_type": "code",
   "execution_count": 306,
   "metadata": {},
   "outputs": [],
   "source": [
    "y_linear = model_linear.predict(X, num_iteration=model_linear.best_iteration)\n",
    "y_normal = model_normal.predict(X, num_iteration=model_linear.best_iteration)"
   ]
  },
  {
   "cell_type": "code",
   "execution_count": 307,
   "metadata": {},
   "outputs": [
    {
     "data": {
      "text/plain": [
       "array([-4.80995678, -4.61411197, -4.45743612, -4.26159131, -4.0657465 ,\n",
       "       -3.86990169, -3.71322584, -3.51738103, -3.32153621, -3.1256914 ,\n",
       "       -2.96901555, -2.77317074, -2.57732593, -2.38148112, -2.22480527,\n",
       "       -2.02896046, -1.83311565, -1.63727084, -1.48059499, -1.28475018,\n",
       "       -1.08890536, -0.89306055, -0.71680022, -0.5327061 , -0.34469508,\n",
       "       -0.16060096,  0.02741006,  0.21150418,  0.3995152 ,  0.58360932,\n",
       "        0.77162034,  0.95571447,  1.14372549,  0.72183879,  0.64734117,\n",
       "        0.57439559,  0.50145001,  0.97599744,  0.89378309,  0.80981949,\n",
       "        0.80390129,  0.7101698 ,  0.61720148,  0.0191293 , -0.13286583,\n",
       "       -0.28518096, -0.43557614, -0.58917122, -0.7395664 , -0.7405155 ,\n",
       "       -1.02968862, -1.32501436, -1.54204003, -1.59900282, -1.65477889,\n",
       "       -1.71174169, -1.76751775, -2.06468136, -2.11865859, -2.17378428,\n",
       "       -2.5671966 , -2.59678263, -2.62575228, -3.54149173, -3.484747  ,\n",
       "       -3.4256379 , -3.37835062, -3.31924152, -3.26013242, -3.68458637,\n",
       "       -3.61103773, -3.51910194, -3.72540771, -3.5782746 , -3.46056811,\n",
       "        1.0671321 ,  1.36599939,  1.66486668,  1.90396051,  3.72747903,\n",
       "        3.91706938,  4.10665973,  4.25833201,  4.11545682,  4.29231586,\n",
       "        4.4691749 ,  4.61066212,  4.35221413,  4.49821221,  4.6442103 ,\n",
       "        4.76100876,  4.47188282,  4.62111453,  4.77034625,  4.88973161,\n",
       "        5.03896333,  5.18819504,  5.04115191,  5.15608219,  5.29974504,\n",
       "        5.30265486,  5.40260357,  5.48256255,  5.42583691,  5.49476177,\n",
       "        5.56368663,  5.61882651,  5.71851852,  5.77116347,  5.82380841,\n",
       "        5.86592437,  6.02858622,  6.05867369,  6.08876116,  6.11283114,\n",
       "        6.14291862,  6.30329088,  6.30919009,  6.31390945,  6.50894324,\n",
       "        6.51388357,  6.51882389,  6.52277615,  6.52771648,  6.82893791,\n",
       "        6.83475411,  6.83940708,  6.84522328,  6.85103948,  7.14550523,\n",
       "        7.15979335,  7.1776535 ,  7.19551364,  7.21337379,  7.22766191,\n",
       "        7.44929476,  7.44959764,  7.44990051,  7.63832375,  7.63211295,\n",
       "        7.62590215,  7.81854877,  7.81914161,  7.81988267,  8.07772191,\n",
       "        8.05464592,  8.03618514,  8.01310916,  7.99003318,  8.17772877,\n",
       "        8.23014561,  8.29566665,  8.3611877 ,  8.42670874,  8.47912558,\n",
       "        8.54464662,  8.61016767,  8.67568871,  8.72810555,  8.7936266 ,\n",
       "        8.85914764,  8.92466869,  8.97708552,  9.04260657,  9.10812761,\n",
       "        9.17364866,  9.2260655 ,  9.29158654,  9.35710759,  9.42262863,\n",
       "        9.47504547,  9.54056651,  9.60608756,  9.6716086 ,  9.72402544,\n",
       "        9.78954649,  9.85506753,  9.92058858,  9.97300541, 10.03852646])"
      ]
     },
     "execution_count": 307,
     "metadata": {},
     "output_type": "execute_result"
    }
   ],
   "source": [
    "y_linear"
   ]
  },
  {
   "cell_type": "code",
   "execution_count": 308,
   "metadata": {},
   "outputs": [
    {
     "data": {
      "image/png": "[encoded data removed]",
      "text/plain": [
       "<Figure size 640x480 with 1 Axes>"
      ]
     },
     "metadata": {},
     "output_type": "display_data"
    }
   ],
   "source": [
    "# plotting results\n",
    "plt.scatter(X, y, label = 'z (original data)')\n",
    "plt.scatter(X, y_linear, label = 'z (linear)')\n",
    "# plt.scatter(X, y_normal, label = 'z (normal)')\n",
    "plt.ylabel('z')\n",
    "plt.xlabel('theta')\n",
    "plt.legend()\n",
    "plt.show()"
   ]
  },
  {
   "cell_type": "code",
   "execution_count": null,
   "metadata": {},
   "outputs": [],
   "source": []
  }
 ],
 "metadata": {
  "kernelspec": {
   "display_name": "omlt",
   "language": "python",
   "name": "python3"
  },
  "language_info": {
   "codemirror_mode": {
    "name": "ipython",
    "version": 3
   },
   "file_extension": ".py",
   "mimetype": "text/x-python",
   "name": "python",
   "nbconvert_exporter": "python",
   "pygments_lexer": "ipython3",
   "version": "3.9.7"
  },
  "orig_nbformat": 4,
  "vscode": {
   "interpreter": {
    "hash": "1350035cc40cae99d9ac3d7616956bcbe564bb24e49d70c7419fe84e0969da51"
   }
  }
 },
 "nbformat": 4,
 "nbformat_minor": 2
}
