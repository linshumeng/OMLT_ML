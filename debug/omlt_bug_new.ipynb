{
 "cells": [
  {
   "cell_type": "code",
   "execution_count": 1,
   "metadata": {},
   "outputs": [
    {
     "name": "stderr",
     "output_type": "stream",
     "text": [
      "<frozen importlib._bootstrap>:228: RuntimeWarning: scipy._lib.messagestream.MessageStream size changed, may indicate binary incompatibility. Expected 56 from C header, got 64 from PyObject\n"
     ]
    },
    {
     "name": "stdout",
     "output_type": "stream",
     "text": [
      "Warning for adding constraints: zero or small (< 1e-13) coefficients, ignored\n"
     ]
    },
    {
     "name": "stderr",
     "output_type": "stream",
     "text": [
      "c:\\Users\\shumengl\\.conda\\envs\\omlt\\lib\\site-packages\\sklearn\\ensemble\\_gb.py:494: DataConversionWarning: A column-vector y was passed when a 1d array was expected. Please change the shape of y to (n_samples, ), for example using ravel().\n",
      "  y = column_or_1d(y, warn=True)\n"
     ]
    },
    {
     "name": "stdout",
     "output_type": "stream",
     "text": [
      "Warning for adding constraints: zero or small (< 1e-13) coefficients, ignored\n",
      "Warning for adding constraints: zero or small (< 1e-13) coefficients, ignored\n",
      "Warning for adding constraints: zero or small (< 1e-13) coefficients, ignored\n",
      "Warning for adding constraints: zero or small (< 1e-13) coefficients, ignored\n",
      "Warning for adding constraints: zero or small (< 1e-13) coefficients, ignored\n",
      "Warning for adding constraints: zero or small (< 1e-13) coefficients, ignored\n",
      "Warning for adding constraints: zero or small (< 1e-13) coefficients, ignored\n",
      "Warning for adding constraints: zero or small (< 1e-13) coefficients, ignored\n",
      "Warning for adding constraints: zero or small (< 1e-13) coefficients, ignored\n",
      "Warning for adding constraints: zero or small (< 1e-13) coefficients, ignored\n",
      "Warning for adding constraints: zero or small (< 1e-13) coefficients, ignored\n",
      "Warning for adding constraints: zero or small (< 1e-13) coefficients, ignored\n",
      "Warning for adding constraints: zero or small (< 1e-13) coefficients, ignored\n",
      "Warning for adding constraints: zero or small (< 1e-13) coefficients, ignored\n",
      "Warning for adding constraints: zero or small (< 1e-13) coefficients, ignored\n",
      "Warning for adding constraints: zero or small (< 1e-13) coefficients, ignored\n",
      "Warning for adding constraints: zero or small (< 1e-13) coefficients, ignored\n",
      "Warning for adding constraints: zero or small (< 1e-13) coefficients, ignored\n",
      "Warning for adding constraints: zero or small (< 1e-13) coefficients, ignored\n",
      "Warning for adding constraints: zero or small (< 1e-13) coefficients, ignored\n",
      "Warning for adding constraints: zero or small (< 1e-13) coefficients, ignored\n",
      "Warning for adding constraints: zero or small (< 1e-13) coefficients, ignored\n",
      "Warning for adding constraints: zero or small (< 1e-13) coefficients, ignored\n",
      "Warning for adding constraints: zero or small (< 1e-13) coefficients, ignored\n",
      "Warning for adding constraints: zero or small (< 1e-13) coefficients, ignored\n",
      "Warning for adding constraints: zero or small (< 1e-13) coefficients, ignored\n",
      "Warning for adding constraints: zero or small (< 1e-13) coefficients, ignored\n",
      "Warning for adding constraints: zero or small (< 1e-13) coefficients, ignored\n",
      "Warning for adding constraints: zero or small (< 1e-13) coefficients, ignored\n",
      "Warning for adding constraints: zero or small (< 1e-13) coefficients, ignored\n",
      "Warning for adding constraints: zero or small (< 1e-13) coefficients, ignored\n",
      "Warning for adding constraints: zero or small (< 1e-13) coefficients, ignored\n",
      "Warning for adding constraints: zero or small (< 1e-13) coefficients, ignored\n",
      "Warning for adding constraints: zero or small (< 1e-13) coefficients, ignored\n",
      "Warning for adding constraints: zero or small (< 1e-13) coefficients, ignored\n",
      "Warning for adding constraints: zero or small (< 1e-13) coefficients, ignored\n",
      "Warning for adding constraints: zero or small (< 1e-13) coefficients, ignored\n",
      "Warning for adding constraints: zero or small (< 1e-13) coefficients, ignored\n",
      "Warning for adding constraints: zero or small (< 1e-13) coefficients, ignored\n",
      "Warning for adding constraints: zero or small (< 1e-13) coefficients, ignored\n",
      "Warning for adding constraints: zero or small (< 1e-13) coefficients, ignored\n",
      "Warning for adding constraints: zero or small (< 1e-13) coefficients, ignored\n",
      "Warning for adding constraints: zero or small (< 1e-13) coefficients, ignored\n",
      "Warning for adding constraints: zero or small (< 1e-13) coefficients, ignored\n",
      "Warning for adding constraints: zero or small (< 1e-13) coefficients, ignored\n",
      "Warning for adding constraints: zero or small (< 1e-13) coefficients, ignored\n",
      "Warning for adding constraints: zero or small (< 1e-13) coefficients, ignored\n",
      "Warning for adding constraints: zero or small (< 1e-13) coefficients, ignored\n",
      "Warning for adding constraints: zero or small (< 1e-13) coefficients, ignored\n",
      "[[ 21.59527278]\n",
      " [ 21.59527278]\n",
      " [ 14.10062091]\n",
      " [  9.23157393]\n",
      " [  4.07287765]\n",
      " [ -3.73361825]\n",
      " [-10.46021554]\n",
      " [-10.46021554]\n",
      " [-10.46021554]\n",
      " [-10.46021554]\n",
      " [-10.46021554]\n",
      " [-10.46021554]\n",
      " [-10.46021554]\n",
      " [-10.46021554]\n",
      " [-10.46021554]\n",
      " [-10.46021554]\n",
      " [-10.46021554]\n",
      " [-10.46021554]\n",
      " [ -7.44997832]\n",
      " [ -3.92982006]\n",
      " [  5.75666226]\n",
      " [ 11.09581973]\n",
      " [ 11.09581973]\n",
      " [ 11.09581973]\n",
      " [ 17.55710342]\n",
      " [ 33.08276206]\n",
      " [ 34.83781337]\n",
      " [ 36.71717474]\n",
      " [ 44.37283095]\n",
      " [ 49.71198842]\n",
      " [ 59.39847074]\n",
      " [ 59.39847074]\n",
      " [ 59.39847074]\n",
      " [ 59.39847074]\n",
      " [ 59.39847074]\n",
      " [ 59.39847074]\n",
      " [ 59.39847074]\n",
      " [ 59.39847074]\n",
      " [ 59.39847074]\n",
      " [ 59.39847074]\n",
      " [ 59.39847074]\n",
      " [ 59.39847074]\n",
      " [ 59.39847074]\n",
      " [ 59.39847074]\n",
      " [ 51.75363162]\n",
      " [ 43.94713572]\n",
      " [ 38.78843945]\n",
      " [ 36.3332565 ]\n",
      " [ 31.15776846]\n",
      " [ 31.15776846]]\n",
      "[21.59527277946472, 21.59527277946472, 14.100620746612549, 9.231573581695557, 4.072876930236816, -3.7336184978485107, -10.460216045379639, -10.460216045379639, -10.460216045379639, -10.460216045379639, -10.460216045379639, -10.460216045379639, -10.460216045379639, -10.460216045379639, -10.460216045379639, -10.46021604537964, -10.460216045379639, -10.460216045379639, -7.449978590011597, -3.9298200607299805, 5.756662607192993, 11.09581995010376, 11.09581995010376, 11.09581995010376, 17.55710342526436, 33.08276203274727, 34.837813287973404, 36.717174649238586, 44.372830867767334, 49.71198821067809, 59.398470878601074, 59.398470878601074, 59.398470878601074, 59.398470878601074, 59.398470878601074, 59.398470878601074, 59.398470878601074, 59.398470878601074, 59.398470878601074, 59.398470878601074, 59.39847087860108, 59.39847087860108, 59.39847087860108, 59.398470878601074, 51.753631830215454, 43.94713640213013, 38.78843975067139, 36.33325666189194, 31.157768428325653, 31.157768428325653]\n"
     ]
    },
    {
     "name": "stderr",
     "output_type": "stream",
     "text": [
      "No artists with labels found to put in legend.  Note that artists whose label start with an underscore are ignored when legend() is called with no argument.\n"
     ]
    },
    {
     "data": {
      "text/plain": [
       "<matplotlib.legend.Legend at 0x1df2f0facd0>"
      ]
     },
     "execution_count": 1,
     "metadata": {},
     "output_type": "execute_result"
    },
    {
     "data": {
      "image/png": "[encoded data removed]",
      "text/plain": [
       "<Figure size 640x480 with 1 Axes>"
      ]
     },
     "metadata": {},
     "output_type": "display_data"
    }
   ],
   "source": [
    "import numpy as np\n",
    "from sklearn.ensemble import GradientBoostingRegressor\n",
    "from skl2onnx import convert_sklearn\n",
    "from skl2onnx.common.data_types import FloatTensorType\n",
    "import pyomo.environ as pyo\n",
    "from omlt import OmltBlock\n",
    "from omlt.gbt import GBTBigMFormulation, GradientBoostedTreeModel\n",
    "import matplotlib.pyplot as plt\n",
    "\n",
    "# Train simple model\n",
    "x = np.linspace(-np.pi, np.pi).reshape(-1,1)\n",
    "y = 100*np.sin(x)+25\n",
    "\n",
    "model_gbt = GradientBoostingRegressor(n_estimators=5)\n",
    "model_gbt.fit(x, y)\n",
    "\n",
    "# Get predictions directly from model\n",
    "y_pred = model_gbt.predict(x).reshape(-1, 1)\n",
    "\n",
    "# Get predictions from pyomo formulation\n",
    "y_opt = []\n",
    "for i in x:\n",
    "    initial_type = [('float_input', FloatTensorType([None, 1]))]\n",
    "    model_onx = convert_sklearn(model_gbt, initial_types=initial_type)\n",
    "\n",
    "    m = pyo.ConcreteModel('Random GradientBoostingRegressor')\n",
    "\n",
    "    m.gbt = OmltBlock()\n",
    "    # Forces the input to equal the input from the previous prediction\n",
    "    input_bounds = {0: (-np.pi, np.pi)}\n",
    "    gbt_model = GradientBoostedTreeModel(\n",
    "        model_onx, scaled_input_bounds=input_bounds)\n",
    "\n",
    "    formulation = GBTBigMFormulation(gbt_model)\n",
    "    m.gbt.build_formulation(formulation)\n",
    "\n",
    "    m.obj = pyo.Objective(expr=0)\n",
    "    m.gbt.inputs[0].fix(i)\n",
    "\n",
    "    solver = pyo.SolverFactory(\"gurobi\", solver_io=\"python\")\n",
    "    status = solver.solve(m, tee=False)\n",
    "    y_opt.append(pyo.value(m.gbt.outputs[0]))\n",
    "\n",
    "print(y_pred)\n",
    "print(y_opt)\n",
    "# Plot predictions\n",
    "plt.plot(x,y_pred)\n",
    "plt.plot(x,y_opt)\n",
    "plt.legend()\n",
    "plt.title('Predictions')\n",
    "plt.legend(['Original model', 'Pyomo formulation'])\n"
   ]
  },
  {
   "cell_type": "code",
   "execution_count": null,
   "metadata": {},
   "outputs": [],
   "source": []
  }
 ],
 "metadata": {
  "kernelspec": {
   "display_name": "omlt",
   "language": "python",
   "name": "python3"
  },
  "language_info": {
   "codemirror_mode": {
    "name": "ipython",
    "version": 3
   },
   "file_extension": ".py",
   "mimetype": "text/x-python",
   "name": "python",
   "nbconvert_exporter": "python",
   "pygments_lexer": "ipython3",
   "version": "3.9.7"
  },
  "orig_nbformat": 4,
  "vscode": {
   "interpreter": {
    "hash": "1350035cc40cae99d9ac3d7616956bcbe564bb24e49d70c7419fe84e0969da51"
   }
  }
 },
 "nbformat": 4,
 "nbformat_minor": 2
}
