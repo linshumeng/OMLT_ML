{
 "cells": [
  {
   "cell_type": "code",
   "execution_count": 29,
   "metadata": {},
   "outputs": [],
   "source": [
    "from sklearn.datasets import make_regression\n",
    "from sklearn.ensemble import GradientBoostingRegressor\n",
    "from sklearn.model_selection import train_test_split\n",
    "import numpy as np\n",
    "import matplotlib.pyplot as plt\n",
    "import pandas as pd\n",
    "from sklearn.metrics import mean_squared_error\n",
    "import pprint\n",
    "from skl2onnx import convert_sklearn\n",
    "from skl2onnx.common.data_types import FloatTensorType\n",
    "from onnxmltools.utils import save_model\n",
    "import onnxruntime as rt\n",
    "import onnx\n",
    "import pyomo.environ as pe\n",
    "from omlt.block import OmltBlock\n",
    "from omlt.gbt import GBTBigMFormulation, GradientBoostedTreeModel"
   ]
  },
  {
   "cell_type": "code",
   "execution_count": 19,
   "metadata": {},
   "outputs": [
    {
     "data": {
      "text/html": [
       "<div>\n",
       "<style scoped>\n",
       "    .dataframe tbody tr th:only-of-type {\n",
       "        vertical-align: middle;\n",
       "    }\n",
       "\n",
       "    .dataframe tbody tr th {\n",
       "        vertical-align: top;\n",
       "    }\n",
       "\n",
       "    .dataframe thead th {\n",
       "        text-align: right;\n",
       "    }\n",
       "</style>\n",
       "<table border=\"1\" class=\"dataframe\">\n",
       "  <thead>\n",
       "    <tr style=\"text-align: right;\">\n",
       "      <th></th>\n",
       "      <th>theta</th>\n",
       "      <th>z</th>\n",
       "      <th>u</th>\n",
       "    </tr>\n",
       "  </thead>\n",
       "  <tbody>\n",
       "    <tr>\n",
       "      <th>0</th>\n",
       "      <td>-20.0</td>\n",
       "      <td>-6.08</td>\n",
       "      <td>-3.92</td>\n",
       "    </tr>\n",
       "    <tr>\n",
       "      <th>1</th>\n",
       "      <td>-19.5</td>\n",
       "      <td>-5.58</td>\n",
       "      <td>-4.42</td>\n",
       "    </tr>\n",
       "    <tr>\n",
       "      <th>2</th>\n",
       "      <td>-19.1</td>\n",
       "      <td>-5.13</td>\n",
       "      <td>-4.87</td>\n",
       "    </tr>\n",
       "    <tr>\n",
       "      <th>3</th>\n",
       "      <td>-18.6</td>\n",
       "      <td>-4.71</td>\n",
       "      <td>-5.29</td>\n",
       "    </tr>\n",
       "    <tr>\n",
       "      <th>4</th>\n",
       "      <td>-18.1</td>\n",
       "      <td>-4.32</td>\n",
       "      <td>-5.68</td>\n",
       "    </tr>\n",
       "  </tbody>\n",
       "</table>\n",
       "</div>"
      ],
      "text/plain": [
       "   theta     z     u\n",
       "0  -20.0 -6.08 -3.92\n",
       "1  -19.5 -5.58 -4.42\n",
       "2  -19.1 -5.13 -4.87\n",
       "3  -18.6 -4.71 -5.29\n",
       "4  -18.1 -4.32 -5.68"
      ]
     },
     "execution_count": 19,
     "metadata": {},
     "output_type": "execute_result"
    }
   ],
   "source": [
    "df = pd.read_csv(\"..\\OMLT_ML\\data\\polynomial3.csv\")\n",
    "df.head()"
   ]
  },
  {
   "cell_type": "code",
   "execution_count": 20,
   "metadata": {},
   "outputs": [
    {
     "data": {
      "text/plain": [
       "((180, 1), (180, 1))"
      ]
     },
     "execution_count": 20,
     "metadata": {},
     "output_type": "execute_result"
    }
   ],
   "source": [
    "X = df[\"theta\"]\n",
    "y = df[\"z\"]\n",
    "\n",
    "X = X.to_numpy().reshape(-1, 1)\n",
    "y = y.to_numpy().reshape(-1, 1)\n",
    "\n",
    "X.shape, y.shape"
   ]
  },
  {
   "cell_type": "code",
   "execution_count": 21,
   "metadata": {},
   "outputs": [
    {
     "name": "stderr",
     "output_type": "stream",
     "text": [
      "c:\\Users\\shumengl\\.conda\\envs\\omlt\\lib\\site-packages\\sklearn\\ensemble\\_gb.py:494: DataConversionWarning: A column-vector y was passed when a 1d array was expected. Please change the shape of y to (n_samples, ), for example using ravel().\n",
      "  y = column_or_1d(y, warn=True)\n"
     ]
    },
    {
     "data": {
      "text/plain": [
       "0.999373819339718"
      ]
     },
     "execution_count": 21,
     "metadata": {},
     "output_type": "execute_result"
    }
   ],
   "source": [
    "X_train, X_test, y_train, y_test = train_test_split(\n",
    "    X, y, test_size=0.2, random_state=42)\n",
    "reg = GradientBoostingRegressor()\n",
    "reg.fit(X_train, y_train)\n",
    "reg.predict(X_test)\n",
    "reg.score(X_test, y_test)"
   ]
  },
  {
   "cell_type": "code",
   "execution_count": 22,
   "metadata": {},
   "outputs": [],
   "source": [
    "y_pred = reg.predict(X)"
   ]
  },
  {
   "cell_type": "code",
   "execution_count": 23,
   "metadata": {},
   "outputs": [
    {
     "data": {
      "image/png": "[encoded data removed]",
      "text/plain": [
       "<Figure size 640x480 with 1 Axes>"
      ]
     },
     "metadata": {},
     "output_type": "display_data"
    }
   ],
   "source": [
    "# plotting results\n",
    "plt.scatter(X, y, label='z (original data)')\n",
    "plt.scatter(X, y_pred, label='z (sklearn)')\n",
    "plt.ylabel('z')\n",
    "plt.xlabel('theta')\n",
    "plt.legend()\n",
    "plt.show()"
   ]
  },
  {
   "cell_type": "code",
   "execution_count": 24,
   "metadata": {},
   "outputs": [],
   "source": [
    "initial_type = [('float_input', FloatTensorType([-1, 1]))]\n",
    "onx = convert_sklearn(reg, initial_types=initial_type)\n",
    "with open(\"./output/sklearn_boosting.onnx\", \"wb\") as f:\n",
    "    f.write(onx.SerializeToString())"
   ]
  },
  {
   "cell_type": "code",
   "execution_count": 25,
   "metadata": {},
   "outputs": [
    {
     "name": "stdout",
     "output_type": "stream",
     "text": [
      "input name float_input\n",
      "input shape [None, 1]\n",
      "input type tensor(float)\n",
      "output name variable\n",
      "output shape [None, 1]\n",
      "output type tensor(float)\n"
     ]
    },
    {
     "data": {
      "image/png": "[encoded data removed]",
      "text/plain": [
       "<Figure size 640x480 with 1 Axes>"
      ]
     },
     "metadata": {},
     "output_type": "display_data"
    }
   ],
   "source": [
    "sess = rt.InferenceSession(\"./output/sklearn_boosting.onnx\")\n",
    "input_name = sess.get_inputs()[0].name\n",
    "print(\"input name\", input_name)\n",
    "input_shape = sess.get_inputs()[0].shape\n",
    "print(\"input shape\", input_shape)\n",
    "input_type = sess.get_inputs()[0].type\n",
    "print(\"input type\", input_type)\n",
    "output_name = sess.get_outputs()[0].name\n",
    "print(\"output name\", output_name)\n",
    "output_shape = sess.get_outputs()[0].shape\n",
    "print(\"output shape\", output_shape)\n",
    "output_type = sess.get_outputs()[0].type\n",
    "print(\"output type\", output_type)\n",
    "pred_onx = sess.run([output_name], {input_name: X.astype(np.float32)})\n",
    "# plotting results\n",
    "plt.scatter(X, y, label = 'z (original data)')\n",
    "plt.scatter(X, pred_onx, label = 'z (onnx)')\n",
    "plt.ylabel('z')\n",
    "plt.xlabel('theta')\n",
    "plt.legend()\n",
    "plt.show()"
   ]
  },
  {
   "cell_type": "code",
   "execution_count": 31,
   "metadata": {},
   "outputs": [],
   "source": [
    "model_onnx = onnx.load('./output/sklearn_boosting.onnx')\n",
    "# model_onnx"
   ]
  },
  {
   "cell_type": "code",
   "execution_count": 34,
   "metadata": {},
   "outputs": [],
   "source": [
    "onnx_model = onx"
   ]
  },
  {
   "cell_type": "code",
   "execution_count": 41,
   "metadata": {},
   "outputs": [
    {
     "data": {
      "text/plain": [
       "[(-20.0, 65.0)]"
      ]
     },
     "execution_count": 41,
     "metadata": {},
     "output_type": "execute_result"
    }
   ],
   "source": [
    "f_bnds = [(float(min(X)), float(max(X))) for _ in range(1)]\n",
    "f_bnds"
   ]
  },
  {
   "cell_type": "code",
   "execution_count": 43,
   "metadata": {},
   "outputs": [],
   "source": [
    "opt_model = pe.ConcreteModel()\n",
    "opt_model.gbt = OmltBlock()\n",
    "gbt_model = GradientBoostedTreeModel(onnx_model, \n",
    "                                     scaled_input_bounds=f_bnds)\n",
    "\n",
    "# omlt uses a big-m formulation to encode the tree models\n",
    "formulation = GBTBigMFormulation(gbt_model)\n",
    "opt_model.gbt.build_formulation(formulation)"
   ]
  }
 ],
 "metadata": {
  "kernelspec": {
   "display_name": "omlt",
   "language": "python",
   "name": "python3"
  },
  "language_info": {
   "codemirror_mode": {
    "name": "ipython",
    "version": 3
   },
   "file_extension": ".py",
   "mimetype": "text/x-python",
   "name": "python",
   "nbconvert_exporter": "python",
   "pygments_lexer": "ipython3",
   "version": "3.9.7"
  },
  "orig_nbformat": 4,
  "vscode": {
   "interpreter": {
    "hash": "1350035cc40cae99d9ac3d7616956bcbe564bb24e49d70c7419fe84e0969da51"
   }
  }
 },
 "nbformat": 4,
 "nbformat_minor": 2
}
